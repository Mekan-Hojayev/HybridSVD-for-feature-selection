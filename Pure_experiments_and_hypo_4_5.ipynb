{
  "cells": [
    {
      "attachments": {},
      "cell_type": "markdown",
      "metadata": {
        "id": "s4ck9vGSijqN"
      },
      "source": [
        "# First lets import packgages and generate our data for PureSVD"
      ]
    },
    {
      "cell_type": "code",
      "execution_count": 1,
      "metadata": {
        "colab": {
          "base_uri": "https://localhost:8080/"
        },
        "id": "tG_LwfaXaOAO",
        "outputId": "3f6eb96b-19cd-4fbf-caa0-b468c4122204"
      },
      "outputs": [
        {
          "name": "stdout",
          "output_type": "stream",
          "text": [
            "Looking in indexes: https://pypi.org/simple, https://us-python.pkg.dev/colab-wheels/public/simple/\n",
            "Collecting polara\n",
            "  Cloning https://github.com/Evfro/polara.git (to revision develop) to /tmp/pip-install-m1cpp5i7/polara_cd23c564cd9b4059a07af86f0ac7c3b9\n",
            "  Running command git clone --filter=blob:none --quiet https://github.com/Evfro/polara.git /tmp/pip-install-m1cpp5i7/polara_cd23c564cd9b4059a07af86f0ac7c3b9\n",
            "  Running command git checkout -b develop --track origin/develop\n",
            "  Switched to a new branch 'develop'\n",
            "  Branch 'develop' set up to track remote branch 'develop' from 'origin'.\n",
            "  Resolved https://github.com/Evfro/polara.git to commit 8e48cfd88e616ca53f8bbda1702a3e2c8abaf38e\n",
            "  Preparing metadata (setup.py) ... \u001b[?25l\u001b[?25hdone\n",
            "Building wheels for collected packages: polara\n",
            "  Building wheel for polara (setup.py) ... \u001b[?25l\u001b[?25hdone\n",
            "  Created wheel for polara: filename=polara-0.7.2.dev0-py3-none-any.whl size=89447 sha256=36dea944a4ce3e737ee4f303f46e4c546e842de00efc481ebb62edae338aca56\n",
            "  Stored in directory: /tmp/pip-ephem-wheel-cache-5_py_a74/wheels/c2/75/e1/1f178798f10150e60b8adfdce7e1cce378d6d6aae728aec5df\n",
            "Successfully built polara\n",
            "Installing collected packages: polara\n",
            "Successfully installed polara-0.7.2.dev0\n"
          ]
        }
      ],
      "source": [
        "!pip install --upgrade git+https://github.com/Evfro/polara.git@develop#egg=polara"
      ]
    },
    {
      "cell_type": "code",
      "execution_count": 2,
      "metadata": {
        "id": "9-I5A5deYvLa"
      },
      "outputs": [],
      "source": [
        "import sys\n",
        "sys.path.insert(0,'/content/drive/MyDrive/Data_HSVD')"
      ]
    },
    {
      "cell_type": "code",
      "execution_count": 3,
      "metadata": {
        "id": "uUdi3tQPjXXa"
      },
      "outputs": [],
      "source": [
        "import pandas as pd\n",
        "import numpy as np\n",
        "import matplotlib.pyplot as plt\n",
        "import seaborn as sns\n",
        "from scipy import linalg\n",
        "from sklearn.metrics.pairwise import cosine_similarity\n",
        "from scipy.sparse import csr_matrix\n",
        "import scipy as sp\n",
        "from scipy.sparse.linalg import spsolve_triangular\n",
        "from maxvol import maxvol, maxvol_rect\n",
        "from dataprep import generate_interactions_matrix, reindex_data, transform_indices, timepoint_split\n",
        "from hybridSVD import hsvd"
      ]
    },
    {
      "cell_type": "code",
      "execution_count": null,
      "metadata": {
        "id": "CNq3jbTtilTH"
      },
      "outputs": [],
      "source": [
        "users = ['User1', 'User2', 'User3', 'User4', 'User5', 'User6', 'User7', 'User8', 'User9']\n",
        "items = ['Item1', 'Item2', 'Item3', 'Item4', 'Item5', 'Item6', 'Item7', 'Item8', 'Item9', 'Item10', 'Item11', 'Item12', 'Item13']\n",
        "ratings = np.array([[4, 0, 8, 0, 0, 6, 0, 9, 7, 8, 0, 0, 0], \n",
        "                   [5, 8, 0, 0, 0, 6, 4, 0, 8, 0, 0, 4, 0], \n",
        "                   [0, 4, 5, 0, 0, 0, 8, 8, 7, 9, 8, 0, 0], \n",
        "                   [5, 0, 0, 8, 0, 0, 0, 6, 6, 0, 4, 7, 4],\n",
        "                   [0, 0, 6, 0, 8, 0, 0, 0, 0, 5, 0, 6, 0],\n",
        "                   [4, 7, 0, 0, 8, 0, 0, 0, 0, 0, 0, 0, 5], \n",
        "                   [0, 0, 0, 9, 9, 0, 6, 0, 0, 0, 3, 5, 0],\n",
        "                   [0, 6, 5, 0, 5, 4, 7, 6, 0, 0, 0, 6, 0],\n",
        "                   [0, 0, 0, 0, 0, 5, 0, 7, 7, 6, 8, 0, 6]])\n",
        "\n",
        "data = pd.DataFrame(ratings, users, items)"
      ]
    },
    {
      "cell_type": "code",
      "execution_count": null,
      "metadata": {
        "colab": {
          "base_uri": "https://localhost:8080/",
          "height": 332
        },
        "id": "Bgf5bzKBk6Fy",
        "outputId": "225e06fc-c3c3-4e43-c095-0683b7af67f8"
      },
      "outputs": [
        {
          "data": {
            "text/html": [
              "\n",
              "  <div id=\"df-1b25dc85-374f-4166-b3e9-62d66c2775ef\">\n",
              "    <div class=\"colab-df-container\">\n",
              "      <div>\n",
              "<style scoped>\n",
              "    .dataframe tbody tr th:only-of-type {\n",
              "        vertical-align: middle;\n",
              "    }\n",
              "\n",
              "    .dataframe tbody tr th {\n",
              "        vertical-align: top;\n",
              "    }\n",
              "\n",
              "    .dataframe thead th {\n",
              "        text-align: right;\n",
              "    }\n",
              "</style>\n",
              "<table border=\"1\" class=\"dataframe\">\n",
              "  <thead>\n",
              "    <tr style=\"text-align: right;\">\n",
              "      <th></th>\n",
              "      <th>Item1</th>\n",
              "      <th>Item2</th>\n",
              "      <th>Item3</th>\n",
              "      <th>Item4</th>\n",
              "      <th>Item5</th>\n",
              "      <th>Item6</th>\n",
              "      <th>Item7</th>\n",
              "      <th>Item8</th>\n",
              "      <th>Item9</th>\n",
              "      <th>Item10</th>\n",
              "      <th>Item11</th>\n",
              "      <th>Item12</th>\n",
              "      <th>Item13</th>\n",
              "    </tr>\n",
              "  </thead>\n",
              "  <tbody>\n",
              "    <tr>\n",
              "      <th>User1</th>\n",
              "      <td>4</td>\n",
              "      <td>0</td>\n",
              "      <td>8</td>\n",
              "      <td>0</td>\n",
              "      <td>0</td>\n",
              "      <td>6</td>\n",
              "      <td>0</td>\n",
              "      <td>9</td>\n",
              "      <td>7</td>\n",
              "      <td>8</td>\n",
              "      <td>0</td>\n",
              "      <td>0</td>\n",
              "      <td>0</td>\n",
              "    </tr>\n",
              "    <tr>\n",
              "      <th>User2</th>\n",
              "      <td>5</td>\n",
              "      <td>8</td>\n",
              "      <td>0</td>\n",
              "      <td>0</td>\n",
              "      <td>0</td>\n",
              "      <td>6</td>\n",
              "      <td>4</td>\n",
              "      <td>0</td>\n",
              "      <td>8</td>\n",
              "      <td>0</td>\n",
              "      <td>0</td>\n",
              "      <td>4</td>\n",
              "      <td>0</td>\n",
              "    </tr>\n",
              "    <tr>\n",
              "      <th>User3</th>\n",
              "      <td>0</td>\n",
              "      <td>4</td>\n",
              "      <td>5</td>\n",
              "      <td>0</td>\n",
              "      <td>0</td>\n",
              "      <td>0</td>\n",
              "      <td>8</td>\n",
              "      <td>8</td>\n",
              "      <td>7</td>\n",
              "      <td>9</td>\n",
              "      <td>8</td>\n",
              "      <td>0</td>\n",
              "      <td>0</td>\n",
              "    </tr>\n",
              "    <tr>\n",
              "      <th>User4</th>\n",
              "      <td>5</td>\n",
              "      <td>0</td>\n",
              "      <td>0</td>\n",
              "      <td>8</td>\n",
              "      <td>0</td>\n",
              "      <td>0</td>\n",
              "      <td>0</td>\n",
              "      <td>6</td>\n",
              "      <td>6</td>\n",
              "      <td>0</td>\n",
              "      <td>4</td>\n",
              "      <td>7</td>\n",
              "      <td>4</td>\n",
              "    </tr>\n",
              "    <tr>\n",
              "      <th>User5</th>\n",
              "      <td>0</td>\n",
              "      <td>0</td>\n",
              "      <td>6</td>\n",
              "      <td>0</td>\n",
              "      <td>8</td>\n",
              "      <td>0</td>\n",
              "      <td>0</td>\n",
              "      <td>0</td>\n",
              "      <td>0</td>\n",
              "      <td>5</td>\n",
              "      <td>0</td>\n",
              "      <td>6</td>\n",
              "      <td>0</td>\n",
              "    </tr>\n",
              "    <tr>\n",
              "      <th>User6</th>\n",
              "      <td>4</td>\n",
              "      <td>7</td>\n",
              "      <td>0</td>\n",
              "      <td>0</td>\n",
              "      <td>8</td>\n",
              "      <td>0</td>\n",
              "      <td>0</td>\n",
              "      <td>0</td>\n",
              "      <td>0</td>\n",
              "      <td>0</td>\n",
              "      <td>0</td>\n",
              "      <td>0</td>\n",
              "      <td>5</td>\n",
              "    </tr>\n",
              "    <tr>\n",
              "      <th>User7</th>\n",
              "      <td>0</td>\n",
              "      <td>0</td>\n",
              "      <td>0</td>\n",
              "      <td>9</td>\n",
              "      <td>9</td>\n",
              "      <td>0</td>\n",
              "      <td>6</td>\n",
              "      <td>0</td>\n",
              "      <td>0</td>\n",
              "      <td>0</td>\n",
              "      <td>3</td>\n",
              "      <td>5</td>\n",
              "      <td>0</td>\n",
              "    </tr>\n",
              "    <tr>\n",
              "      <th>User8</th>\n",
              "      <td>0</td>\n",
              "      <td>6</td>\n",
              "      <td>5</td>\n",
              "      <td>0</td>\n",
              "      <td>5</td>\n",
              "      <td>4</td>\n",
              "      <td>7</td>\n",
              "      <td>6</td>\n",
              "      <td>0</td>\n",
              "      <td>0</td>\n",
              "      <td>0</td>\n",
              "      <td>6</td>\n",
              "      <td>0</td>\n",
              "    </tr>\n",
              "    <tr>\n",
              "      <th>User9</th>\n",
              "      <td>0</td>\n",
              "      <td>0</td>\n",
              "      <td>0</td>\n",
              "      <td>0</td>\n",
              "      <td>0</td>\n",
              "      <td>5</td>\n",
              "      <td>0</td>\n",
              "      <td>7</td>\n",
              "      <td>7</td>\n",
              "      <td>6</td>\n",
              "      <td>8</td>\n",
              "      <td>0</td>\n",
              "      <td>6</td>\n",
              "    </tr>\n",
              "  </tbody>\n",
              "</table>\n",
              "</div>\n",
              "      <button class=\"colab-df-convert\" onclick=\"convertToInteractive('df-1b25dc85-374f-4166-b3e9-62d66c2775ef')\"\n",
              "              title=\"Convert this dataframe to an interactive table.\"\n",
              "              style=\"display:none;\">\n",
              "        \n",
              "  <svg xmlns=\"http://www.w3.org/2000/svg\" height=\"24px\"viewBox=\"0 0 24 24\"\n",
              "       width=\"24px\">\n",
              "    <path d=\"M0 0h24v24H0V0z\" fill=\"none\"/>\n",
              "    <path d=\"M18.56 5.44l.94 2.06.94-2.06 2.06-.94-2.06-.94-.94-2.06-.94 2.06-2.06.94zm-11 1L8.5 8.5l.94-2.06 2.06-.94-2.06-.94L8.5 2.5l-.94 2.06-2.06.94zm10 10l.94 2.06.94-2.06 2.06-.94-2.06-.94-.94-2.06-.94 2.06-2.06.94z\"/><path d=\"M17.41 7.96l-1.37-1.37c-.4-.4-.92-.59-1.43-.59-.52 0-1.04.2-1.43.59L10.3 9.45l-7.72 7.72c-.78.78-.78 2.05 0 2.83L4 21.41c.39.39.9.59 1.41.59.51 0 1.02-.2 1.41-.59l7.78-7.78 2.81-2.81c.8-.78.8-2.07 0-2.86zM5.41 20L4 18.59l7.72-7.72 1.47 1.35L5.41 20z\"/>\n",
              "  </svg>\n",
              "      </button>\n",
              "      \n",
              "  <style>\n",
              "    .colab-df-container {\n",
              "      display:flex;\n",
              "      flex-wrap:wrap;\n",
              "      gap: 12px;\n",
              "    }\n",
              "\n",
              "    .colab-df-convert {\n",
              "      background-color: #E8F0FE;\n",
              "      border: none;\n",
              "      border-radius: 50%;\n",
              "      cursor: pointer;\n",
              "      display: none;\n",
              "      fill: #1967D2;\n",
              "      height: 32px;\n",
              "      padding: 0 0 0 0;\n",
              "      width: 32px;\n",
              "    }\n",
              "\n",
              "    .colab-df-convert:hover {\n",
              "      background-color: #E2EBFA;\n",
              "      box-shadow: 0px 1px 2px rgba(60, 64, 67, 0.3), 0px 1px 3px 1px rgba(60, 64, 67, 0.15);\n",
              "      fill: #174EA6;\n",
              "    }\n",
              "\n",
              "    [theme=dark] .colab-df-convert {\n",
              "      background-color: #3B4455;\n",
              "      fill: #D2E3FC;\n",
              "    }\n",
              "\n",
              "    [theme=dark] .colab-df-convert:hover {\n",
              "      background-color: #434B5C;\n",
              "      box-shadow: 0px 1px 3px 1px rgba(0, 0, 0, 0.15);\n",
              "      filter: drop-shadow(0px 1px 2px rgba(0, 0, 0, 0.3));\n",
              "      fill: #FFFFFF;\n",
              "    }\n",
              "  </style>\n",
              "\n",
              "      <script>\n",
              "        const buttonEl =\n",
              "          document.querySelector('#df-1b25dc85-374f-4166-b3e9-62d66c2775ef button.colab-df-convert');\n",
              "        buttonEl.style.display =\n",
              "          google.colab.kernel.accessAllowed ? 'block' : 'none';\n",
              "\n",
              "        async function convertToInteractive(key) {\n",
              "          const element = document.querySelector('#df-1b25dc85-374f-4166-b3e9-62d66c2775ef');\n",
              "          const dataTable =\n",
              "            await google.colab.kernel.invokeFunction('convertToInteractive',\n",
              "                                                     [key], {});\n",
              "          if (!dataTable) return;\n",
              "\n",
              "          const docLinkHtml = 'Like what you see? Visit the ' +\n",
              "            '<a target=\"_blank\" href=https://colab.research.google.com/notebooks/data_table.ipynb>data table notebook</a>'\n",
              "            + ' to learn more about interactive tables.';\n",
              "          element.innerHTML = '';\n",
              "          dataTable['output_type'] = 'display_data';\n",
              "          await google.colab.output.renderOutput(dataTable, element);\n",
              "          const docLink = document.createElement('div');\n",
              "          docLink.innerHTML = docLinkHtml;\n",
              "          element.appendChild(docLink);\n",
              "        }\n",
              "      </script>\n",
              "    </div>\n",
              "  </div>\n",
              "  "
            ],
            "text/plain": [
              "       Item1  Item2  Item3  Item4  Item5  Item6  Item7  Item8  Item9  Item10  \\\n",
              "User1      4      0      8      0      0      6      0      9      7       8   \n",
              "User2      5      8      0      0      0      6      4      0      8       0   \n",
              "User3      0      4      5      0      0      0      8      8      7       9   \n",
              "User4      5      0      0      8      0      0      0      6      6       0   \n",
              "User5      0      0      6      0      8      0      0      0      0       5   \n",
              "User6      4      7      0      0      8      0      0      0      0       0   \n",
              "User7      0      0      0      9      9      0      6      0      0       0   \n",
              "User8      0      6      5      0      5      4      7      6      0       0   \n",
              "User9      0      0      0      0      0      5      0      7      7       6   \n",
              "\n",
              "       Item11  Item12  Item13  \n",
              "User1       0       0       0  \n",
              "User2       0       4       0  \n",
              "User3       8       0       0  \n",
              "User4       4       7       4  \n",
              "User5       0       6       0  \n",
              "User6       0       0       5  \n",
              "User7       3       5       0  \n",
              "User8       0       6       0  \n",
              "User9       8       0       6  "
            ]
          },
          "execution_count": 104,
          "metadata": {},
          "output_type": "execute_result"
        }
      ],
      "source": [
        "data"
      ]
    },
    {
      "attachments": {},
      "cell_type": "markdown",
      "metadata": {
        "id": "4kwUWpI4bekS"
      },
      "source": [
        "# SVD. Why and when PureSVD does not work?"
      ]
    },
    {
      "attachments": {},
      "cell_type": "markdown",
      "metadata": {
        "id": "eUP_Zyj2UYYw"
      },
      "source": [
        "The meaning of SVD is that we can decompose a rectangular matrix (interaction) $A$ into 3 matrices: $U$, $Σ$, and $V$.\n",
        "$$A_{m \\times n} = U_{m \\times m} \\Sigma_{m \\times n} V_{n \\times n}^T$$\n",
        "Here, $U$ is an $m \\times m$ orthogonal matrix, $V$ is an $n \\times n$ orthogonal matrix, and $Σ$ is an $m \\times n$ diagonal matrix. The diagonal elements of $Σ$ are ordered $λ_1 ≥ λ_2 ≥ ... ≥ λ_k ≥ 0$ for $k = min(m, n)$."
      ]
    },
    {
      "attachments": {},
      "cell_type": "markdown",
      "metadata": {
        "id": "f45k5j5YVGLH"
      },
      "source": [
        "In the case of a sparse matrix, which is often the case for movie ratings, we can use a truncated SVD, where we keep only the first $d$ singular values $λ$. This results in a decomposition of the matrix $A'$, which provides a good approximation to the original matrix $A$.\n",
        "$$A_{m \\times n} = U_{m \\times d} \\Sigma_{d \\times d} V_{d \\times n}^T$$"
      ]
    },
    {
      "attachments": {},
      "cell_type": "markdown",
      "metadata": {
        "id": "WF6EN0lHVwQ4"
      },
      "source": [
        "![image.png](data:image/png;base64,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)"
      ]
    },
    {
      "attachments": {},
      "cell_type": "markdown",
      "metadata": {
        "id": "tly8RYt7V-dx"
      },
      "source": [
        "Now let's apply this to our recommendation system. We have a interaction matrix $R$, so let's perform its singular value decomposition.\n",
        "\n",
        "Using the truncated SVD, we can express the matrix R as:\n",
        "\n",
        "$$R_{m \\times n} = U_{m \\times d} \\Sigma_{d \\times d} V_{d \\times n}^T$$\n",
        "\n",
        "where $U$ is an $m \\times d$ orthogonal matrix, $V$ is a $d \\times n$ orthogonal matrix, and $Σ$ is a $d \\times d$ diagonal matrix containing the first $d$ singular values of interaction matrix $R$.\n",
        "\n",
        "We can then multiply the first two matrices to obtain an $n \\times d$ matrix, resulting in the following decomposition:\n",
        "\n",
        "$$R_{m \\times n} \\approx U_{m \\times d} \\Sigma_{d \\times d} V_{d \\times n}^T = P_{m \\times d} Q_{d \\times n}^T$$\n",
        "\n",
        "where $P$ represents the user-feature matrix and $Q$ represents the item-feature matrix. The $d$ columns of $P$ and $Q$ represent the latent features that capture the important relationships between the users and items.\n",
        "\n",
        "This decomposition allows us to make predictions for user-item pairs that are not in the original ratings matrix by estimating their ratings based on the dot product of the corresponding rows in $P$ and $Q$. The truncated SVD can help us identify the most important features for making these predictions, and can also help us deal with the sparsity of the ratings matrix."
      ]
    },
    {
      "attachments": {},
      "cell_type": "markdown",
      "metadata": {
        "id": "Oj45-LU3W6yn"
      },
      "source": [
        "![image.png](data:image/png;base64,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)"
      ]
    },
    {
      "attachments": {},
      "cell_type": "markdown",
      "metadata": {
        "id": "rYNVKkpkXN66"
      },
      "source": [
        "The dimension of $d$ in this case represents the number of hidden properties/interests of our users and movies, and the predicted rating $\\hat r_{ui}$ for a movie is obtained by taking the dot product of the corresponding rows of the $U$ and $V$ matrices.\n",
        "\n",
        "Therefore, we have learned how to approximate the original ratings matrix using a matrix obtained from the multiplication of two matrices that correspond to the interests of users and properties of movies. However, the problem is that our ratings matrix R is sparse, and we would like to fill in the empty (zero) elements with ratings from users."
      ]
    },
    {
      "attachments": {},
      "cell_type": "markdown",
      "metadata": {
        "id": "yUw2T8A6XvR6"
      },
      "source": [
        "To achieve this, we need to approximate the existing ratings as numbers obtained from the multiplication of the matrices $U$ and $V$. Then, we can obtain the ratings for the zeros in our original matrix and minimize the following function:\n",
        "\n",
        "$$ \\large \\hat r_{ui} = <p_u,q_i>$$\n",
        "\n",
        "$$\\mathcal{L} = \\large \\frac{1}{n}\\sum_{ui} (r_{ui}-\\hat r_{ui})^{2} = \\frac{1}{n}\\sum_{ui} (r_{ui} -<p_u,q_i>)^{2} \\to \\operatorname{min},$$\n",
        "\n",
        "where the sums are taken over the nonzero indices $u, i$ of our original ratings matrix, and $n$ is the total number of ratings in the matrix.\n",
        "\n",
        "This is the least squares problem, and we can solve it efficiently using gradient descent or alternating least squares (ALS) algorithms. The goal is to find the optimal values of $P$ and $Q$ that minimize the loss function and provide the best possible approximation to the original matrix $R$."
      ]
    },
    {
      "attachments": {},
      "cell_type": "markdown",
      "metadata": {
        "id": "0s4xlGVaYOFR"
      },
      "source": [
        "We need to add regularization to our loss function to prevent overfitting. We can use L2 regularization to constrain the norm of our matrices:\n",
        "\n",
        "$$\\large \\lambda(\\Sigma_{u}p {\\tiny u}^{2} + \\Sigma_{i}q {\\tiny i}^{2})$$\n",
        "\n",
        "Thus, our new loss function is:\n",
        "\n",
        "$$\\mathcal{L} = \\large \\frac{1}{n}\\sum_{ui} (r_{ui} - <p_u,q_i>)^{2} + \\lambda(\\Sigma_{u}p {\\tiny u}^{2} + \\Sigma_{i}q {\\tiny i}^{2}) \\to \\min,$$"
      ]
    },
    {
      "attachments": {},
      "cell_type": "markdown",
      "metadata": {
        "id": "Kjr47uBLYZPQ"
      },
      "source": [
        "To minimize this function using stochastic gradient descent, we need to compute the gradients for the $P$ and $Q$ matrices. We can calculate the gradients on a single object from the ratings matrix. The update rules for the elements of the $U$ and $V$ matrices are:\n",
        "\n",
        "$$\\large p {\\tiny u,k} = p {\\tiny u,k} -\\alpha \\frac{\\partial L}{\\partial p {\\tiny u,k}} = p {\\tiny u,k}+\\alpha e {\\tiny u,i} q_{k} - \\lambda p {\\tiny u,k}$$\n",
        "\n",
        "$$\\large q {\\tiny i,k} = q {\\tiny i,k}-\\alpha \\frac{\\partial L}{\\partial q {\\tiny i,k}} = q {\\tiny i,k}+\\alpha e {\\tiny u,i} p_{k} - \\lambda q_{\\tiny i,k}$$\n",
        "\n",
        "Here, $e_{ui}$ is the error between the predicted rating and actual rating of the $(u,i)$ pair, $α$ is the learning rate, and $λ$ is the regularization parameter. We can update the elements of the matrices iteratively until we reach the minimum of our loss function.\n",
        "\n",
        "Indices $u,i$ - number of users and items **U** (number rows) и **V** (number columns), $j$ - $j^{th}$ component of $\\large p_{u}$ and $\\large q_{i}$.\n",
        "\n",
        "Lets implement this function:"
      ]
    },
    {
      "cell_type": "code",
      "execution_count": 29,
      "metadata": {
        "id": "064o9e5tlVDX"
      },
      "outputs": [],
      "source": [
        "from tqdm.autonotebook import tqdm\n",
        "def SVD(R, d, step, lambda_reg, n_iters):\n",
        "  U = np.zeros((R.shape[0],d))\n",
        "  V = np.zeros((d,R.shape[1]))\n",
        "\n",
        "  mu = R.sum()/(R!=0).sum()\n",
        "  non_zero = (R!=0).sum()\n",
        "  U = U + mu\n",
        "  V = V + mu\n",
        "\n",
        "  indx=[]\n",
        "  zero_indx = []\n",
        "  MSE_start = 0\n",
        "  MSE=[]\n",
        "  for i in tqdm(range(R.shape[0])):\n",
        "    for j in range(R.shape[1]):\n",
        "      if R[i][j]>0:\n",
        "        indx.append([i,j])\n",
        "        MSE_start+=((R[i, j]-np.dot(U[i,:],V[:,j]))** 2) / non_zero\n",
        "      else:\n",
        "        zero_indx.append([i, j])\n",
        "  for n in range(n_iters): # Gradients\n",
        "    choice = np.random.randint(0,len(indx))\n",
        "    ij = indx[choice]\n",
        "    for k in range(0,d):\n",
        "      U[ij[0],k] = U[ij[0],k] + step * ((R[ij[0]][ij[1]] - np.dot(U[ij[0], :], V[:,ij[1]])) * V[k,ij[1]] - lambda_reg * U[ij[0],k])\n",
        "      V[k,ij[1]] = V[k,ij[1]] + step * ((R[ij[0]][ij[1]] - np.dot(U[ij[0], :], V[:,ij[1]])) * U[ij[0],k] - lambda_reg * V[k,ij[1]])\n",
        "    L=0\n",
        "    for i in range(R.shape[0]):\n",
        "      for j in range(R.shape[1]):\n",
        "        if R[i, j]>0:\n",
        "          L+=((R[i, j]-np.dot(U[i,:],V[:, j])) ** 2)/non_zero\n",
        "    MSE.append(L)\n",
        "  return U,V, MSE_start, MSE"
      ]
    },
    {
      "cell_type": "code",
      "execution_count": null,
      "metadata": {
        "id": "GMn3MI_41Caq"
      },
      "outputs": [],
      "source": [
        "U, V, M1, M_end = SVD(data.values, 4, 1e-3, 0.1, 20000)"
      ]
    },
    {
      "cell_type": "code",
      "execution_count": null,
      "metadata": {
        "colab": {
          "base_uri": "https://localhost:8080/"
        },
        "id": "S_PcRrJu2AUL",
        "outputId": "0a9c585e-f3bb-4a99-fe65-0290fe5e4cfd"
      },
      "outputs": [
        {
          "data": {
            "text/plain": [
              "1.0705853519323163"
            ]
          },
          "execution_count": 107,
          "metadata": {},
          "output_type": "execute_result"
        }
      ],
      "source": [
        "M_end[-1]"
      ]
    },
    {
      "cell_type": "code",
      "execution_count": null,
      "metadata": {
        "colab": {
          "base_uri": "https://localhost:8080/"
        },
        "id": "G5vToISw2yHf",
        "outputId": "9baf62ad-96fa-4ceb-902c-59fab19246ca"
      },
      "outputs": [
        {
          "data": {
            "text/plain": [
              "Index(['User1', 'User2', 'User3', 'User4', 'User5', 'User6', 'User7', 'User8',\n",
              "       'User9'],\n",
              "      dtype='object')"
            ]
          },
          "execution_count": 108,
          "metadata": {},
          "output_type": "execute_result"
        }
      ],
      "source": [
        "data.index"
      ]
    },
    {
      "cell_type": "code",
      "execution_count": null,
      "metadata": {
        "id": "81hTOpt220Tf"
      },
      "outputs": [],
      "source": [
        "r_cap = np.zeros((data.shape[0], data.shape[1]))\n",
        "for i in range(data.shape[0]):\n",
        "  for j in range(data.shape[1]):\n",
        "    r_cap[i, j] = np.dot(U[i, :], V[:, j])"
      ]
    },
    {
      "cell_type": "code",
      "execution_count": null,
      "metadata": {
        "id": "gRr9NMw23jps"
      },
      "outputs": [],
      "source": [
        "rec = pd.DataFrame(r_cap, users, items)"
      ]
    },
    {
      "cell_type": "code",
      "execution_count": null,
      "metadata": {
        "colab": {
          "base_uri": "https://localhost:8080/",
          "height": 332
        },
        "id": "JRlysWyp3q-5",
        "outputId": "19c059ed-6a7d-4d88-f031-28cc1a41d151"
      },
      "outputs": [
        {
          "data": {
            "text/html": [
              "\n",
              "  <div id=\"df-5d1440a9-e761-4743-a9e4-cc2a2ba49cbb\">\n",
              "    <div class=\"colab-df-container\">\n",
              "      <div>\n",
              "<style scoped>\n",
              "    .dataframe tbody tr th:only-of-type {\n",
              "        vertical-align: middle;\n",
              "    }\n",
              "\n",
              "    .dataframe tbody tr th {\n",
              "        vertical-align: top;\n",
              "    }\n",
              "\n",
              "    .dataframe thead th {\n",
              "        text-align: right;\n",
              "    }\n",
              "</style>\n",
              "<table border=\"1\" class=\"dataframe\">\n",
              "  <thead>\n",
              "    <tr style=\"text-align: right;\">\n",
              "      <th></th>\n",
              "      <th>Item1</th>\n",
              "      <th>Item2</th>\n",
              "      <th>Item3</th>\n",
              "      <th>Item4</th>\n",
              "      <th>Item5</th>\n",
              "      <th>Item6</th>\n",
              "      <th>Item7</th>\n",
              "      <th>Item8</th>\n",
              "      <th>Item9</th>\n",
              "      <th>Item10</th>\n",
              "      <th>Item11</th>\n",
              "      <th>Item12</th>\n",
              "      <th>Item13</th>\n",
              "    </tr>\n",
              "  </thead>\n",
              "  <tbody>\n",
              "    <tr>\n",
              "      <th>User1</th>\n",
              "      <td>5.304426</td>\n",
              "      <td>7.333922</td>\n",
              "      <td>6.877470</td>\n",
              "      <td>10.794738</td>\n",
              "      <td>8.890005</td>\n",
              "      <td>6.232497</td>\n",
              "      <td>8.362056</td>\n",
              "      <td>8.153690</td>\n",
              "      <td>7.872014</td>\n",
              "      <td>7.885966</td>\n",
              "      <td>7.315352</td>\n",
              "      <td>7.139344</td>\n",
              "      <td>6.523332</td>\n",
              "    </tr>\n",
              "    <tr>\n",
              "      <th>User2</th>\n",
              "      <td>4.910576</td>\n",
              "      <td>7.378990</td>\n",
              "      <td>6.052135</td>\n",
              "      <td>9.055016</td>\n",
              "      <td>7.228770</td>\n",
              "      <td>6.022295</td>\n",
              "      <td>7.299342</td>\n",
              "      <td>5.794415</td>\n",
              "      <td>6.817785</td>\n",
              "      <td>5.793931</td>\n",
              "      <td>5.956120</td>\n",
              "      <td>5.030094</td>\n",
              "      <td>5.901172</td>\n",
              "    </tr>\n",
              "    <tr>\n",
              "      <th>User3</th>\n",
              "      <td>4.312373</td>\n",
              "      <td>5.408612</td>\n",
              "      <td>5.886744</td>\n",
              "      <td>9.656944</td>\n",
              "      <td>8.167556</td>\n",
              "      <td>4.829692</td>\n",
              "      <td>7.213069</td>\n",
              "      <td>8.275822</td>\n",
              "      <td>6.840893</td>\n",
              "      <td>7.825863</td>\n",
              "      <td>6.713569</td>\n",
              "      <td>7.287117</td>\n",
              "      <td>5.432725</td>\n",
              "    </tr>\n",
              "    <tr>\n",
              "      <th>User4</th>\n",
              "      <td>3.885183</td>\n",
              "      <td>5.356653</td>\n",
              "      <td>5.045452</td>\n",
              "      <td>7.930551</td>\n",
              "      <td>6.537286</td>\n",
              "      <td>4.558340</td>\n",
              "      <td>6.135740</td>\n",
              "      <td>6.017427</td>\n",
              "      <td>5.777921</td>\n",
              "      <td>5.814748</td>\n",
              "      <td>5.378795</td>\n",
              "      <td>5.270064</td>\n",
              "      <td>4.781401</td>\n",
              "    </tr>\n",
              "    <tr>\n",
              "      <th>User5</th>\n",
              "      <td>4.853901</td>\n",
              "      <td>7.137457</td>\n",
              "      <td>6.065691</td>\n",
              "      <td>9.199253</td>\n",
              "      <td>7.410644</td>\n",
              "      <td>5.885903</td>\n",
              "      <td>7.332407</td>\n",
              "      <td>6.192311</td>\n",
              "      <td>6.863583</td>\n",
              "      <td>6.126392</td>\n",
              "      <td>6.103840</td>\n",
              "      <td>5.390457</td>\n",
              "      <td>5.869650</td>\n",
              "    </tr>\n",
              "    <tr>\n",
              "      <th>User6</th>\n",
              "      <td>4.544447</td>\n",
              "      <td>6.562229</td>\n",
              "      <td>5.743142</td>\n",
              "      <td>8.804040</td>\n",
              "      <td>7.142324</td>\n",
              "      <td>5.459149</td>\n",
              "      <td>6.954974</td>\n",
              "      <td>6.155142</td>\n",
              "      <td>6.521783</td>\n",
              "      <td>6.042961</td>\n",
              "      <td>5.881044</td>\n",
              "      <td>5.368799</td>\n",
              "      <td>5.523521</td>\n",
              "    </tr>\n",
              "    <tr>\n",
              "      <th>User7</th>\n",
              "      <td>4.324681</td>\n",
              "      <td>6.238681</td>\n",
              "      <td>5.468777</td>\n",
              "      <td>8.388242</td>\n",
              "      <td>6.807700</td>\n",
              "      <td>5.192383</td>\n",
              "      <td>6.623134</td>\n",
              "      <td>5.876355</td>\n",
              "      <td>6.211441</td>\n",
              "      <td>5.766812</td>\n",
              "      <td>5.605187</td>\n",
              "      <td>5.126224</td>\n",
              "      <td>5.257812</td>\n",
              "    </tr>\n",
              "    <tr>\n",
              "      <th>User8</th>\n",
              "      <td>4.015807</td>\n",
              "      <td>5.589598</td>\n",
              "      <td>5.186832</td>\n",
              "      <td>8.113018</td>\n",
              "      <td>6.667148</td>\n",
              "      <td>4.734319</td>\n",
              "      <td>6.302545</td>\n",
              "      <td>6.062201</td>\n",
              "      <td>5.929992</td>\n",
              "      <td>5.875026</td>\n",
              "      <td>5.486518</td>\n",
              "      <td>5.305353</td>\n",
              "      <td>4.929840</td>\n",
              "    </tr>\n",
              "    <tr>\n",
              "      <th>User9</th>\n",
              "      <td>4.798401</td>\n",
              "      <td>6.836820</td>\n",
              "      <td>6.113236</td>\n",
              "      <td>9.442598</td>\n",
              "      <td>7.697823</td>\n",
              "      <td>5.724781</td>\n",
              "      <td>7.412696</td>\n",
              "      <td>6.773042</td>\n",
              "      <td>6.959603</td>\n",
              "      <td>6.615982</td>\n",
              "      <td>6.337199</td>\n",
              "      <td>5.915455</td>\n",
              "      <td>5.853727</td>\n",
              "    </tr>\n",
              "  </tbody>\n",
              "</table>\n",
              "</div>\n",
              "      <button class=\"colab-df-convert\" onclick=\"convertToInteractive('df-5d1440a9-e761-4743-a9e4-cc2a2ba49cbb')\"\n",
              "              title=\"Convert this dataframe to an interactive table.\"\n",
              "              style=\"display:none;\">\n",
              "        \n",
              "  <svg xmlns=\"http://www.w3.org/2000/svg\" height=\"24px\"viewBox=\"0 0 24 24\"\n",
              "       width=\"24px\">\n",
              "    <path d=\"M0 0h24v24H0V0z\" fill=\"none\"/>\n",
              "    <path d=\"M18.56 5.44l.94 2.06.94-2.06 2.06-.94-2.06-.94-.94-2.06-.94 2.06-2.06.94zm-11 1L8.5 8.5l.94-2.06 2.06-.94-2.06-.94L8.5 2.5l-.94 2.06-2.06.94zm10 10l.94 2.06.94-2.06 2.06-.94-2.06-.94-.94-2.06-.94 2.06-2.06.94z\"/><path d=\"M17.41 7.96l-1.37-1.37c-.4-.4-.92-.59-1.43-.59-.52 0-1.04.2-1.43.59L10.3 9.45l-7.72 7.72c-.78.78-.78 2.05 0 2.83L4 21.41c.39.39.9.59 1.41.59.51 0 1.02-.2 1.41-.59l7.78-7.78 2.81-2.81c.8-.78.8-2.07 0-2.86zM5.41 20L4 18.59l7.72-7.72 1.47 1.35L5.41 20z\"/>\n",
              "  </svg>\n",
              "      </button>\n",
              "      \n",
              "  <style>\n",
              "    .colab-df-container {\n",
              "      display:flex;\n",
              "      flex-wrap:wrap;\n",
              "      gap: 12px;\n",
              "    }\n",
              "\n",
              "    .colab-df-convert {\n",
              "      background-color: #E8F0FE;\n",
              "      border: none;\n",
              "      border-radius: 50%;\n",
              "      cursor: pointer;\n",
              "      display: none;\n",
              "      fill: #1967D2;\n",
              "      height: 32px;\n",
              "      padding: 0 0 0 0;\n",
              "      width: 32px;\n",
              "    }\n",
              "\n",
              "    .colab-df-convert:hover {\n",
              "      background-color: #E2EBFA;\n",
              "      box-shadow: 0px 1px 2px rgba(60, 64, 67, 0.3), 0px 1px 3px 1px rgba(60, 64, 67, 0.15);\n",
              "      fill: #174EA6;\n",
              "    }\n",
              "\n",
              "    [theme=dark] .colab-df-convert {\n",
              "      background-color: #3B4455;\n",
              "      fill: #D2E3FC;\n",
              "    }\n",
              "\n",
              "    [theme=dark] .colab-df-convert:hover {\n",
              "      background-color: #434B5C;\n",
              "      box-shadow: 0px 1px 3px 1px rgba(0, 0, 0, 0.15);\n",
              "      filter: drop-shadow(0px 1px 2px rgba(0, 0, 0, 0.3));\n",
              "      fill: #FFFFFF;\n",
              "    }\n",
              "  </style>\n",
              "\n",
              "      <script>\n",
              "        const buttonEl =\n",
              "          document.querySelector('#df-5d1440a9-e761-4743-a9e4-cc2a2ba49cbb button.colab-df-convert');\n",
              "        buttonEl.style.display =\n",
              "          google.colab.kernel.accessAllowed ? 'block' : 'none';\n",
              "\n",
              "        async function convertToInteractive(key) {\n",
              "          const element = document.querySelector('#df-5d1440a9-e761-4743-a9e4-cc2a2ba49cbb');\n",
              "          const dataTable =\n",
              "            await google.colab.kernel.invokeFunction('convertToInteractive',\n",
              "                                                     [key], {});\n",
              "          if (!dataTable) return;\n",
              "\n",
              "          const docLinkHtml = 'Like what you see? Visit the ' +\n",
              "            '<a target=\"_blank\" href=https://colab.research.google.com/notebooks/data_table.ipynb>data table notebook</a>'\n",
              "            + ' to learn more about interactive tables.';\n",
              "          element.innerHTML = '';\n",
              "          dataTable['output_type'] = 'display_data';\n",
              "          await google.colab.output.renderOutput(dataTable, element);\n",
              "          const docLink = document.createElement('div');\n",
              "          docLink.innerHTML = docLinkHtml;\n",
              "          element.appendChild(docLink);\n",
              "        }\n",
              "      </script>\n",
              "    </div>\n",
              "  </div>\n",
              "  "
            ],
            "text/plain": [
              "          Item1     Item2     Item3      Item4     Item5     Item6     Item7  \\\n",
              "User1  5.304426  7.333922  6.877470  10.794738  8.890005  6.232497  8.362056   \n",
              "User2  4.910576  7.378990  6.052135   9.055016  7.228770  6.022295  7.299342   \n",
              "User3  4.312373  5.408612  5.886744   9.656944  8.167556  4.829692  7.213069   \n",
              "User4  3.885183  5.356653  5.045452   7.930551  6.537286  4.558340  6.135740   \n",
              "User5  4.853901  7.137457  6.065691   9.199253  7.410644  5.885903  7.332407   \n",
              "User6  4.544447  6.562229  5.743142   8.804040  7.142324  5.459149  6.954974   \n",
              "User7  4.324681  6.238681  5.468777   8.388242  6.807700  5.192383  6.623134   \n",
              "User8  4.015807  5.589598  5.186832   8.113018  6.667148  4.734319  6.302545   \n",
              "User9  4.798401  6.836820  6.113236   9.442598  7.697823  5.724781  7.412696   \n",
              "\n",
              "          Item8     Item9    Item10    Item11    Item12    Item13  \n",
              "User1  8.153690  7.872014  7.885966  7.315352  7.139344  6.523332  \n",
              "User2  5.794415  6.817785  5.793931  5.956120  5.030094  5.901172  \n",
              "User3  8.275822  6.840893  7.825863  6.713569  7.287117  5.432725  \n",
              "User4  6.017427  5.777921  5.814748  5.378795  5.270064  4.781401  \n",
              "User5  6.192311  6.863583  6.126392  6.103840  5.390457  5.869650  \n",
              "User6  6.155142  6.521783  6.042961  5.881044  5.368799  5.523521  \n",
              "User7  5.876355  6.211441  5.766812  5.605187  5.126224  5.257812  \n",
              "User8  6.062201  5.929992  5.875026  5.486518  5.305353  4.929840  \n",
              "User9  6.773042  6.959603  6.615982  6.337199  5.915455  5.853727  "
            ]
          },
          "execution_count": 111,
          "metadata": {},
          "output_type": "execute_result"
        }
      ],
      "source": [
        "rec"
      ]
    },
    {
      "attachments": {},
      "cell_type": "markdown",
      "metadata": {
        "id": "VxYAX1MDcRJu"
      },
      "source": [
        "**Why and when PureSVD not works**\n",
        "\n",
        "As we can see from the examples, the standard SVD does not take into account the relationships between movies or users. For example, in our first case using SVD, we need to recommend User9 from these movies: Item1, Item2, Item3, Item4, Item5 and add additional information that Item3 and Item11 are similar in genre. As we can see from the results, the model did not take this into account, only considering the relationship between item/user. HybridSVD takes this into account."
      ]
    },
    {
      "attachments": {},
      "cell_type": "markdown",
      "metadata": {
        "id": "Wwfgyyxg1glX"
      },
      "source": [
        "# Example from paper (HybridSVD: When Collaborative Information is Not Enough)"
      ]
    },
    {
      "cell_type": "code",
      "execution_count": null,
      "metadata": {
        "colab": {
          "base_uri": "https://localhost:8080/",
          "height": 175
        },
        "id": "fySxrSTo4IPZ",
        "outputId": "bddcba51-fae1-4f02-ff5d-ec2155f4484e"
      },
      "outputs": [
        {
          "data": {
            "text/html": [
              "\n",
              "  <div id=\"df-74115e99-ac4b-4128-9248-e9f7b053be39\">\n",
              "    <div class=\"colab-df-container\">\n",
              "      <div>\n",
              "<style scoped>\n",
              "    .dataframe tbody tr th:only-of-type {\n",
              "        vertical-align: middle;\n",
              "    }\n",
              "\n",
              "    .dataframe tbody tr th {\n",
              "        vertical-align: top;\n",
              "    }\n",
              "\n",
              "    .dataframe thead th {\n",
              "        text-align: right;\n",
              "    }\n",
              "</style>\n",
              "<table border=\"1\" class=\"dataframe\">\n",
              "  <thead>\n",
              "    <tr style=\"text-align: right;\">\n",
              "      <th></th>\n",
              "      <th>item1</th>\n",
              "      <th>item2</th>\n",
              "      <th>item3</th>\n",
              "      <th>item4</th>\n",
              "      <th>item5</th>\n",
              "    </tr>\n",
              "  </thead>\n",
              "  <tbody>\n",
              "    <tr>\n",
              "      <th>Alice</th>\n",
              "      <td>1</td>\n",
              "      <td>0</td>\n",
              "      <td>1</td>\n",
              "      <td>1</td>\n",
              "      <td>0</td>\n",
              "    </tr>\n",
              "    <tr>\n",
              "      <th>Bob</th>\n",
              "      <td>1</td>\n",
              "      <td>1</td>\n",
              "      <td>0</td>\n",
              "      <td>1</td>\n",
              "      <td>0</td>\n",
              "    </tr>\n",
              "    <tr>\n",
              "      <th>Carol</th>\n",
              "      <td>1</td>\n",
              "      <td>0</td>\n",
              "      <td>0</td>\n",
              "      <td>1</td>\n",
              "      <td>0</td>\n",
              "    </tr>\n",
              "    <tr>\n",
              "      <th>Tom</th>\n",
              "      <td>1</td>\n",
              "      <td>0</td>\n",
              "      <td>0</td>\n",
              "      <td>1</td>\n",
              "      <td>1</td>\n",
              "    </tr>\n",
              "  </tbody>\n",
              "</table>\n",
              "</div>\n",
              "      <button class=\"colab-df-convert\" onclick=\"convertToInteractive('df-74115e99-ac4b-4128-9248-e9f7b053be39')\"\n",
              "              title=\"Convert this dataframe to an interactive table.\"\n",
              "              style=\"display:none;\">\n",
              "        \n",
              "  <svg xmlns=\"http://www.w3.org/2000/svg\" height=\"24px\"viewBox=\"0 0 24 24\"\n",
              "       width=\"24px\">\n",
              "    <path d=\"M0 0h24v24H0V0z\" fill=\"none\"/>\n",
              "    <path d=\"M18.56 5.44l.94 2.06.94-2.06 2.06-.94-2.06-.94-.94-2.06-.94 2.06-2.06.94zm-11 1L8.5 8.5l.94-2.06 2.06-.94-2.06-.94L8.5 2.5l-.94 2.06-2.06.94zm10 10l.94 2.06.94-2.06 2.06-.94-2.06-.94-.94-2.06-.94 2.06-2.06.94z\"/><path d=\"M17.41 7.96l-1.37-1.37c-.4-.4-.92-.59-1.43-.59-.52 0-1.04.2-1.43.59L10.3 9.45l-7.72 7.72c-.78.78-.78 2.05 0 2.83L4 21.41c.39.39.9.59 1.41.59.51 0 1.02-.2 1.41-.59l7.78-7.78 2.81-2.81c.8-.78.8-2.07 0-2.86zM5.41 20L4 18.59l7.72-7.72 1.47 1.35L5.41 20z\"/>\n",
              "  </svg>\n",
              "      </button>\n",
              "      \n",
              "  <style>\n",
              "    .colab-df-container {\n",
              "      display:flex;\n",
              "      flex-wrap:wrap;\n",
              "      gap: 12px;\n",
              "    }\n",
              "\n",
              "    .colab-df-convert {\n",
              "      background-color: #E8F0FE;\n",
              "      border: none;\n",
              "      border-radius: 50%;\n",
              "      cursor: pointer;\n",
              "      display: none;\n",
              "      fill: #1967D2;\n",
              "      height: 32px;\n",
              "      padding: 0 0 0 0;\n",
              "      width: 32px;\n",
              "    }\n",
              "\n",
              "    .colab-df-convert:hover {\n",
              "      background-color: #E2EBFA;\n",
              "      box-shadow: 0px 1px 2px rgba(60, 64, 67, 0.3), 0px 1px 3px 1px rgba(60, 64, 67, 0.15);\n",
              "      fill: #174EA6;\n",
              "    }\n",
              "\n",
              "    [theme=dark] .colab-df-convert {\n",
              "      background-color: #3B4455;\n",
              "      fill: #D2E3FC;\n",
              "    }\n",
              "\n",
              "    [theme=dark] .colab-df-convert:hover {\n",
              "      background-color: #434B5C;\n",
              "      box-shadow: 0px 1px 3px 1px rgba(0, 0, 0, 0.15);\n",
              "      filter: drop-shadow(0px 1px 2px rgba(0, 0, 0, 0.3));\n",
              "      fill: #FFFFFF;\n",
              "    }\n",
              "  </style>\n",
              "\n",
              "      <script>\n",
              "        const buttonEl =\n",
              "          document.querySelector('#df-74115e99-ac4b-4128-9248-e9f7b053be39 button.colab-df-convert');\n",
              "        buttonEl.style.display =\n",
              "          google.colab.kernel.accessAllowed ? 'block' : 'none';\n",
              "\n",
              "        async function convertToInteractive(key) {\n",
              "          const element = document.querySelector('#df-74115e99-ac4b-4128-9248-e9f7b053be39');\n",
              "          const dataTable =\n",
              "            await google.colab.kernel.invokeFunction('convertToInteractive',\n",
              "                                                     [key], {});\n",
              "          if (!dataTable) return;\n",
              "\n",
              "          const docLinkHtml = 'Like what you see? Visit the ' +\n",
              "            '<a target=\"_blank\" href=https://colab.research.google.com/notebooks/data_table.ipynb>data table notebook</a>'\n",
              "            + ' to learn more about interactive tables.';\n",
              "          element.innerHTML = '';\n",
              "          dataTable['output_type'] = 'display_data';\n",
              "          await google.colab.output.renderOutput(dataTable, element);\n",
              "          const docLink = document.createElement('div');\n",
              "          docLink.innerHTML = docLinkHtml;\n",
              "          element.appendChild(docLink);\n",
              "        }\n",
              "      </script>\n",
              "    </div>\n",
              "  </div>\n",
              "  "
            ],
            "text/plain": [
              "       item1  item2  item3  item4  item5\n",
              "Alice      1      0      1      1      0\n",
              "Bob        1      1      0      1      0\n",
              "Carol      1      0      0      1      0\n",
              "Tom        1      0      0      1      1"
            ]
          },
          "execution_count": 29,
          "metadata": {},
          "output_type": "execute_result"
        }
      ],
      "source": [
        "us = ['Alice', 'Bob', 'Carol', 'Tom']\n",
        "it = ['item1', 'item2', 'item3', 'item4', 'item5']\n",
        "inte = np.array([[1, 0, 1, 1, 0], [1, 1, 0, 1, 0], [1, 0, 0, 1, 0], [1, 0, 0, 1, 1]])\n",
        "ss = pd.DataFrame(inte, us, it)\n",
        "ss"
      ]
    },
    {
      "cell_type": "code",
      "execution_count": null,
      "metadata": {
        "id": "1nQzd2PgPNTs"
      },
      "outputs": [],
      "source": [
        "U_1, V_1, M_s, M_e = SVD(ss.values, 2, 1e-3, 0.01, 10000)"
      ]
    },
    {
      "cell_type": "code",
      "execution_count": null,
      "metadata": {
        "id": "OxXFwRwxPZtz"
      },
      "outputs": [],
      "source": [
        "r_cap = np.zeros((ss.shape[0], ss.shape[1]))\n",
        "for i in range(ss.shape[0]):\n",
        "  for j in range(ss.shape[1]):\n",
        "    r_cap[i, j] = np.dot(U_1[i, :], V_1[:, j])"
      ]
    },
    {
      "cell_type": "code",
      "execution_count": null,
      "metadata": {
        "colab": {
          "base_uri": "https://localhost:8080/"
        },
        "id": "LXJH8fmYP2Ez",
        "outputId": "0123bcf0-0774-4421-d3bd-0f1055675cbc"
      },
      "outputs": [
        {
          "data": {
            "text/plain": [
              "array([[0.95053437, 1.089483  , 1.08248368, 0.94835773, 1.09408109],\n",
              "       [0.94692147, 1.08534196, 1.07836925, 0.94475311, 1.08992258],\n",
              "       [1.0527914 , 1.20668794, 1.19893565, 1.0503806 , 1.21178069],\n",
              "       [0.94688458, 1.08529968, 1.07832724, 0.9447163 , 1.08988012]])"
            ]
          },
          "execution_count": 69,
          "metadata": {},
          "output_type": "execute_result"
        }
      ],
      "source": [
        "r_cap"
      ]
    },
    {
      "cell_type": "code",
      "execution_count": null,
      "metadata": {
        "colab": {
          "base_uri": "https://localhost:8080/"
        },
        "id": "19JDKQAbQFLj",
        "outputId": "7aeb71df-e6b7-4c94-8bef-c9b6c9215b4a"
      },
      "outputs": [
        {
          "data": {
            "text/plain": [
              "array([0.8904344 , 0.31234752, 0.31234752, 0.8904344 , 0.        ])"
            ]
          },
          "execution_count": 85,
          "metadata": {},
          "output_type": "execute_result"
        }
      ],
      "source": [
        "# rating matrix\n",
        "a = np.array([[1, 0, 1, 1, 0],\n",
        "              [1, 1, 0, 1, 0],\n",
        "              [1, 0, 0, 1, 0]])\n",
        "\n",
        "# vector of a new user's preferences\n",
        "p = np.array([1, 0, 0, 1, 1])\n",
        "\n",
        "# ========== Standard Model ==========\n",
        "\n",
        "rank = 2\n",
        "u, s, vt = np.linalg.svd(a, full_matrices=False)\n",
        "v = vt.T[:, :rank]\n",
        "\n",
        "# recommendations for the user with standard folding-in approach\n",
        "recs = p.dot(v).dot(v.T)\n",
        "recs"
      ]
    },
    {
      "cell_type": "code",
      "execution_count": 5,
      "metadata": {
        "colab": {
          "base_uri": "https://localhost:8080/"
        },
        "id": "IO8vGv1iQwqk",
        "outputId": "89913564-fb69-4e32-aabd-e3cdccf9f7db"
      },
      "outputs": [
        {
          "name": "stderr",
          "output_type": "stream",
          "text": [
            "<ipython-input-5-aeabab525178>:1: ParserWarning: Falling back to the 'python' engine because the 'c' engine does not support regex separators (separators > 1 char and different from '\\s+' are interpreted as regex); you can avoid this warning by specifying engine='python'.\n",
            "  ratings = pd.read_csv('/content/drive/MyDrive/Data_HSVD/ratings.dat', sep='::', names=['userid', 'movieid', 'rating', 'timestamp'])\n",
            "<ipython-input-5-aeabab525178>:2: ParserWarning: Falling back to the 'python' engine because the 'c' engine does not support regex separators (separators > 1 char and different from '\\s+' are interpreted as regex); you can avoid this warning by specifying engine='python'.\n",
            "  movies = pd.read_csv('/content/drive/MyDrive/Data_HSVD/movies.dat', sep='::',names=['movieid', 'title', 'genres'],\n",
            "<ipython-input-5-aeabab525178>:4: ParserWarning: Falling back to the 'python' engine because the 'c' engine does not support regex separators (separators > 1 char and different from '\\s+' are interpreted as regex); you can avoid this warning by specifying engine='python'.\n",
            "  users = pd.read_csv('/content/drive/MyDrive/Data_HSVD/users.dat', sep='::', names=['userid', 'gender', 'age', 'occupation', 'zip-code'])\n"
          ]
        }
      ],
      "source": [
        "ratings = pd.read_csv('/content/drive/MyDrive/Data_HSVD/ratings.dat', sep='::', names=['userid', 'movieid', 'rating', 'timestamp'])\n",
        "movies = pd.read_csv('/content/drive/MyDrive/Data_HSVD/movies.dat', sep='::',names=['movieid', 'title', 'genres'],\n",
        "                              encoding='ascii',encoding_errors='replace')\n",
        "users = pd.read_csv('/content/drive/MyDrive/Data_HSVD/users.dat', sep='::', names=['userid', 'gender', 'age', 'occupation', 'zip-code'])"
      ]
    },
    {
      "cell_type": "code",
      "execution_count": 7,
      "metadata": {
        "colab": {
          "base_uri": "https://localhost:8080/",
          "height": 224
        },
        "id": "JpCI0H06RN-i",
        "outputId": "45faf9e1-afd8-4a0d-80cc-4bd6c86d51bd"
      },
      "outputs": [
        {
          "name": "stdout",
          "output_type": "stream",
          "text": [
            "(1000209, 4)\n"
          ]
        },
        {
          "data": {
            "text/html": [
              "\n",
              "  <div id=\"df-ffdd4932-e202-40c1-b75e-372deec1a6fe\">\n",
              "    <div class=\"colab-df-container\">\n",
              "      <div>\n",
              "<style scoped>\n",
              "    .dataframe tbody tr th:only-of-type {\n",
              "        vertical-align: middle;\n",
              "    }\n",
              "\n",
              "    .dataframe tbody tr th {\n",
              "        vertical-align: top;\n",
              "    }\n",
              "\n",
              "    .dataframe thead th {\n",
              "        text-align: right;\n",
              "    }\n",
              "</style>\n",
              "<table border=\"1\" class=\"dataframe\">\n",
              "  <thead>\n",
              "    <tr style=\"text-align: right;\">\n",
              "      <th></th>\n",
              "      <th>userid</th>\n",
              "      <th>movieid</th>\n",
              "      <th>rating</th>\n",
              "      <th>timestamp</th>\n",
              "    </tr>\n",
              "  </thead>\n",
              "  <tbody>\n",
              "    <tr>\n",
              "      <th>0</th>\n",
              "      <td>1</td>\n",
              "      <td>1193</td>\n",
              "      <td>5</td>\n",
              "      <td>978300760</td>\n",
              "    </tr>\n",
              "    <tr>\n",
              "      <th>1</th>\n",
              "      <td>1</td>\n",
              "      <td>661</td>\n",
              "      <td>3</td>\n",
              "      <td>978302109</td>\n",
              "    </tr>\n",
              "    <tr>\n",
              "      <th>2</th>\n",
              "      <td>1</td>\n",
              "      <td>914</td>\n",
              "      <td>3</td>\n",
              "      <td>978301968</td>\n",
              "    </tr>\n",
              "    <tr>\n",
              "      <th>3</th>\n",
              "      <td>1</td>\n",
              "      <td>3408</td>\n",
              "      <td>4</td>\n",
              "      <td>978300275</td>\n",
              "    </tr>\n",
              "    <tr>\n",
              "      <th>4</th>\n",
              "      <td>1</td>\n",
              "      <td>2355</td>\n",
              "      <td>5</td>\n",
              "      <td>978824291</td>\n",
              "    </tr>\n",
              "  </tbody>\n",
              "</table>\n",
              "</div>\n",
              "      <button class=\"colab-df-convert\" onclick=\"convertToInteractive('df-ffdd4932-e202-40c1-b75e-372deec1a6fe')\"\n",
              "              title=\"Convert this dataframe to an interactive table.\"\n",
              "              style=\"display:none;\">\n",
              "        \n",
              "  <svg xmlns=\"http://www.w3.org/2000/svg\" height=\"24px\"viewBox=\"0 0 24 24\"\n",
              "       width=\"24px\">\n",
              "    <path d=\"M0 0h24v24H0V0z\" fill=\"none\"/>\n",
              "    <path d=\"M18.56 5.44l.94 2.06.94-2.06 2.06-.94-2.06-.94-.94-2.06-.94 2.06-2.06.94zm-11 1L8.5 8.5l.94-2.06 2.06-.94-2.06-.94L8.5 2.5l-.94 2.06-2.06.94zm10 10l.94 2.06.94-2.06 2.06-.94-2.06-.94-.94-2.06-.94 2.06-2.06.94z\"/><path d=\"M17.41 7.96l-1.37-1.37c-.4-.4-.92-.59-1.43-.59-.52 0-1.04.2-1.43.59L10.3 9.45l-7.72 7.72c-.78.78-.78 2.05 0 2.83L4 21.41c.39.39.9.59 1.41.59.51 0 1.02-.2 1.41-.59l7.78-7.78 2.81-2.81c.8-.78.8-2.07 0-2.86zM5.41 20L4 18.59l7.72-7.72 1.47 1.35L5.41 20z\"/>\n",
              "  </svg>\n",
              "      </button>\n",
              "      \n",
              "  <style>\n",
              "    .colab-df-container {\n",
              "      display:flex;\n",
              "      flex-wrap:wrap;\n",
              "      gap: 12px;\n",
              "    }\n",
              "\n",
              "    .colab-df-convert {\n",
              "      background-color: #E8F0FE;\n",
              "      border: none;\n",
              "      border-radius: 50%;\n",
              "      cursor: pointer;\n",
              "      display: none;\n",
              "      fill: #1967D2;\n",
              "      height: 32px;\n",
              "      padding: 0 0 0 0;\n",
              "      width: 32px;\n",
              "    }\n",
              "\n",
              "    .colab-df-convert:hover {\n",
              "      background-color: #E2EBFA;\n",
              "      box-shadow: 0px 1px 2px rgba(60, 64, 67, 0.3), 0px 1px 3px 1px rgba(60, 64, 67, 0.15);\n",
              "      fill: #174EA6;\n",
              "    }\n",
              "\n",
              "    [theme=dark] .colab-df-convert {\n",
              "      background-color: #3B4455;\n",
              "      fill: #D2E3FC;\n",
              "    }\n",
              "\n",
              "    [theme=dark] .colab-df-convert:hover {\n",
              "      background-color: #434B5C;\n",
              "      box-shadow: 0px 1px 3px 1px rgba(0, 0, 0, 0.15);\n",
              "      filter: drop-shadow(0px 1px 2px rgba(0, 0, 0, 0.3));\n",
              "      fill: #FFFFFF;\n",
              "    }\n",
              "  </style>\n",
              "\n",
              "      <script>\n",
              "        const buttonEl =\n",
              "          document.querySelector('#df-ffdd4932-e202-40c1-b75e-372deec1a6fe button.colab-df-convert');\n",
              "        buttonEl.style.display =\n",
              "          google.colab.kernel.accessAllowed ? 'block' : 'none';\n",
              "\n",
              "        async function convertToInteractive(key) {\n",
              "          const element = document.querySelector('#df-ffdd4932-e202-40c1-b75e-372deec1a6fe');\n",
              "          const dataTable =\n",
              "            await google.colab.kernel.invokeFunction('convertToInteractive',\n",
              "                                                     [key], {});\n",
              "          if (!dataTable) return;\n",
              "\n",
              "          const docLinkHtml = 'Like what you see? Visit the ' +\n",
              "            '<a target=\"_blank\" href=https://colab.research.google.com/notebooks/data_table.ipynb>data table notebook</a>'\n",
              "            + ' to learn more about interactive tables.';\n",
              "          element.innerHTML = '';\n",
              "          dataTable['output_type'] = 'display_data';\n",
              "          await google.colab.output.renderOutput(dataTable, element);\n",
              "          const docLink = document.createElement('div');\n",
              "          docLink.innerHTML = docLinkHtml;\n",
              "          element.appendChild(docLink);\n",
              "        }\n",
              "      </script>\n",
              "    </div>\n",
              "  </div>\n",
              "  "
            ],
            "text/plain": [
              "   userid  movieid  rating  timestamp\n",
              "0       1     1193       5  978300760\n",
              "1       1      661       3  978302109\n",
              "2       1      914       3  978301968\n",
              "3       1     3408       4  978300275\n",
              "4       1     2355       5  978824291"
            ]
          },
          "execution_count": 7,
          "metadata": {},
          "output_type": "execute_result"
        }
      ],
      "source": [
        "print(ratings.shape)\n",
        "ratings.head()"
      ]
    },
    {
      "cell_type": "code",
      "execution_count": 21,
      "metadata": {
        "colab": {
          "base_uri": "https://localhost:8080/"
        },
        "id": "py1mmPBjgv6x",
        "outputId": "c42145e6-1b39-4c1f-9a1d-b6ec147718e6"
      },
      "outputs": [
        {
          "data": {
            "text/plain": [
              "5"
            ]
          },
          "execution_count": 21,
          "metadata": {},
          "output_type": "execute_result"
        }
      ],
      "source": [
        "ratings.rating.max()"
      ]
    },
    {
      "cell_type": "code",
      "execution_count": 8,
      "metadata": {
        "colab": {
          "base_uri": "https://localhost:8080/",
          "height": 224
        },
        "id": "pyzhWqNARYLx",
        "outputId": "3d65f498-0d0b-4c26-d1e4-258b00a03171"
      },
      "outputs": [
        {
          "name": "stdout",
          "output_type": "stream",
          "text": [
            "(3883, 3)\n"
          ]
        },
        {
          "data": {
            "text/html": [
              "\n",
              "  <div id=\"df-90fafeb3-ff66-4719-92e7-43cdc79ba6a7\">\n",
              "    <div class=\"colab-df-container\">\n",
              "      <div>\n",
              "<style scoped>\n",
              "    .dataframe tbody tr th:only-of-type {\n",
              "        vertical-align: middle;\n",
              "    }\n",
              "\n",
              "    .dataframe tbody tr th {\n",
              "        vertical-align: top;\n",
              "    }\n",
              "\n",
              "    .dataframe thead th {\n",
              "        text-align: right;\n",
              "    }\n",
              "</style>\n",
              "<table border=\"1\" class=\"dataframe\">\n",
              "  <thead>\n",
              "    <tr style=\"text-align: right;\">\n",
              "      <th></th>\n",
              "      <th>movieid</th>\n",
              "      <th>title</th>\n",
              "      <th>genres</th>\n",
              "    </tr>\n",
              "  </thead>\n",
              "  <tbody>\n",
              "    <tr>\n",
              "      <th>0</th>\n",
              "      <td>1</td>\n",
              "      <td>Toy Story (1995)</td>\n",
              "      <td>Animation|Children's|Comedy</td>\n",
              "    </tr>\n",
              "    <tr>\n",
              "      <th>1</th>\n",
              "      <td>2</td>\n",
              "      <td>Jumanji (1995)</td>\n",
              "      <td>Adventure|Children's|Fantasy</td>\n",
              "    </tr>\n",
              "    <tr>\n",
              "      <th>2</th>\n",
              "      <td>3</td>\n",
              "      <td>Grumpier Old Men (1995)</td>\n",
              "      <td>Comedy|Romance</td>\n",
              "    </tr>\n",
              "    <tr>\n",
              "      <th>3</th>\n",
              "      <td>4</td>\n",
              "      <td>Waiting to Exhale (1995)</td>\n",
              "      <td>Comedy|Drama</td>\n",
              "    </tr>\n",
              "    <tr>\n",
              "      <th>4</th>\n",
              "      <td>5</td>\n",
              "      <td>Father of the Bride Part II (1995)</td>\n",
              "      <td>Comedy</td>\n",
              "    </tr>\n",
              "  </tbody>\n",
              "</table>\n",
              "</div>\n",
              "      <button class=\"colab-df-convert\" onclick=\"convertToInteractive('df-90fafeb3-ff66-4719-92e7-43cdc79ba6a7')\"\n",
              "              title=\"Convert this dataframe to an interactive table.\"\n",
              "              style=\"display:none;\">\n",
              "        \n",
              "  <svg xmlns=\"http://www.w3.org/2000/svg\" height=\"24px\"viewBox=\"0 0 24 24\"\n",
              "       width=\"24px\">\n",
              "    <path d=\"M0 0h24v24H0V0z\" fill=\"none\"/>\n",
              "    <path d=\"M18.56 5.44l.94 2.06.94-2.06 2.06-.94-2.06-.94-.94-2.06-.94 2.06-2.06.94zm-11 1L8.5 8.5l.94-2.06 2.06-.94-2.06-.94L8.5 2.5l-.94 2.06-2.06.94zm10 10l.94 2.06.94-2.06 2.06-.94-2.06-.94-.94-2.06-.94 2.06-2.06.94z\"/><path d=\"M17.41 7.96l-1.37-1.37c-.4-.4-.92-.59-1.43-.59-.52 0-1.04.2-1.43.59L10.3 9.45l-7.72 7.72c-.78.78-.78 2.05 0 2.83L4 21.41c.39.39.9.59 1.41.59.51 0 1.02-.2 1.41-.59l7.78-7.78 2.81-2.81c.8-.78.8-2.07 0-2.86zM5.41 20L4 18.59l7.72-7.72 1.47 1.35L5.41 20z\"/>\n",
              "  </svg>\n",
              "      </button>\n",
              "      \n",
              "  <style>\n",
              "    .colab-df-container {\n",
              "      display:flex;\n",
              "      flex-wrap:wrap;\n",
              "      gap: 12px;\n",
              "    }\n",
              "\n",
              "    .colab-df-convert {\n",
              "      background-color: #E8F0FE;\n",
              "      border: none;\n",
              "      border-radius: 50%;\n",
              "      cursor: pointer;\n",
              "      display: none;\n",
              "      fill: #1967D2;\n",
              "      height: 32px;\n",
              "      padding: 0 0 0 0;\n",
              "      width: 32px;\n",
              "    }\n",
              "\n",
              "    .colab-df-convert:hover {\n",
              "      background-color: #E2EBFA;\n",
              "      box-shadow: 0px 1px 2px rgba(60, 64, 67, 0.3), 0px 1px 3px 1px rgba(60, 64, 67, 0.15);\n",
              "      fill: #174EA6;\n",
              "    }\n",
              "\n",
              "    [theme=dark] .colab-df-convert {\n",
              "      background-color: #3B4455;\n",
              "      fill: #D2E3FC;\n",
              "    }\n",
              "\n",
              "    [theme=dark] .colab-df-convert:hover {\n",
              "      background-color: #434B5C;\n",
              "      box-shadow: 0px 1px 3px 1px rgba(0, 0, 0, 0.15);\n",
              "      filter: drop-shadow(0px 1px 2px rgba(0, 0, 0, 0.3));\n",
              "      fill: #FFFFFF;\n",
              "    }\n",
              "  </style>\n",
              "\n",
              "      <script>\n",
              "        const buttonEl =\n",
              "          document.querySelector('#df-90fafeb3-ff66-4719-92e7-43cdc79ba6a7 button.colab-df-convert');\n",
              "        buttonEl.style.display =\n",
              "          google.colab.kernel.accessAllowed ? 'block' : 'none';\n",
              "\n",
              "        async function convertToInteractive(key) {\n",
              "          const element = document.querySelector('#df-90fafeb3-ff66-4719-92e7-43cdc79ba6a7');\n",
              "          const dataTable =\n",
              "            await google.colab.kernel.invokeFunction('convertToInteractive',\n",
              "                                                     [key], {});\n",
              "          if (!dataTable) return;\n",
              "\n",
              "          const docLinkHtml = 'Like what you see? Visit the ' +\n",
              "            '<a target=\"_blank\" href=https://colab.research.google.com/notebooks/data_table.ipynb>data table notebook</a>'\n",
              "            + ' to learn more about interactive tables.';\n",
              "          element.innerHTML = '';\n",
              "          dataTable['output_type'] = 'display_data';\n",
              "          await google.colab.output.renderOutput(dataTable, element);\n",
              "          const docLink = document.createElement('div');\n",
              "          docLink.innerHTML = docLinkHtml;\n",
              "          element.appendChild(docLink);\n",
              "        }\n",
              "      </script>\n",
              "    </div>\n",
              "  </div>\n",
              "  "
            ],
            "text/plain": [
              "   movieid                               title                        genres\n",
              "0        1                    Toy Story (1995)   Animation|Children's|Comedy\n",
              "1        2                      Jumanji (1995)  Adventure|Children's|Fantasy\n",
              "2        3             Grumpier Old Men (1995)                Comedy|Romance\n",
              "3        4            Waiting to Exhale (1995)                  Comedy|Drama\n",
              "4        5  Father of the Bride Part II (1995)                        Comedy"
            ]
          },
          "execution_count": 8,
          "metadata": {},
          "output_type": "execute_result"
        }
      ],
      "source": [
        "print(movies.shape)\n",
        "movies.head()"
      ]
    },
    {
      "cell_type": "code",
      "execution_count": 9,
      "metadata": {
        "colab": {
          "base_uri": "https://localhost:8080/",
          "height": 224
        },
        "id": "1qZjRfSjRcAL",
        "outputId": "f6494c68-ad42-4e96-d9c1-91f4bf9b52ad"
      },
      "outputs": [
        {
          "name": "stdout",
          "output_type": "stream",
          "text": [
            "(6040, 5)\n"
          ]
        },
        {
          "data": {
            "text/html": [
              "\n",
              "  <div id=\"df-49d3811a-724a-4a00-af35-67bd6dbc7dee\">\n",
              "    <div class=\"colab-df-container\">\n",
              "      <div>\n",
              "<style scoped>\n",
              "    .dataframe tbody tr th:only-of-type {\n",
              "        vertical-align: middle;\n",
              "    }\n",
              "\n",
              "    .dataframe tbody tr th {\n",
              "        vertical-align: top;\n",
              "    }\n",
              "\n",
              "    .dataframe thead th {\n",
              "        text-align: right;\n",
              "    }\n",
              "</style>\n",
              "<table border=\"1\" class=\"dataframe\">\n",
              "  <thead>\n",
              "    <tr style=\"text-align: right;\">\n",
              "      <th></th>\n",
              "      <th>userid</th>\n",
              "      <th>gender</th>\n",
              "      <th>age</th>\n",
              "      <th>occupation</th>\n",
              "      <th>zip-code</th>\n",
              "    </tr>\n",
              "  </thead>\n",
              "  <tbody>\n",
              "    <tr>\n",
              "      <th>0</th>\n",
              "      <td>1</td>\n",
              "      <td>F</td>\n",
              "      <td>1</td>\n",
              "      <td>10</td>\n",
              "      <td>48067</td>\n",
              "    </tr>\n",
              "    <tr>\n",
              "      <th>1</th>\n",
              "      <td>2</td>\n",
              "      <td>M</td>\n",
              "      <td>56</td>\n",
              "      <td>16</td>\n",
              "      <td>70072</td>\n",
              "    </tr>\n",
              "    <tr>\n",
              "      <th>2</th>\n",
              "      <td>3</td>\n",
              "      <td>M</td>\n",
              "      <td>25</td>\n",
              "      <td>15</td>\n",
              "      <td>55117</td>\n",
              "    </tr>\n",
              "    <tr>\n",
              "      <th>3</th>\n",
              "      <td>4</td>\n",
              "      <td>M</td>\n",
              "      <td>45</td>\n",
              "      <td>7</td>\n",
              "      <td>02460</td>\n",
              "    </tr>\n",
              "    <tr>\n",
              "      <th>4</th>\n",
              "      <td>5</td>\n",
              "      <td>M</td>\n",
              "      <td>25</td>\n",
              "      <td>20</td>\n",
              "      <td>55455</td>\n",
              "    </tr>\n",
              "  </tbody>\n",
              "</table>\n",
              "</div>\n",
              "      <button class=\"colab-df-convert\" onclick=\"convertToInteractive('df-49d3811a-724a-4a00-af35-67bd6dbc7dee')\"\n",
              "              title=\"Convert this dataframe to an interactive table.\"\n",
              "              style=\"display:none;\">\n",
              "        \n",
              "  <svg xmlns=\"http://www.w3.org/2000/svg\" height=\"24px\"viewBox=\"0 0 24 24\"\n",
              "       width=\"24px\">\n",
              "    <path d=\"M0 0h24v24H0V0z\" fill=\"none\"/>\n",
              "    <path d=\"M18.56 5.44l.94 2.06.94-2.06 2.06-.94-2.06-.94-.94-2.06-.94 2.06-2.06.94zm-11 1L8.5 8.5l.94-2.06 2.06-.94-2.06-.94L8.5 2.5l-.94 2.06-2.06.94zm10 10l.94 2.06.94-2.06 2.06-.94-2.06-.94-.94-2.06-.94 2.06-2.06.94z\"/><path d=\"M17.41 7.96l-1.37-1.37c-.4-.4-.92-.59-1.43-.59-.52 0-1.04.2-1.43.59L10.3 9.45l-7.72 7.72c-.78.78-.78 2.05 0 2.83L4 21.41c.39.39.9.59 1.41.59.51 0 1.02-.2 1.41-.59l7.78-7.78 2.81-2.81c.8-.78.8-2.07 0-2.86zM5.41 20L4 18.59l7.72-7.72 1.47 1.35L5.41 20z\"/>\n",
              "  </svg>\n",
              "      </button>\n",
              "      \n",
              "  <style>\n",
              "    .colab-df-container {\n",
              "      display:flex;\n",
              "      flex-wrap:wrap;\n",
              "      gap: 12px;\n",
              "    }\n",
              "\n",
              "    .colab-df-convert {\n",
              "      background-color: #E8F0FE;\n",
              "      border: none;\n",
              "      border-radius: 50%;\n",
              "      cursor: pointer;\n",
              "      display: none;\n",
              "      fill: #1967D2;\n",
              "      height: 32px;\n",
              "      padding: 0 0 0 0;\n",
              "      width: 32px;\n",
              "    }\n",
              "\n",
              "    .colab-df-convert:hover {\n",
              "      background-color: #E2EBFA;\n",
              "      box-shadow: 0px 1px 2px rgba(60, 64, 67, 0.3), 0px 1px 3px 1px rgba(60, 64, 67, 0.15);\n",
              "      fill: #174EA6;\n",
              "    }\n",
              "\n",
              "    [theme=dark] .colab-df-convert {\n",
              "      background-color: #3B4455;\n",
              "      fill: #D2E3FC;\n",
              "    }\n",
              "\n",
              "    [theme=dark] .colab-df-convert:hover {\n",
              "      background-color: #434B5C;\n",
              "      box-shadow: 0px 1px 3px 1px rgba(0, 0, 0, 0.15);\n",
              "      filter: drop-shadow(0px 1px 2px rgba(0, 0, 0, 0.3));\n",
              "      fill: #FFFFFF;\n",
              "    }\n",
              "  </style>\n",
              "\n",
              "      <script>\n",
              "        const buttonEl =\n",
              "          document.querySelector('#df-49d3811a-724a-4a00-af35-67bd6dbc7dee button.colab-df-convert');\n",
              "        buttonEl.style.display =\n",
              "          google.colab.kernel.accessAllowed ? 'block' : 'none';\n",
              "\n",
              "        async function convertToInteractive(key) {\n",
              "          const element = document.querySelector('#df-49d3811a-724a-4a00-af35-67bd6dbc7dee');\n",
              "          const dataTable =\n",
              "            await google.colab.kernel.invokeFunction('convertToInteractive',\n",
              "                                                     [key], {});\n",
              "          if (!dataTable) return;\n",
              "\n",
              "          const docLinkHtml = 'Like what you see? Visit the ' +\n",
              "            '<a target=\"_blank\" href=https://colab.research.google.com/notebooks/data_table.ipynb>data table notebook</a>'\n",
              "            + ' to learn more about interactive tables.';\n",
              "          element.innerHTML = '';\n",
              "          dataTable['output_type'] = 'display_data';\n",
              "          await google.colab.output.renderOutput(dataTable, element);\n",
              "          const docLink = document.createElement('div');\n",
              "          docLink.innerHTML = docLinkHtml;\n",
              "          element.appendChild(docLink);\n",
              "        }\n",
              "      </script>\n",
              "    </div>\n",
              "  </div>\n",
              "  "
            ],
            "text/plain": [
              "   userid gender  age  occupation zip-code\n",
              "0       1      F    1          10    48067\n",
              "1       2      M   56          16    70072\n",
              "2       3      M   25          15    55117\n",
              "3       4      M   45           7    02460\n",
              "4       5      M   25          20    55455"
            ]
          },
          "execution_count": 9,
          "metadata": {},
          "output_type": "execute_result"
        }
      ],
      "source": [
        "print(users.shape)\n",
        "users.head()"
      ]
    },
    {
      "attachments": {},
      "cell_type": "markdown",
      "metadata": {
        "id": "iD6uzUbqbN5H"
      },
      "source": [
        "# Preprocessing"
      ]
    },
    {
      "attachments": {},
      "cell_type": "markdown",
      "metadata": {
        "id": "vyJCvPfxRrfC"
      },
      "source": [
        "First, we create a set of binary features for each genre. The purpose of this preprocessing step is to convert categorical data (i.e., movie genres) into numerical features that can be used as input to machine learning algorithms. By creating binary feature columns for each genre, we can represent each movie as a vector of $0$'s and $1$'s indicating which genres it belongs to. We have matrix $F_I$ with size $n\\_genres \\times n\\_movies$. \\\\"
      ]
    },
    {
      "cell_type": "code",
      "execution_count": 6,
      "metadata": {
        "id": "T3MXs77WR8_w"
      },
      "outputs": [],
      "source": [
        "#encode genres\n",
        "movies['genres'] = movies['genres'].apply(lambda x: str(x).split('|'))\n",
        "all_genres = set(list(movies['genres'].sum()))\n",
        "for genre in all_genres:\n",
        "    movies[genre] = movies['genres'].apply(lambda x: genre in x).astype(int)"
      ]
    },
    {
      "cell_type": "code",
      "execution_count": 7,
      "metadata": {
        "colab": {
          "base_uri": "https://localhost:8080/",
          "height": 349
        },
        "id": "tptGhapASF6q",
        "outputId": "93b3d286-ce08-4d9c-f4d4-3623760b386b"
      },
      "outputs": [
        {
          "data": {
            "text/html": [
              "\n",
              "  <div id=\"df-745f8b6d-1a82-499a-95c2-e9dc2306ce3e\">\n",
              "    <div class=\"colab-df-container\">\n",
              "      <div>\n",
              "<style scoped>\n",
              "    .dataframe tbody tr th:only-of-type {\n",
              "        vertical-align: middle;\n",
              "    }\n",
              "\n",
              "    .dataframe tbody tr th {\n",
              "        vertical-align: top;\n",
              "    }\n",
              "\n",
              "    .dataframe thead th {\n",
              "        text-align: right;\n",
              "    }\n",
              "</style>\n",
              "<table border=\"1\" class=\"dataframe\">\n",
              "  <thead>\n",
              "    <tr style=\"text-align: right;\">\n",
              "      <th></th>\n",
              "      <th>movieid</th>\n",
              "      <th>title</th>\n",
              "      <th>genres</th>\n",
              "      <th>Fantasy</th>\n",
              "      <th>Romance</th>\n",
              "      <th>Mystery</th>\n",
              "      <th>Adventure</th>\n",
              "      <th>Comedy</th>\n",
              "      <th>Drama</th>\n",
              "      <th>Thriller</th>\n",
              "      <th>...</th>\n",
              "      <th>Horror</th>\n",
              "      <th>Musical</th>\n",
              "      <th>Western</th>\n",
              "      <th>Animation</th>\n",
              "      <th>Sci-Fi</th>\n",
              "      <th>Film-Noir</th>\n",
              "      <th>Crime</th>\n",
              "      <th>Action</th>\n",
              "      <th>Documentary</th>\n",
              "      <th>Children's</th>\n",
              "    </tr>\n",
              "  </thead>\n",
              "  <tbody>\n",
              "    <tr>\n",
              "      <th>0</th>\n",
              "      <td>1</td>\n",
              "      <td>Toy Story (1995)</td>\n",
              "      <td>[Animation, Children's, Comedy]</td>\n",
              "      <td>0</td>\n",
              "      <td>0</td>\n",
              "      <td>0</td>\n",
              "      <td>0</td>\n",
              "      <td>1</td>\n",
              "      <td>0</td>\n",
              "      <td>0</td>\n",
              "      <td>...</td>\n",
              "      <td>0</td>\n",
              "      <td>0</td>\n",
              "      <td>0</td>\n",
              "      <td>1</td>\n",
              "      <td>0</td>\n",
              "      <td>0</td>\n",
              "      <td>0</td>\n",
              "      <td>0</td>\n",
              "      <td>0</td>\n",
              "      <td>1</td>\n",
              "    </tr>\n",
              "    <tr>\n",
              "      <th>1</th>\n",
              "      <td>2</td>\n",
              "      <td>Jumanji (1995)</td>\n",
              "      <td>[Adventure, Children's, Fantasy]</td>\n",
              "      <td>1</td>\n",
              "      <td>0</td>\n",
              "      <td>0</td>\n",
              "      <td>1</td>\n",
              "      <td>0</td>\n",
              "      <td>0</td>\n",
              "      <td>0</td>\n",
              "      <td>...</td>\n",
              "      <td>0</td>\n",
              "      <td>0</td>\n",
              "      <td>0</td>\n",
              "      <td>0</td>\n",
              "      <td>0</td>\n",
              "      <td>0</td>\n",
              "      <td>0</td>\n",
              "      <td>0</td>\n",
              "      <td>0</td>\n",
              "      <td>1</td>\n",
              "    </tr>\n",
              "    <tr>\n",
              "      <th>2</th>\n",
              "      <td>3</td>\n",
              "      <td>Grumpier Old Men (1995)</td>\n",
              "      <td>[Comedy, Romance]</td>\n",
              "      <td>0</td>\n",
              "      <td>1</td>\n",
              "      <td>0</td>\n",
              "      <td>0</td>\n",
              "      <td>1</td>\n",
              "      <td>0</td>\n",
              "      <td>0</td>\n",
              "      <td>...</td>\n",
              "      <td>0</td>\n",
              "      <td>0</td>\n",
              "      <td>0</td>\n",
              "      <td>0</td>\n",
              "      <td>0</td>\n",
              "      <td>0</td>\n",
              "      <td>0</td>\n",
              "      <td>0</td>\n",
              "      <td>0</td>\n",
              "      <td>0</td>\n",
              "    </tr>\n",
              "    <tr>\n",
              "      <th>3</th>\n",
              "      <td>4</td>\n",
              "      <td>Waiting to Exhale (1995)</td>\n",
              "      <td>[Comedy, Drama]</td>\n",
              "      <td>0</td>\n",
              "      <td>0</td>\n",
              "      <td>0</td>\n",
              "      <td>0</td>\n",
              "      <td>1</td>\n",
              "      <td>1</td>\n",
              "      <td>0</td>\n",
              "      <td>...</td>\n",
              "      <td>0</td>\n",
              "      <td>0</td>\n",
              "      <td>0</td>\n",
              "      <td>0</td>\n",
              "      <td>0</td>\n",
              "      <td>0</td>\n",
              "      <td>0</td>\n",
              "      <td>0</td>\n",
              "      <td>0</td>\n",
              "      <td>0</td>\n",
              "    </tr>\n",
              "    <tr>\n",
              "      <th>4</th>\n",
              "      <td>5</td>\n",
              "      <td>Father of the Bride Part II (1995)</td>\n",
              "      <td>[Comedy]</td>\n",
              "      <td>0</td>\n",
              "      <td>0</td>\n",
              "      <td>0</td>\n",
              "      <td>0</td>\n",
              "      <td>1</td>\n",
              "      <td>0</td>\n",
              "      <td>0</td>\n",
              "      <td>...</td>\n",
              "      <td>0</td>\n",
              "      <td>0</td>\n",
              "      <td>0</td>\n",
              "      <td>0</td>\n",
              "      <td>0</td>\n",
              "      <td>0</td>\n",
              "      <td>0</td>\n",
              "      <td>0</td>\n",
              "      <td>0</td>\n",
              "      <td>0</td>\n",
              "    </tr>\n",
              "  </tbody>\n",
              "</table>\n",
              "<p>5 rows × 21 columns</p>\n",
              "</div>\n",
              "      <button class=\"colab-df-convert\" onclick=\"convertToInteractive('df-745f8b6d-1a82-499a-95c2-e9dc2306ce3e')\"\n",
              "              title=\"Convert this dataframe to an interactive table.\"\n",
              "              style=\"display:none;\">\n",
              "        \n",
              "  <svg xmlns=\"http://www.w3.org/2000/svg\" height=\"24px\"viewBox=\"0 0 24 24\"\n",
              "       width=\"24px\">\n",
              "    <path d=\"M0 0h24v24H0V0z\" fill=\"none\"/>\n",
              "    <path d=\"M18.56 5.44l.94 2.06.94-2.06 2.06-.94-2.06-.94-.94-2.06-.94 2.06-2.06.94zm-11 1L8.5 8.5l.94-2.06 2.06-.94-2.06-.94L8.5 2.5l-.94 2.06-2.06.94zm10 10l.94 2.06.94-2.06 2.06-.94-2.06-.94-.94-2.06-.94 2.06-2.06.94z\"/><path d=\"M17.41 7.96l-1.37-1.37c-.4-.4-.92-.59-1.43-.59-.52 0-1.04.2-1.43.59L10.3 9.45l-7.72 7.72c-.78.78-.78 2.05 0 2.83L4 21.41c.39.39.9.59 1.41.59.51 0 1.02-.2 1.41-.59l7.78-7.78 2.81-2.81c.8-.78.8-2.07 0-2.86zM5.41 20L4 18.59l7.72-7.72 1.47 1.35L5.41 20z\"/>\n",
              "  </svg>\n",
              "      </button>\n",
              "      \n",
              "  <style>\n",
              "    .colab-df-container {\n",
              "      display:flex;\n",
              "      flex-wrap:wrap;\n",
              "      gap: 12px;\n",
              "    }\n",
              "\n",
              "    .colab-df-convert {\n",
              "      background-color: #E8F0FE;\n",
              "      border: none;\n",
              "      border-radius: 50%;\n",
              "      cursor: pointer;\n",
              "      display: none;\n",
              "      fill: #1967D2;\n",
              "      height: 32px;\n",
              "      padding: 0 0 0 0;\n",
              "      width: 32px;\n",
              "    }\n",
              "\n",
              "    .colab-df-convert:hover {\n",
              "      background-color: #E2EBFA;\n",
              "      box-shadow: 0px 1px 2px rgba(60, 64, 67, 0.3), 0px 1px 3px 1px rgba(60, 64, 67, 0.15);\n",
              "      fill: #174EA6;\n",
              "    }\n",
              "\n",
              "    [theme=dark] .colab-df-convert {\n",
              "      background-color: #3B4455;\n",
              "      fill: #D2E3FC;\n",
              "    }\n",
              "\n",
              "    [theme=dark] .colab-df-convert:hover {\n",
              "      background-color: #434B5C;\n",
              "      box-shadow: 0px 1px 3px 1px rgba(0, 0, 0, 0.15);\n",
              "      filter: drop-shadow(0px 1px 2px rgba(0, 0, 0, 0.3));\n",
              "      fill: #FFFFFF;\n",
              "    }\n",
              "  </style>\n",
              "\n",
              "      <script>\n",
              "        const buttonEl =\n",
              "          document.querySelector('#df-745f8b6d-1a82-499a-95c2-e9dc2306ce3e button.colab-df-convert');\n",
              "        buttonEl.style.display =\n",
              "          google.colab.kernel.accessAllowed ? 'block' : 'none';\n",
              "\n",
              "        async function convertToInteractive(key) {\n",
              "          const element = document.querySelector('#df-745f8b6d-1a82-499a-95c2-e9dc2306ce3e');\n",
              "          const dataTable =\n",
              "            await google.colab.kernel.invokeFunction('convertToInteractive',\n",
              "                                                     [key], {});\n",
              "          if (!dataTable) return;\n",
              "\n",
              "          const docLinkHtml = 'Like what you see? Visit the ' +\n",
              "            '<a target=\"_blank\" href=https://colab.research.google.com/notebooks/data_table.ipynb>data table notebook</a>'\n",
              "            + ' to learn more about interactive tables.';\n",
              "          element.innerHTML = '';\n",
              "          dataTable['output_type'] = 'display_data';\n",
              "          await google.colab.output.renderOutput(dataTable, element);\n",
              "          const docLink = document.createElement('div');\n",
              "          docLink.innerHTML = docLinkHtml;\n",
              "          element.appendChild(docLink);\n",
              "        }\n",
              "      </script>\n",
              "    </div>\n",
              "  </div>\n",
              "  "
            ],
            "text/plain": [
              "   movieid                               title  \\\n",
              "0        1                    Toy Story (1995)   \n",
              "1        2                      Jumanji (1995)   \n",
              "2        3             Grumpier Old Men (1995)   \n",
              "3        4            Waiting to Exhale (1995)   \n",
              "4        5  Father of the Bride Part II (1995)   \n",
              "\n",
              "                             genres  Fantasy  Romance  Mystery  Adventure  \\\n",
              "0   [Animation, Children's, Comedy]        0        0        0          0   \n",
              "1  [Adventure, Children's, Fantasy]        1        0        0          1   \n",
              "2                 [Comedy, Romance]        0        1        0          0   \n",
              "3                   [Comedy, Drama]        0        0        0          0   \n",
              "4                          [Comedy]        0        0        0          0   \n",
              "\n",
              "   Comedy  Drama  Thriller  ...  Horror  Musical  Western  Animation  Sci-Fi  \\\n",
              "0       1      0         0  ...       0        0        0          1       0   \n",
              "1       0      0         0  ...       0        0        0          0       0   \n",
              "2       1      0         0  ...       0        0        0          0       0   \n",
              "3       1      1         0  ...       0        0        0          0       0   \n",
              "4       1      0         0  ...       0        0        0          0       0   \n",
              "\n",
              "   Film-Noir  Crime  Action  Documentary  Children's  \n",
              "0          0      0       0            0           1  \n",
              "1          0      0       0            0           1  \n",
              "2          0      0       0            0           0  \n",
              "3          0      0       0            0           0  \n",
              "4          0      0       0            0           0  \n",
              "\n",
              "[5 rows x 21 columns]"
            ]
          },
          "execution_count": 7,
          "metadata": {},
          "output_type": "execute_result"
        }
      ],
      "source": [
        "movies.head()"
      ]
    },
    {
      "attachments": {},
      "cell_type": "markdown",
      "metadata": {
        "id": "G4lmHwiCSjHT"
      },
      "source": [
        "Also we will preprocess users data. This preprocessing step is to convert categorical data (i.e., user occupations, ages, and genders) into numerical features. By creating binary feature columns for each occupation, age group, and gender, we can represent each user as a vector of $0$'s and $1$'s indicating their demographic characteristics. Here we have seven different ages and we will use this number for user features. This can be useful for building recommendation models that take into account user preferences based on these characteristics. We have matrix $F_U$ with size $n\\_users \\times n\\_occupations + n\\_ages$"
      ]
    },
    {
      "cell_type": "code",
      "execution_count": 8,
      "metadata": {
        "id": "dpkDAQaSSuiu"
      },
      "outputs": [],
      "source": [
        "occupations_dict = {\n",
        "    0:  \"other\",\n",
        "    1:  \"academic/educator\",\n",
        "    2:  \"artist\",\n",
        "    3:  \"clerical/admin\",\n",
        "    4:  \"college/grad student\",\n",
        "    5:  \"customer service\",\n",
        "    6:  \"doctor/health care\",\n",
        "    7:  \"executive/managerial\",\n",
        "    8:  \"farmer\",\n",
        "    9:  \"homemaker\",\n",
        "    10:  \"K-12 student\",\n",
        "    11:  \"lawyer\",\n",
        "    12:  \"programmer\",\n",
        "    13:  \"retired\",\n",
        "    14:  \"sales/marketing\",\n",
        "    15:  \"scientist\",\n",
        "    16:  \"self-employed\",\n",
        "    17:  \"technician/engineer\",\n",
        "    18:  \"tradesman/craftsman\",\n",
        "    19:  \"unemployed\",\n",
        "    20:  \"writer\"\n",
        "}\n",
        "users['occupation'] = users['occupation'].apply(lambda x: occupations_dict[x])\n",
        "occupations_dummies = pd.get_dummies(users['occupation'])\n",
        "age_dummies = pd.get_dummies(users['age'],prefix='age')\n",
        "users['gender'] = users['gender'].apply(lambda x: 1 if x=='M' else 0)\n",
        "users = pd.concat([users, occupations_dummies, age_dummies], axis=1)"
      ]
    },
    {
      "cell_type": "code",
      "execution_count": 9,
      "metadata": {
        "colab": {
          "base_uri": "https://localhost:8080/",
          "height": 315
        },
        "id": "gCizbW28SzOs",
        "outputId": "0437c1ae-808b-4b43-bd5f-bd4939203e9f"
      },
      "outputs": [
        {
          "name": "stdout",
          "output_type": "stream",
          "text": [
            "(6040, 33)\n"
          ]
        },
        {
          "data": {
            "text/html": [
              "\n",
              "  <div id=\"df-e7582f31-c2d8-490d-954e-5ca232ef2ab8\">\n",
              "    <div class=\"colab-df-container\">\n",
              "      <div>\n",
              "<style scoped>\n",
              "    .dataframe tbody tr th:only-of-type {\n",
              "        vertical-align: middle;\n",
              "    }\n",
              "\n",
              "    .dataframe tbody tr th {\n",
              "        vertical-align: top;\n",
              "    }\n",
              "\n",
              "    .dataframe thead th {\n",
              "        text-align: right;\n",
              "    }\n",
              "</style>\n",
              "<table border=\"1\" class=\"dataframe\">\n",
              "  <thead>\n",
              "    <tr style=\"text-align: right;\">\n",
              "      <th></th>\n",
              "      <th>userid</th>\n",
              "      <th>gender</th>\n",
              "      <th>age</th>\n",
              "      <th>occupation</th>\n",
              "      <th>zip-code</th>\n",
              "      <th>K-12 student</th>\n",
              "      <th>academic/educator</th>\n",
              "      <th>artist</th>\n",
              "      <th>clerical/admin</th>\n",
              "      <th>college/grad student</th>\n",
              "      <th>...</th>\n",
              "      <th>tradesman/craftsman</th>\n",
              "      <th>unemployed</th>\n",
              "      <th>writer</th>\n",
              "      <th>age_1</th>\n",
              "      <th>age_18</th>\n",
              "      <th>age_25</th>\n",
              "      <th>age_35</th>\n",
              "      <th>age_45</th>\n",
              "      <th>age_50</th>\n",
              "      <th>age_56</th>\n",
              "    </tr>\n",
              "  </thead>\n",
              "  <tbody>\n",
              "    <tr>\n",
              "      <th>0</th>\n",
              "      <td>1</td>\n",
              "      <td>0</td>\n",
              "      <td>1</td>\n",
              "      <td>K-12 student</td>\n",
              "      <td>48067</td>\n",
              "      <td>1</td>\n",
              "      <td>0</td>\n",
              "      <td>0</td>\n",
              "      <td>0</td>\n",
              "      <td>0</td>\n",
              "      <td>...</td>\n",
              "      <td>0</td>\n",
              "      <td>0</td>\n",
              "      <td>0</td>\n",
              "      <td>1</td>\n",
              "      <td>0</td>\n",
              "      <td>0</td>\n",
              "      <td>0</td>\n",
              "      <td>0</td>\n",
              "      <td>0</td>\n",
              "      <td>0</td>\n",
              "    </tr>\n",
              "    <tr>\n",
              "      <th>1</th>\n",
              "      <td>2</td>\n",
              "      <td>1</td>\n",
              "      <td>56</td>\n",
              "      <td>self-employed</td>\n",
              "      <td>70072</td>\n",
              "      <td>0</td>\n",
              "      <td>0</td>\n",
              "      <td>0</td>\n",
              "      <td>0</td>\n",
              "      <td>0</td>\n",
              "      <td>...</td>\n",
              "      <td>0</td>\n",
              "      <td>0</td>\n",
              "      <td>0</td>\n",
              "      <td>0</td>\n",
              "      <td>0</td>\n",
              "      <td>0</td>\n",
              "      <td>0</td>\n",
              "      <td>0</td>\n",
              "      <td>0</td>\n",
              "      <td>1</td>\n",
              "    </tr>\n",
              "    <tr>\n",
              "      <th>2</th>\n",
              "      <td>3</td>\n",
              "      <td>1</td>\n",
              "      <td>25</td>\n",
              "      <td>scientist</td>\n",
              "      <td>55117</td>\n",
              "      <td>0</td>\n",
              "      <td>0</td>\n",
              "      <td>0</td>\n",
              "      <td>0</td>\n",
              "      <td>0</td>\n",
              "      <td>...</td>\n",
              "      <td>0</td>\n",
              "      <td>0</td>\n",
              "      <td>0</td>\n",
              "      <td>0</td>\n",
              "      <td>0</td>\n",
              "      <td>1</td>\n",
              "      <td>0</td>\n",
              "      <td>0</td>\n",
              "      <td>0</td>\n",
              "      <td>0</td>\n",
              "    </tr>\n",
              "    <tr>\n",
              "      <th>3</th>\n",
              "      <td>4</td>\n",
              "      <td>1</td>\n",
              "      <td>45</td>\n",
              "      <td>executive/managerial</td>\n",
              "      <td>02460</td>\n",
              "      <td>0</td>\n",
              "      <td>0</td>\n",
              "      <td>0</td>\n",
              "      <td>0</td>\n",
              "      <td>0</td>\n",
              "      <td>...</td>\n",
              "      <td>0</td>\n",
              "      <td>0</td>\n",
              "      <td>0</td>\n",
              "      <td>0</td>\n",
              "      <td>0</td>\n",
              "      <td>0</td>\n",
              "      <td>0</td>\n",
              "      <td>1</td>\n",
              "      <td>0</td>\n",
              "      <td>0</td>\n",
              "    </tr>\n",
              "    <tr>\n",
              "      <th>4</th>\n",
              "      <td>5</td>\n",
              "      <td>1</td>\n",
              "      <td>25</td>\n",
              "      <td>writer</td>\n",
              "      <td>55455</td>\n",
              "      <td>0</td>\n",
              "      <td>0</td>\n",
              "      <td>0</td>\n",
              "      <td>0</td>\n",
              "      <td>0</td>\n",
              "      <td>...</td>\n",
              "      <td>0</td>\n",
              "      <td>0</td>\n",
              "      <td>1</td>\n",
              "      <td>0</td>\n",
              "      <td>0</td>\n",
              "      <td>1</td>\n",
              "      <td>0</td>\n",
              "      <td>0</td>\n",
              "      <td>0</td>\n",
              "      <td>0</td>\n",
              "    </tr>\n",
              "  </tbody>\n",
              "</table>\n",
              "<p>5 rows × 33 columns</p>\n",
              "</div>\n",
              "      <button class=\"colab-df-convert\" onclick=\"convertToInteractive('df-e7582f31-c2d8-490d-954e-5ca232ef2ab8')\"\n",
              "              title=\"Convert this dataframe to an interactive table.\"\n",
              "              style=\"display:none;\">\n",
              "        \n",
              "  <svg xmlns=\"http://www.w3.org/2000/svg\" height=\"24px\"viewBox=\"0 0 24 24\"\n",
              "       width=\"24px\">\n",
              "    <path d=\"M0 0h24v24H0V0z\" fill=\"none\"/>\n",
              "    <path d=\"M18.56 5.44l.94 2.06.94-2.06 2.06-.94-2.06-.94-.94-2.06-.94 2.06-2.06.94zm-11 1L8.5 8.5l.94-2.06 2.06-.94-2.06-.94L8.5 2.5l-.94 2.06-2.06.94zm10 10l.94 2.06.94-2.06 2.06-.94-2.06-.94-.94-2.06-.94 2.06-2.06.94z\"/><path d=\"M17.41 7.96l-1.37-1.37c-.4-.4-.92-.59-1.43-.59-.52 0-1.04.2-1.43.59L10.3 9.45l-7.72 7.72c-.78.78-.78 2.05 0 2.83L4 21.41c.39.39.9.59 1.41.59.51 0 1.02-.2 1.41-.59l7.78-7.78 2.81-2.81c.8-.78.8-2.07 0-2.86zM5.41 20L4 18.59l7.72-7.72 1.47 1.35L5.41 20z\"/>\n",
              "  </svg>\n",
              "      </button>\n",
              "      \n",
              "  <style>\n",
              "    .colab-df-container {\n",
              "      display:flex;\n",
              "      flex-wrap:wrap;\n",
              "      gap: 12px;\n",
              "    }\n",
              "\n",
              "    .colab-df-convert {\n",
              "      background-color: #E8F0FE;\n",
              "      border: none;\n",
              "      border-radius: 50%;\n",
              "      cursor: pointer;\n",
              "      display: none;\n",
              "      fill: #1967D2;\n",
              "      height: 32px;\n",
              "      padding: 0 0 0 0;\n",
              "      width: 32px;\n",
              "    }\n",
              "\n",
              "    .colab-df-convert:hover {\n",
              "      background-color: #E2EBFA;\n",
              "      box-shadow: 0px 1px 2px rgba(60, 64, 67, 0.3), 0px 1px 3px 1px rgba(60, 64, 67, 0.15);\n",
              "      fill: #174EA6;\n",
              "    }\n",
              "\n",
              "    [theme=dark] .colab-df-convert {\n",
              "      background-color: #3B4455;\n",
              "      fill: #D2E3FC;\n",
              "    }\n",
              "\n",
              "    [theme=dark] .colab-df-convert:hover {\n",
              "      background-color: #434B5C;\n",
              "      box-shadow: 0px 1px 3px 1px rgba(0, 0, 0, 0.15);\n",
              "      filter: drop-shadow(0px 1px 2px rgba(0, 0, 0, 0.3));\n",
              "      fill: #FFFFFF;\n",
              "    }\n",
              "  </style>\n",
              "\n",
              "      <script>\n",
              "        const buttonEl =\n",
              "          document.querySelector('#df-e7582f31-c2d8-490d-954e-5ca232ef2ab8 button.colab-df-convert');\n",
              "        buttonEl.style.display =\n",
              "          google.colab.kernel.accessAllowed ? 'block' : 'none';\n",
              "\n",
              "        async function convertToInteractive(key) {\n",
              "          const element = document.querySelector('#df-e7582f31-c2d8-490d-954e-5ca232ef2ab8');\n",
              "          const dataTable =\n",
              "            await google.colab.kernel.invokeFunction('convertToInteractive',\n",
              "                                                     [key], {});\n",
              "          if (!dataTable) return;\n",
              "\n",
              "          const docLinkHtml = 'Like what you see? Visit the ' +\n",
              "            '<a target=\"_blank\" href=https://colab.research.google.com/notebooks/data_table.ipynb>data table notebook</a>'\n",
              "            + ' to learn more about interactive tables.';\n",
              "          element.innerHTML = '';\n",
              "          dataTable['output_type'] = 'display_data';\n",
              "          await google.colab.output.renderOutput(dataTable, element);\n",
              "          const docLink = document.createElement('div');\n",
              "          docLink.innerHTML = docLinkHtml;\n",
              "          element.appendChild(docLink);\n",
              "        }\n",
              "      </script>\n",
              "    </div>\n",
              "  </div>\n",
              "  "
            ],
            "text/plain": [
              "   userid  gender  age            occupation zip-code  K-12 student  \\\n",
              "0       1       0    1          K-12 student    48067             1   \n",
              "1       2       1   56         self-employed    70072             0   \n",
              "2       3       1   25             scientist    55117             0   \n",
              "3       4       1   45  executive/managerial    02460             0   \n",
              "4       5       1   25                writer    55455             0   \n",
              "\n",
              "   academic/educator  artist  clerical/admin  college/grad student  ...  \\\n",
              "0                  0       0               0                     0  ...   \n",
              "1                  0       0               0                     0  ...   \n",
              "2                  0       0               0                     0  ...   \n",
              "3                  0       0               0                     0  ...   \n",
              "4                  0       0               0                     0  ...   \n",
              "\n",
              "   tradesman/craftsman  unemployed  writer  age_1  age_18  age_25  age_35  \\\n",
              "0                    0           0       0      1       0       0       0   \n",
              "1                    0           0       0      0       0       0       0   \n",
              "2                    0           0       0      0       0       1       0   \n",
              "3                    0           0       0      0       0       0       0   \n",
              "4                    0           0       1      0       0       1       0   \n",
              "\n",
              "   age_45  age_50  age_56  \n",
              "0       0       0       0  \n",
              "1       0       0       1  \n",
              "2       0       0       0  \n",
              "3       1       0       0  \n",
              "4       0       0       0  \n",
              "\n",
              "[5 rows x 33 columns]"
            ]
          },
          "execution_count": 9,
          "metadata": {},
          "output_type": "execute_result"
        }
      ],
      "source": [
        "print(users.shape)\n",
        "users.head()"
      ]
    },
    {
      "attachments": {},
      "cell_type": "markdown",
      "metadata": {
        "id": "npE5SKlbbG6K"
      },
      "source": [
        "# Split and re-index data"
      ]
    },
    {
      "attachments": {},
      "cell_type": "markdown",
      "metadata": {
        "id": "Ozjq2xgxWlrr"
      },
      "source": [
        "Next step we will split the `ratings` dataframe into training, test, and holdout sets based on a time-based split, and then re-index the resulting dataframes to ensure that user and item IDs are contiguous integers starting from 0. More precisely, the split is performed based on the `timestamp` column of `data`, using `time_split_q` as the quantile value (in our case it is $99\\%$). The `holdout` dataset contains only the immediate interactions following the fixed timepoint for each test user from the `testset`. The set of users in `training` is disjoint with the set of users in the `testset`, which implements the $\\textbf{warm-start}$ scenario."
      ]
    },
    {
      "cell_type": "code",
      "execution_count": 10,
      "metadata": {
        "colab": {
          "base_uri": "https://localhost:8080/"
        },
        "id": "X4bXXe9aWzZX",
        "outputId": "a6640e02-d50a-488f-edd9-2e5f382a6971"
      },
      "outputs": [
        {
          "data": {
            "text/plain": [
              "((858241, 4), (131944, 4), (347, 4))"
            ]
          },
          "execution_count": 10,
          "metadata": {},
          "output_type": "execute_result"
        }
      ],
      "source": [
        "training_ , testset_ , holdout_ = timepoint_split(ratings, time_split_q=0.99)\n",
        "training , data_index = transform_indices(training_ , 'userid', 'movieid')\n",
        "testset = reindex_data(testset_, data_index, fields='items')\n",
        "holdout = reindex_data(holdout_, data_index, fields='items')\n",
        "testset = testset.query('userid >= 0')\n",
        "training.shape, testset.shape, holdout.shape"
      ]
    },
    {
      "cell_type": "code",
      "execution_count": 11,
      "metadata": {
        "id": "LD9V7ZhZapzp"
      },
      "outputs": [],
      "source": [
        "data_description = dict(\n",
        "    users = data_index['users'].name,\n",
        "    items = data_index['items'].name,\n",
        "    feedback = 'rating',\n",
        "    n_users = len(data_index['users']),\n",
        "    n_items = len(data_index['items']),\n",
        "    user_index = data_index['users'],\n",
        "    item_index = data_index['items']\n",
        ")"
      ]
    },
    {
      "attachments": {},
      "cell_type": "markdown",
      "metadata": {
        "id": "htJI-BQ1a8C4"
      },
      "source": [
        "# Build Side Features Matrix"
      ]
    },
    {
      "attachments": {},
      "cell_type": "markdown",
      "metadata": {
        "id": "h02DhHIIa9_7"
      },
      "source": [
        "Here we will build side feature matrices for the movie and user data. First, we create a `movie_features` dataframe that contains all columns from the `movies` dataframe except for the `title` and `genres` columns after re-indexing. Next, we extract all columns from the second column onwards (i.e., all feature columns) of the sorted `movie_features` dataframe, convert them to a numpy array of float values, and transpose the resulting array such that each row represents a feature and each column represents an item. This creates a side feature matrix $F_I$ for the movie data."
      ]
    },
    {
      "cell_type": "code",
      "execution_count": 12,
      "metadata": {
        "colab": {
          "base_uri": "https://localhost:8080/"
        },
        "id": "ufIecrmdb7SB",
        "outputId": "f4af6ace-1d2c-4f46-aeb2-b0c136c049e7"
      },
      "outputs": [
        {
          "data": {
            "text/plain": [
              "(18, 3687)"
            ]
          },
          "execution_count": 12,
          "metadata": {},
          "output_type": "execute_result"
        }
      ],
      "source": [
        "movie_features_ = movies.drop(['title', 'genres'],axis=1)\n",
        "movie_features = reindex_data(movie_features_, data_index, fields='items')\n",
        "movie_features = movie_features.query('movieid >= 0').sort_values(by='movieid')\n",
        "item_features_mtx = movie_features.iloc[:,1:].values.astype(float).T\n",
        "item_features_mtx.shape"
      ]
    },
    {
      "attachments": {},
      "cell_type": "markdown",
      "metadata": {
        "id": "q9LoRUuScJZH"
      },
      "source": [
        "For the user data, we create a new dataframe that contains all columns from the `users` dataframe except for `age`, `occupation`, and `zip-code` after re-indexing. Last, we extract all columns from the second column onwards (i.e., all feature columns) of the re-indexed user dataframe, convert them to a numpy array of float values, and store them in another side feature matrix $F_U$ for user data."
      ]
    },
    {
      "cell_type": "code",
      "execution_count": 13,
      "metadata": {
        "colab": {
          "base_uri": "https://localhost:8080/"
        },
        "id": "YLkUGrCicKb5",
        "outputId": "19afce3c-2460-448a-e4e5-9e95a3dd6821"
      },
      "outputs": [
        {
          "data": {
            "text/plain": [
              "(5692, 29)"
            ]
          },
          "execution_count": 13,
          "metadata": {},
          "output_type": "execute_result"
        }
      ],
      "source": [
        "user_features_ = users.drop(['age', 'occupation', 'zip-code'], axis=1)\n",
        "user_features = reindex_data(user_features_, data_index, fields='users')\n",
        "user_features = user_features.query('userid >= 0')\n",
        "user_features_mtx = user_features.iloc[:,1:].values.astype(float)\n",
        "user_features_mtx.shape"
      ]
    },
    {
      "attachments": {},
      "cell_type": "markdown",
      "metadata": {
        "id": "bI7zIUhfa_ma"
      },
      "source": [
        "# What is HybridSVD?"
      ]
    },
    {
      "attachments": {},
      "cell_type": "markdown",
      "metadata": {
        "id": "M_Mdbzi-c5t0"
      },
      "source": [
        "Lets assume $S$ - is matrix relations item/item. It may conclude genres for example. If in our case we have $N$ items (movies) matrix $S_{N \\times N}$. Similarly for users $K_{M \\times M}$ matrix is conclude relations users/user. For example, users may work in same sphere or users has same ages and etc. We will use this matrices *side similarity*. \n",
        "\n",
        "A **latent feature space** refers to a lower-dimensional space in which users and items are represented as points (or vectors) with respect to some set of underlying features or attributes. These features or attributes are not directly observable, but are inferred from the patterns of user-item interactions in the data.\n",
        "\n",
        "The idea behind using a latent feature space is to capture the underlying structure of the user-item interactions in a more compact and interpretable way. By representing users and items as points in this lower-dimensional space, we can more easily identify patterns and similarities between them that might not be apparent in the original high-dimensional space.\n",
        "\n",
        "For example, if we have an item that is frequently purchased by young male customers who also tend to buy sports equipment, its embedding might be close to other items that are popular among similar customers (e.g., other sports equipment or clothing items). Similarly, if we have a user who frequently purchases items related to cooking and baking, their embedding might be close to other users who share similar interests.\n",
        "\n",
        "The number of dimensions in the latent feature space is typically much smaller than the number of dimensions in the original high-dimensional space (e.g., hundreds or thousands vs. millions), which makes it easier to learn and interpret meaningful patterns from the data."
      ]
    },
    {
      "attachments": {},
      "cell_type": "markdown",
      "metadata": {
        "id": "3q8yNtEpiYfR"
      },
      "source": [
        "As relations item/item and user/user not include in $RR^T$ (relations users with similar items) or $R^TR$ (relations items with similar users) for all users and all items generates the following matrix cross-products (*Matrix cross-products refer to the products of matrices that are formed by taking the product of a matrix with its transpose*): $RSR^T, R^TR$, where $R$ is the same as in PureSVD. \n",
        "\n",
        "By analogy with standard SVD, this induces the following eigendecomposition problem: $$RSR^T = U \\Sigma^2 U^T \\ \\ \\ \\ \\ \\ (\\text{user to user, including information relation between items}), $$ $$R^TKR = V \\Sigma V^T \\ \\ \\ \\ \\ \\ (\\text{item to item, including information relation between users})$$ \n",
        "\n",
        "where, matrices $U \\in R^{M \\times k}$ and $V \\in R^{N \\times k}$ represent embeddings (*embeddings refer to low-dimensional representations of users and items in a latent feature space. These embeddings are learned by factorizing a user-item interaction matrix (or a related matrix) into two lower-dimensional matrices that represent the embeddings of users and items, respectively*) of users and items onto a common $k$-dimensional latent feature space."
      ]
    },
    {
      "attachments": {},
      "cell_type": "markdown",
      "metadata": {
        "id": "xZJVLsUzl1sF"
      },
      "source": [
        "Here, this decomposition is obtained as a result of the standard singular value decomposition. We begin by defining an auxiliary matrix $\\hat{R}$ as:\n",
        "$$\\hat{R} = K^{\\frac{1}{2}}RS^{\\frac{1}{2}}$$\n",
        "Then we compute the standard singular value decomposition as $\\hat{R}$ as:\n",
        "$$\\hat{R} = \\hat{U} \\Sigma \\hat{V}^T$$\n",
        "Here, $\\hat{U}, \\Sigma, \\hat{V}$ represent singular triplets of matrix $\\hat{R}$\n",
        "\n",
        "Connections between original (i.e. matrices of the generalized eigenvectors) and auxiliary latent space for both users and items are $U = K^{\\frac{1}{2}} \\hat{U}$ and $V = S^{\\frac{1}{2}} \\hat{V}$ respectively.\n",
        "\n",
        "Assume that, $K, S$ are symmetric positive definite (for example, item/item relations may be symmetric, because if item1 and item2 has same genres, also item2 and item1 is too same genres). We can represent this matrices in the *Cholesky decomposition* as:\n",
        "$$S = L_SL_S^T, \\ K = L_KL_K^T$$\n",
        "here, $L_S, L_K$ - are lower triangular real matrices. Using this representations it can be verified that the following auxiliary matrix\n",
        "$$\\hat{R} = L_K^TRL_S = \\hat{U} \\Sigma \\hat{V}^T$$\n",
        "Also connections between original and auxiliary latent space for both users and items are $U = L_K^{-T}\\hat{U}, \\ V = L_S^{-T}\\hat{V}.$\n",
        "\n",
        "As we can see matrix $\\hat{R}$ has additional relations encoded by $K$ and $S$ simultaneusly. From this, solving system of eqautions is get to finding standart SVD of auxilary matrix. This model called $\\text{HybridSVD.}$\n",
        "\n",
        "We note that, columns of the matrices $U$ and $V$ are orthogonal under the constrains imposed by the matrices $K$ and $S$ respectively.  "
      ]
    },
    {
      "attachments": {},
      "cell_type": "markdown",
      "metadata": {
        "id": "nM1P4HLWEl9K"
      },
      "source": [
        "To improve the quality of collaborative models, $K, S$ matrices must capture representative structure from side information. For $Z$ and $Y$ real symmetric matrices, that can forming size with enteries encoding actual feature-based similarities and taking values in interval $[ -1, 1 ],$ and $\\alpha, \\beta \\in [0, 1]$ coefficients, that changes the balance between collaborative and side information we impose the following structure in them:\n",
        "$$S = (1-\\alpha)I + \\alpha Z,$$ $$K = (1-\\beta)I + \\beta Y$$\n",
        "\n",
        "Note that, in case $\\alpha = \\beta = 0$ model turns back into PureSVD. On the other extreme when $\\alpha = \\beta = 1$ model would heavily rely on feature-based similarities, which can be an undersired behavior. "
      ]
    },
    {
      "attachments": {},
      "cell_type": "markdown",
      "metadata": {
        "id": "qvPyhFnrOuXo"
      },
      "source": [
        "In our hypothesis, we explore one of the most direct possible approaches for constructing similarity matrices. We transform movie genre into one-hot encoded vectors and compute the Common Neigbors similarity scaled by a normaliztion constant. More specifically, in movies we form a sparse binary matrix $F_I \\in B^{movies \\times features}$ which rows are one-hot features (genres) vectors: for example if movie_id: 75 has genre \"Comedy\", then the corresponding entry in the row is 1, otherwise 0."
      ]
    },
    {
      "attachments": {},
      "cell_type": "markdown",
      "metadata": {
        "id": "F__YiQricxZa"
      },
      "source": [
        "# Maximum Volume (maxvol) algorithm"
      ]
    },
    {
      "attachments": {},
      "cell_type": "markdown",
      "metadata": {
        "id": "TWMq9sOsc3iD"
      },
      "source": [
        "Here we have two functions: \n",
        "\n",
        "`maxvol` - computes the maximal-volume submatrix for given tall matrix. This function inputs tall matrix of the shape $n \\times r,  (n > r)$. And returns, the row numbers $i$ containing the maximal volume submatrix in the form of 1D array of length $r$ and coefficient matrix $B$ in the form of 2D array of shape $n \\times r$, such that $A = B A[i, :]$ and $A (A[i, :])^{-1} = B$. \n",
        "\n",
        "`maxvol_rect` - computes the maximal-volume rectangular submatrix for given tall matrix like `maxvol`. Within the framework of this function, the original maxvol algorithm is first called (see function maxvol). Then additional rows of the matrix are greedily added until the maximum allowed number is reached or until convergence."
      ]
    },
    {
      "cell_type": "code",
      "execution_count": 14,
      "metadata": {
        "id": "QEQ8J_1_f9Fn"
      },
      "outputs": [],
      "source": [
        "A = generate_interactions_matrix(training, data_description)"
      ]
    },
    {
      "cell_type": "code",
      "execution_count": 15,
      "metadata": {
        "colab": {
          "base_uri": "https://localhost:8080/"
        },
        "id": "nMD4USknf_rF",
        "outputId": "97a883e8-5334-42de-c43d-c9cbcc24aed2"
      },
      "outputs": [
        {
          "data": {
            "text/plain": [
              "array([[5, 0, 0, ..., 0, 0, 0],\n",
              "       [0, 0, 0, ..., 0, 0, 0],\n",
              "       [0, 0, 0, ..., 0, 0, 0],\n",
              "       ...,\n",
              "       [0, 0, 0, ..., 0, 0, 0],\n",
              "       [0, 0, 0, ..., 0, 0, 0],\n",
              "       [3, 0, 0, ..., 0, 0, 0]])"
            ]
          },
          "execution_count": 15,
          "metadata": {},
          "output_type": "execute_result"
        }
      ],
      "source": [
        "A.A"
      ]
    },
    {
      "cell_type": "code",
      "execution_count": 38,
      "metadata": {
        "colab": {
          "base_uri": "https://localhost:8080/"
        },
        "id": "2OktCqxPgl3W",
        "outputId": "1e1d6f87-39af-434b-998b-188a955dee6d"
      },
      "outputs": [
        {
          "data": {
            "text/plain": [
              "(5692, 3687)"
            ]
          },
          "execution_count": 38,
          "metadata": {},
          "output_type": "execute_result"
        }
      ],
      "source": [
        "A.shape"
      ]
    },
    {
      "cell_type": "code",
      "execution_count": null,
      "metadata": {
        "id": "-rOE7gGwvhuo"
      },
      "outputs": [],
      "source": [
        "Z2 = (1 / (A.T @ A).max()) * A.T @ A\n",
        "U2, s2 = hsvd(item_features_mtx, right_similarity=Z2, beta = beta, ret='left')\n",
        "importance2, _ = maxvol_rect(U2[:-1,:].T, dr_min=1)\n",
        "hr2, mrr2, cov2 = test_hypo(config1, importance2)\n",
        "\n",
        "plt.plot(hr2,label='HR@10')\n",
        "plt.plot(mrr2, label='MRR@10')\n",
        "plt.xlabel('number of features')\n",
        "plt.xticks(np.arange(0, len(importance)+1))\n",
        "# plt.yticks(np.arange(0, 0.007, 0.0008))\n",
        "plt.legend()"
      ]
    },
    {
      "cell_type": "code",
      "execution_count": null,
      "metadata": {
        "colab": {
          "base_uri": "https://localhost:8080/"
        },
        "id": "c0fZwa4fkRWM",
        "outputId": "d0c6d99d-9301-481e-f8d2-6f00571e56f0"
      },
      "outputs": [
        {
          "data": {
            "text/plain": [
              "array([[0.        , 0.        , 0.        , ..., 0.        , 0.        ,\n",
              "        0.        ],\n",
              "       [0.        , 0.        , 0.33333333, ..., 0.40824829, 0.        ,\n",
              "        0.33333333],\n",
              "       [0.        , 0.33333333, 0.        , ..., 0.        , 0.        ,\n",
              "        0.66666667],\n",
              "       ...,\n",
              "       [0.        , 0.40824829, 0.        , ..., 0.        , 0.        ,\n",
              "        0.        ],\n",
              "       [0.        , 0.        , 0.        , ..., 0.        , 0.        ,\n",
              "        0.        ],\n",
              "       [0.        , 0.33333333, 0.66666667, ..., 0.        , 0.        ,\n",
              "        0.        ]])"
            ]
          },
          "execution_count": 58,
          "metadata": {},
          "output_type": "execute_result"
        }
      ],
      "source": [
        "S_U = cosine_similarity(user_features_mtx,dense_output=False)\n",
        "# S_U.setdiag(0)\n",
        "np.fill_diagonal(S_U, 0)\n",
        "S_U"
      ]
    },
    {
      "cell_type": "code",
      "execution_count": null,
      "metadata": {
        "id": "qcxuIsBUvg2w"
      },
      "outputs": [],
      "source": [
        "from scipy.linalg import cholesky\n",
        "\n",
        "def hsvd(source_mtx, rank=None, left_similarity=None, right_similarity=None, alpha=0, beta=0, ret='both'):\n",
        "    R = source_mtx\n",
        "    if not left_similarity is None:\n",
        "        assert left_similarity.shape[0] == left_similarity.shape[1], 'Similarity must be square'\n",
        "        assert left_similarity.shape[0] == source_mtx.shape[0]\n",
        "        left_similarity_weighted = (1-alpha) * np.eye(left_similarity.shape[0]) + alpha * left_similarity\n",
        "        left_cholesky_factor = cholesky(left_similarity_weighted)\n",
        "        R = left_cholesky_factor.T @ R\n",
        "    if not right_similarity is None:\n",
        "        assert right_similarity.shape[0] == right_similarity.shape[1], 'Similarity must be square'\n",
        "        assert right_similarity.shape[0] == source_mtx.shape[1]\n",
        "        right_similarity_weighted = (1-beta) * np.eye(right_similarity.shape[0]) + beta * right_similarity\n",
        "        right_cholesky_factor = cholesky(right_similarity_weighted)\n",
        "        R = R @ right_cholesky_factor\n",
        "\n",
        "    U_ , S , V_ = np.linalg.svd(R)\n",
        "    if not left_similarity is None:\n",
        "        U = np.linalg.inv(left_cholesky_factor).T @ U_\n",
        "    else:\n",
        "        U = U_\n",
        "    if not right_similarity is None:\n",
        "        V = V_ @ scipy.linalg.inv(right_cholesky_factor).T\n",
        "    else:\n",
        "        V = V_\n",
        "    \n",
        "    if ret=='left':\n",
        "        U = np.ascontiguousarray(U[:,:rank])\n",
        "        return U, S\n",
        "    if ret == 'right':\n",
        "        V = np.ascontiguousarray(V.T[:,:rank])\n",
        "        return S, V\n",
        "    if ret == 'both':\n",
        "        U = np.ascontiguousarray(U[:,:rank])\n",
        "        V = np.ascontiguousarray(V.T[:,:rank])\n",
        "        return U, S, V"
      ]
    },
    {
      "cell_type": "code",
      "execution_count": 36,
      "metadata": {
        "id": "vr41W-r5vkRQ"
      },
      "outputs": [],
      "source": [
        "import warnings\n",
        "from tqdm import tqdm\n",
        "warnings.filterwarnings('ignore')\n",
        "from evaluation import topn_recommendations, topidx, downvote_seen_items\n",
        "def hsvd_svd_recs(item_factors, testset, testset_description, topn = 10):\n",
        "    recs = {} \n",
        "    gp = testset.groupby(testset_description['users'])[\n",
        "        testset_description['items'],testset_description['feedback']\n",
        "        ].agg(list)\n",
        "    for userid, items, ratings in gp.itertuples(name=None):\n",
        "        ratings = np.array(ratings)\n",
        "        rated_items = ratings.dot(item_factors[items])\n",
        "        scores = item_factors.dot(rated_items)\n",
        "        scores[items] = scores.min() - 1\n",
        "        # print(scores.shape)\n",
        "        idx = topidx(scores, topn)\n",
        "        recs[userid] = list(testset_description['user_index'][idx])\n",
        "    return recs"
      ]
    },
    {
      "cell_type": "code",
      "execution_count": 78,
      "metadata": {
        "id": "tdEdIrrZvqoJ"
      },
      "outputs": [],
      "source": [
        "def model_evaluate(recommended_users, holdout, holdout_description, topn=10):\n",
        "    itemid = holdout_description['items']\n",
        "    holdout_items = holdout[itemid].values\n",
        "    assert recommended_users.shape[0] == len(holdout_items)\n",
        "    hits_mask = recommended_users[:, :topn] == holdout_items.reshape(-1, 1)\n",
        "    # HR calculation\n",
        "    hr = np.mean(hits_mask.any(axis=1))\n",
        "    # MRR calculation\n",
        "    n_test_users = recommended_users.shape[0]\n",
        "    hit_rank = np.where(hits_mask)[1] + 1.0\n",
        "    mrr = np.sum(1 / hit_rank) / n_test_users\n",
        "    # coverage calculation\n",
        "    n_users = holdout_description['n_users']\n",
        "    cov = np.unique(recommended_users).size / n_users\n",
        "    return hr, mrr, cov"
      ]
    },
    {
      "cell_type": "code",
      "execution_count": 79,
      "metadata": {
        "id": "l94N7c66vtl3"
      },
      "outputs": [],
      "source": [
        "def test_hypo(config, h_importance, topn = 10):\n",
        "    rank = config['rank']\n",
        "    beta = config['beta']\n",
        "    n_F = len(h_importance)\n",
        "    hr = np.empty((n_F+1))\n",
        "    mrr = np.empty((n_F+1))\n",
        "    cov = np.empty((n_F+1))\n",
        "\n",
        "    # _, item_factors = hsvd(A.A, rank=-1, ret='right', beta=beta)\n",
        "    _, item_factors = hsvd(A.A, rank=rank, right_similarity=np.eye(A.shape[1]), beta=beta, ret='right')\n",
        "    recs = hsvd_svd_recs(item_factors, testset, data_description, topn)\n",
        "    recommended_items = np.array(list(recs.values()))\n",
        "    hr[0], mrr[0], cov[0] = model_evaluate(recommended_items, holdout, data_description, topn) # holdout\n",
        "\n",
        "    for i in tqdm(range(1,n_F+1)):\n",
        "        F_I = item_features_mtx[h_importance[:i],:]\n",
        "        S_F = cosine_similarity(F_I.T, dense_output=True)\n",
        "        np.fill_diagonal(S_F, 0)\n",
        "        _, item_factors = hsvd(A.A, rank=rank, right_similarity=S_F, beta=beta, ret='right')\n",
        "        recs = hsvd_svd_recs(item_factors, testset, data_description, topn)\n",
        "        recommended_items = np.array(list(recs.values()))\n",
        "        hr[i], mrr[i], cov[i] = model_evaluate(recommended_items, holdout, data_description, topn) # holdout\n",
        "        # print(mrr)\n",
        "    return hr, mrr, cov"
      ]
    },
    {
      "cell_type": "code",
      "execution_count": 80,
      "metadata": {
        "id": "hFOr1qbrvzqq"
      },
      "outputs": [],
      "source": [
        "config1 = dict(\n",
        "    rank = 100,\n",
        "    beta = 0.2,\n",
        "    alpha = 0.2\n",
        ")\n",
        "beta = 0.2\n",
        "alpha = 0.2"
      ]
    },
    {
      "cell_type": "code",
      "execution_count": 71,
      "metadata": {
        "colab": {
          "base_uri": "https://localhost:8080/"
        },
        "id": "vESurr4nv2NI",
        "outputId": "e3abbc7a-d4fa-425a-ac13-4e4173988812"
      },
      "outputs": [
        {
          "name": "stderr",
          "output_type": "stream",
          "text": [
            "100%|██████████| 18/18 [00:00<00:00, 41.33it/s]\n"
          ]
        }
      ],
      "source": [
        "# alpha = 0\n",
        "Z = A.T @ A\n",
        "S_I = (1 - beta) * np.eye(Z.shape[0]) + (beta / Z.max()) * Z\n",
        "L_I = cholesky(S_I)\n",
        "R_ = item_features_mtx @ L_I\n",
        "U, V, m, n = SVD(R_, 18, 1e-3, 0.1, 200) "
      ]
    },
    {
      "cell_type": "code",
      "execution_count": 72,
      "metadata": {
        "colab": {
          "base_uri": "https://localhost:8080/"
        },
        "id": "jajBvtyJwD9x",
        "outputId": "cecb7ada-0639-4a9b-8393-ded5c8a4f12b"
      },
      "outputs": [
        {
          "name": "stderr",
          "output_type": "stream",
          "text": [
            "100%|██████████| 18/18 [00:00<00:00, 43.92it/s]\n"
          ]
        }
      ],
      "source": [
        "from scipy.linalg import cholesky\n",
        "L_I = cholesky(S_I)\n",
        "R_ = item_features_mtx @ L_I\n",
        "U, V, m, n = SVD(R_, 18, 1e-3, 0.1, 200) "
      ]
    },
    {
      "cell_type": "code",
      "execution_count": 73,
      "metadata": {
        "colab": {
          "base_uri": "https://localhost:8080/"
        },
        "id": "WJyrBDTX0bzO",
        "outputId": "fd6e7738-c5a6-4333-f91a-9cab93d056f0"
      },
      "outputs": [
        {
          "data": {
            "text/plain": [
              "(18, 18)"
            ]
          },
          "execution_count": 73,
          "metadata": {},
          "output_type": "execute_result"
        }
      ],
      "source": [
        "U.shape"
      ]
    },
    {
      "cell_type": "code",
      "execution_count": 74,
      "metadata": {
        "id": "3vTtMAeDzQDk"
      },
      "outputs": [],
      "source": [
        "importance, _ = maxvol_rect(U[:-1,:].T,dr_min=1)"
      ]
    },
    {
      "cell_type": "code",
      "execution_count": 75,
      "metadata": {
        "id": "cdZspMNM00mB"
      },
      "outputs": [],
      "source": [
        "import zipfile\n",
        "import numpy as np\n",
        "import pandas as pd\n",
        "from scipy.sparse import diags\n",
        "from scipy.sparse.linalg import svds\n",
        "from tqdm import tqdm\n",
        "from dataprep import transform_indices, reindex_data, generate_interactions_matrix\n",
        "from evaluation import downvote_seen_items, topn_recommendations\n",
        "from scipy.sparse import csr_matrix\n",
        "from scipy.sparse.linalg import svds, LinearOperator\n",
        "from scipy.linalg import cholesky\n",
        "from polara import get_movielens_data\n",
        "from polara.preprocessing.dataframes import leave_one_out, reindex\n",
        "from dataprep import transform_indices\n",
        "from evaluation import topn_recommendations, model_evaluate, downvote_seen_items\n",
        "\n",
        "def hsvd(source_mtx, rank, left_similarity=None, right_similarity=None, alpha=0, beta=0, ret='both'):\n",
        "    R = source_mtx\n",
        "    if left_similarity is not None:\n",
        "        assert left_similarity.shape[0] == left_similarity.shape[1], 'Similarity must be square'\n",
        "        assert left_similarity.shape[0] == source_mtx.shape[0]\n",
        "        left_similarity_weighted = (1-alpha) * np.eye(left_similarity.shape[0]) + alpha * left_similarity\n",
        "        left_cholesky_factor = cholesky(left_similarity_weighted)\n",
        "        R = left_cholesky_factor.T @ R\n",
        "    if right_similarity is not None:\n",
        "        assert right_similarity.shape[0] == right_similarity.shape[1], 'Similarity must be square'\n",
        "        assert right_similarity.shape[0] == source_mtx.shape[1]\n",
        "        right_similarity_weighted = (1-beta) * np.eye(right_similarity.shape[0]) + beta * right_similarity\n",
        "        right_cholesky_factor = cholesky(right_similarity_weighted)\n",
        "        R = R @ right_cholesky_factor\n",
        "\n",
        "    U_ , S , V_ = svds(R, k=rank)\n",
        "    if left_similarity is not None:\n",
        "        U = np.linalg.inv(left_cholesky_factor).T @ U_\n",
        "    else:\n",
        "        U = U_\n",
        "    if right_similarity is not None:\n",
        "        V = V_ @ np.linalg.inv(right_cholesky_factor).T\n",
        "    else:\n",
        "        V = V_\n",
        "    \n",
        "    if ret=='left':\n",
        "        U = np.ascontiguousarray(U[: ,::-1])\n",
        "        return U, S\n",
        "    if ret == 'right':\n",
        "        V = np.ascontiguousarray(V[::-1, :].T)\n",
        "        return S, V\n",
        "    if ret == 'both':\n",
        "        U = np.ascontiguousarray(U[: ,::-1])\n",
        "        V = np.ascontiguousarray(V[::-1, :].T)\n",
        "        return U, S, V"
      ]
    },
    {
      "cell_type": "code",
      "execution_count": 76,
      "metadata": {
        "colab": {
          "base_uri": "https://localhost:8080/"
        },
        "id": "iwA1mBe90jSi",
        "outputId": "a5846fd5-5838-42b8-e24e-44d9191603a1"
      },
      "outputs": [
        {
          "name": "stderr",
          "output_type": "stream",
          "text": [
            "100%|██████████| 18/18 [07:54<00:00, 26.39s/it]\n"
          ]
        }
      ],
      "source": [
        "hr3, mrr3, cov3 = test_hypo(config1, importance)"
      ]
    },
    {
      "cell_type": "code",
      "execution_count": 57,
      "metadata": {
        "colab": {
          "base_uri": "https://localhost:8080/",
          "height": 504
        },
        "id": "b2rKCvgY6F5i",
        "outputId": "c42bb2c1-44fd-4cf1-9591-b86cf7a4ab6f"
      },
      "outputs": [
        {
          "name": "stderr",
          "output_type": "stream",
          "text": [
            "100%|██████████| 18/18 [00:00<00:00, 43.41it/s]\n",
            "100%|██████████| 18/18 [08:23<00:00, 27.96s/it]\n"
          ]
        },
        {
          "data": {
            "text/plain": [
              "<matplotlib.legend.Legend at 0x7f7031d9b6a0>"
            ]
          },
          "execution_count": 57,
          "metadata": {},
          "output_type": "execute_result"
        },
        {
          "data": {
            "image/png": "[encoded data removed]",
            "text/plain": [
              "<Figure size 640x480 with 1 Axes>"
            ]
          },
          "metadata": {},
          "output_type": "display_data"
        }
      ],
      "source": [
        "# Hypothesis 4\n",
        "Z5 = cosine_similarity(cosine_similarity(item_features_mtx.T) @ A.T)\n",
        "np.fill_diagonal(Z5, 0)\n",
        "\n",
        "# U5, s5 = hsvd(item_features_mtx, rank = 17, right_similarity=Z5, beta = beta, ret='left')\n",
        "S_I = (1 - beta) * np.eye(Z5.shape[0]) + beta * Z5\n",
        "L_I = cholesky(S_I)\n",
        "R_ = item_features_mtx @ L_I\n",
        "U5, V, m, n = SVD(R_, 18, 1e-3, 0.1, 200) \n",
        "\n",
        "importance5, _ = maxvol_rect(U5[:-1,:].T, dr_min=1)\n",
        "hr5, mrr5, cov5 = test_hypo(config1, importance5)\n",
        "\n",
        "plt.plot(hr5,label='HR@10')\n",
        "plt.plot(mrr5, label='MRR@10')\n",
        "plt.xlabel('number of features')\n",
        "plt.xticks(np.arange(0, len(importance5)+1))\n",
        "# plt.yticks(np.arange(0, 0.007, 0.0008))\n",
        "plt.legend()"
      ]
    },
    {
      "cell_type": "code",
      "execution_count": 81,
      "metadata": {
        "colab": {
          "base_uri": "https://localhost:8080/",
          "height": 504
        },
        "id": "IREoGSCA83Zr",
        "outputId": "05701df5-99f3-4867-9d7c-b40d849861f9"
      },
      "outputs": [
        {
          "name": "stderr",
          "output_type": "stream",
          "text": [
            "100%|██████████| 18/18 [00:00<00:00, 40.62it/s]\n",
            "100%|██████████| 18/18 [07:51<00:00, 26.20s/it]\n"
          ]
        },
        {
          "data": {
            "text/plain": [
              "<matplotlib.legend.Legend at 0x7f70320bef20>"
            ]
          },
          "execution_count": 81,
          "metadata": {},
          "output_type": "execute_result"
        },
        {
          "data": {
            "image/png": "[encoded data removed]",
            "text/plain": [
              "<Figure size 640x480 with 1 Axes>"
            ]
          },
          "metadata": {},
          "output_type": "display_data"
        }
      ],
      "source": [
        "# Hypothesis 5\n",
        "Z6 = cosine_similarity(A.T @ cosine_similarity(user_features_mtx))\n",
        "np.fill_diagonal(Z6, 0)\n",
        "\n",
        "# U5, s5 = hsvd(item_features_mtx, rank = 17, right_similarity=Z5, beta = beta, ret='left')\n",
        "S_I = (1 - beta) * np.eye(Z6.shape[0]) + beta * Z6\n",
        "L_I = cholesky(S_I)\n",
        "R_ = item_features_mtx @ L_I\n",
        "U6, V, m, n = SVD(R_, 18, 1e-3, 0.1, 200) \n",
        "\n",
        "importance6, _ = maxvol_rect(U6[:-1,:].T, dr_min=1)\n",
        "hr6, mrr6, cov6 = test_hypo(config1, importance6)\n",
        "\n",
        "plt.plot(hr6,label='HR@10')\n",
        "plt.plot(mrr6, label='MRR@10')\n",
        "plt.xlabel('number of features')\n",
        "plt.xticks(np.arange(0, len(importance6)+1))\n",
        "# plt.yticks(np.arange(0, 0.007, 0.0008))\n",
        "plt.legend()"
      ]
    }
  ],
  "metadata": {
    "colab": {
      "collapsed_sections": [
        "s4ck9vGSijqN",
        "4kwUWpI4bekS",
        "Wwfgyyxg1glX",
        "IJoQkWU8bTRq",
        "iD6uzUbqbN5H",
        "npE5SKlbbG6K",
        "htJI-BQ1a8C4",
        "bI7zIUhfa_ma",
        "F__YiQricxZa",
        "eKwTa40zcgYX",
        "hfWc--2EcjPN"
      ],
      "provenance": []
    },
    "kernelspec": {
      "display_name": "Python 3",
      "name": "python3"
    },
    "language_info": {
      "name": "python"
    }
  },
  "nbformat": 4,
  "nbformat_minor": 0
}
