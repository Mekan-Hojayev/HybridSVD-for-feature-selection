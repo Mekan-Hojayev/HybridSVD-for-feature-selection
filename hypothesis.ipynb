{
 "cells": [
  {
   "cell_type": "code",
   "execution_count": 7,
   "metadata": {},
   "outputs": [],
   "source": [
    "from hybridSVD import hsvd\n",
    "import pandas as pd\n",
    "import numpy as np\n",
    "import matplotlib.pyplot as plt\n",
    "import seaborn as sns"
   ]
  },
  {
   "attachments": {},
   "cell_type": "markdown",
   "metadata": {},
   "source": [
    "# Download and Read Data"
   ]
  },
  {
   "cell_type": "code",
   "execution_count": 8,
   "metadata": {},
   "outputs": [],
   "source": [
    "ratings = pd.read_csv('ratings.dat', sep='::', names=['userid', 'movieid', 'rating', 'timestamp'])"
   ]
  },
  {
   "cell_type": "code",
   "execution_count": 9,
   "metadata": {},
   "outputs": [],
   "source": [
    "movies = pd.read_csv('movies.dat', sep='::',names=['movieid', 'title', 'genres'],\n",
    "                              encoding='ascii',encoding_errors='replace') # some issue in line 3114"
   ]
  },
  {
   "attachments": {},
   "cell_type": "markdown",
   "metadata": {},
   "source": [
    "# Preprocessing"
   ]
  },
  {
   "cell_type": "code",
   "execution_count": 10,
   "metadata": {},
   "outputs": [],
   "source": [
    "#encode genres\n",
    "movies['genres'] = movies['genres'].apply(lambda x: str(x).split('|'))\n",
    "all_genres = set(list(movies['genres'].sum()))\n",
    "for genre in all_genres:\n",
    "    movies[genre] = movies['genres'].apply(lambda x: genre in x).astype(int)"
   ]
  },
  {
   "cell_type": "code",
   "execution_count": 11,
   "metadata": {},
   "outputs": [],
   "source": [
    "users = pd.read_csv('users.dat', sep='::', names=['userid', 'gender', 'age', 'occupation', 'zip-code'])"
   ]
  },
  {
   "cell_type": "code",
   "execution_count": 12,
   "metadata": {},
   "outputs": [],
   "source": [
    "occupations_dict = {\n",
    "    0:  \"other\",\n",
    "    1:  \"academic/educator\",\n",
    "    2:  \"artist\",\n",
    "    3:  \"clerical/admin\",\n",
    "    4:  \"college/grad student\",\n",
    "    5:  \"customer service\",\n",
    "    6:  \"doctor/health care\",\n",
    "    7:  \"executive/managerial\",\n",
    "    8:  \"farmer\",\n",
    "    9:  \"homemaker\",\n",
    "    10:  \"K-12 student\",\n",
    "    11:  \"lawyer\",\n",
    "    12:  \"programmer\",\n",
    "    13:  \"retired\",\n",
    "    14:  \"sales/marketing\",\n",
    "    15:  \"scientist\",\n",
    "    16:  \"self-employed\",\n",
    "    17:  \"technician/engineer\",\n",
    "    18:  \"tradesman/craftsman\",\n",
    "    19:  \"unemployed\",\n",
    "    20:  \"writer\"\n",
    "}\n",
    "users['occupation'] = users['occupation'].apply(lambda x: occupations_dict[x])\n",
    "occupations_dummies = pd.get_dummies(users['occupation'])\n",
    "age_dummies = pd.get_dummies(users['age'],prefix='age')\n",
    "users['gender'] = users['gender'].apply(lambda x: 1 if x=='M' else 0)\n",
    "users = pd.concat([users, occupations_dummies, age_dummies], axis=1)\n"
   ]
  },
  {
   "attachments": {},
   "cell_type": "markdown",
   "metadata": {},
   "source": [
    "# Split Data and Re-index"
   ]
  },
  {
   "cell_type": "code",
   "execution_count": 13,
   "metadata": {},
   "outputs": [],
   "source": [
    "from dataprep import generate_interactions_matrix, reindex_data, transform_indices, timepoint_split"
   ]
  },
  {
   "cell_type": "code",
   "execution_count": 14,
   "metadata": {},
   "outputs": [
    {
     "data": {
      "text/plain": [
       "((858241, 4), (131944, 4), (347, 4))"
      ]
     },
     "execution_count": 14,
     "metadata": {},
     "output_type": "execute_result"
    }
   ],
   "source": [
    "training_ , testset_ , holdout_ = timepoint_split(ratings, time_split_q=0.99)\n",
    "training_.shape, testset_ .shape, holdout_.shape"
   ]
  },
  {
   "cell_type": "code",
   "execution_count": 15,
   "metadata": {},
   "outputs": [
    {
     "data": {
      "text/plain": [
       "((858241, 4), (131944, 4), (347, 4))"
      ]
     },
     "execution_count": 15,
     "metadata": {},
     "output_type": "execute_result"
    }
   ],
   "source": [
    "training , data_index = transform_indices(training_ , 'userid', 'movieid')\n",
    "# train = reindex_data(train_, data_index)\n",
    "# testset_ = testset.query('movieid in @cold_items')\n",
    "testset = reindex_data(testset_, data_index, fields='items')\n",
    "holdout = reindex_data(holdout_, data_index, fields='items')\n",
    "testset = testset.query('userid >= 0')\n",
    "training.shape, testset.shape, holdout.shape"
   ]
  },
  {
   "cell_type": "code",
   "execution_count": 16,
   "metadata": {},
   "outputs": [
    {
     "data": {
      "text/plain": [
       "{'users': 'userid',\n",
       " 'items': 'movieid',\n",
       " 'feedback': 'rating',\n",
       " 'n_users': 5692,\n",
       " 'n_items': 3687,\n",
       " 'user_index': Int64Index([   1,    2,    3,    4,    5,    6,    7,    8,    9,   10,\n",
       "             ...\n",
       "             6031, 6032, 6033, 6034, 6035, 6036, 6037, 6038, 6039, 6040],\n",
       "            dtype='int64', name='userid', length=5692),\n",
       " 'item_index': Int64Index([   1,    2,    3,    4,    5,    6,    7,    8,    9,   10,\n",
       "             ...\n",
       "             3943, 3944, 3945, 3946, 3947, 3948, 3949, 3950, 3951, 3952],\n",
       "            dtype='int64', name='movieid', length=3687)}"
      ]
     },
     "execution_count": 16,
     "metadata": {},
     "output_type": "execute_result"
    }
   ],
   "source": [
    "data_description = dict(\n",
    "    users = data_index['users'].name,\n",
    "    items = data_index['items'].name,\n",
    "    feedback = 'rating',\n",
    "    n_users = len(data_index['users']),\n",
    "    n_items = len(data_index['items']),\n",
    "    user_index = data_index['users'],\n",
    "    item_index = data_index['items']\n",
    ")\n",
    "data_description"
   ]
  },
  {
   "attachments": {},
   "cell_type": "markdown",
   "metadata": {},
   "source": [
    "# Build Side Features Matrix"
   ]
  },
  {
   "cell_type": "code",
   "execution_count": 17,
   "metadata": {},
   "outputs": [],
   "source": [
    "movie_features_ = movies.drop(['title', 'genres'],axis=1)\n",
    "movie_features = reindex_data(movie_features_, data_index, fields='items')"
   ]
  },
  {
   "cell_type": "code",
   "execution_count": 18,
   "metadata": {},
   "outputs": [],
   "source": [
    "movie_features = movie_features.query('movieid >= 0').sort_values(by='movieid')"
   ]
  },
  {
   "cell_type": "code",
   "execution_count": 19,
   "metadata": {},
   "outputs": [],
   "source": [
    "item_features_mtx = movie_features.iloc[:,1:].values.astype(float).T"
   ]
  },
  {
   "cell_type": "code",
   "execution_count": 20,
   "metadata": {},
   "outputs": [
    {
     "data": {
      "text/plain": [
       "(18, 3687)"
      ]
     },
     "execution_count": 20,
     "metadata": {},
     "output_type": "execute_result"
    }
   ],
   "source": [
    "item_features_mtx.shape"
   ]
  },
  {
   "cell_type": "code",
   "execution_count": 21,
   "metadata": {},
   "outputs": [],
   "source": [
    "user_features_ = users.drop(['age', 'occupation', 'zip-code'], axis=1)\n",
    "user_features = reindex_data(user_features_, data_index, fields='users')"
   ]
  },
  {
   "cell_type": "code",
   "execution_count": 22,
   "metadata": {},
   "outputs": [],
   "source": [
    "user_features = user_features.query('userid >= 0')"
   ]
  },
  {
   "cell_type": "code",
   "execution_count": 23,
   "metadata": {},
   "outputs": [
    {
     "data": {
      "text/plain": [
       "(5692, 29)"
      ]
     },
     "execution_count": 23,
     "metadata": {},
     "output_type": "execute_result"
    }
   ],
   "source": [
    "user_features_mtx = user_features.iloc[:,1:].values.astype(float)\n",
    "user_features_mtx.shape"
   ]
  },
  {
   "attachments": {},
   "cell_type": "markdown",
   "metadata": {},
   "source": [
    "# Apply First Hypothesis for feature importance"
   ]
  },
  {
   "attachments": {},
   "cell_type": "markdown",
   "metadata": {},
   "source": [
    "## PureSVD for feature compression\n",
    "$$\n",
    "U, s, V = \\text{svd}(F_I) \\\\ \n",
    "I_1 = \\text{maxvol}(U)\n",
    "$$"
   ]
  },
  {
   "cell_type": "code",
   "execution_count": 24,
   "metadata": {},
   "outputs": [],
   "source": [
    "U, S = hsvd(item_features_mtx, \n",
    "             ret='left'\n",
    "             )"
   ]
  },
  {
   "cell_type": "code",
   "execution_count": 25,
   "metadata": {},
   "outputs": [
    {
     "name": "stdout",
     "output_type": "stream",
     "text": [
      "[ 9  8 17  0 11 12  3 10 16  1  2  5 14 15 13  4  7  6]\n"
     ]
    }
   ],
   "source": [
    "from maxvol import maxvol, maxvol_rect\n",
    "H1_item_features_importance, _ = maxvol_rect(U[:-1,:].T,dr_min=1)\n",
    "print(H1_item_features_importance)"
   ]
  },
  {
   "attachments": {},
   "cell_type": "markdown",
   "metadata": {},
   "source": [
    "## Hypothesis 1 (HybridSVD for item feature compression, enhanced by items similarity in the collaborative space)\n",
    "$$\n",
    "S_I = \\text{CosineSimilarity}(A^T) \\\\\n",
    "U, s, V = \\text{hsvd}(F_I, \\text{RightSim}=S_I, \\beta) \\\\ \n",
    "I_2 = \\text{maxvol}(U)\n",
    "$$"
   ]
  },
  {
   "cell_type": "code",
   "execution_count": 26,
   "metadata": {},
   "outputs": [],
   "source": [
    "from sklearn.metrics.pairwise import cosine_similarity"
   ]
  },
  {
   "cell_type": "code",
   "execution_count": 27,
   "metadata": {},
   "outputs": [],
   "source": [
    "A = generate_interactions_matrix(training, data_description)"
   ]
  },
  {
   "cell_type": "code",
   "execution_count": 28,
   "metadata": {},
   "outputs": [],
   "source": [
    "S_I = cosine_similarity(A.T,dense_output=False)\n",
    "S_I.setdiag(0)"
   ]
  },
  {
   "cell_type": "code",
   "execution_count": 29,
   "metadata": {},
   "outputs": [],
   "source": [
    "U2, S = hsvd(item_features_mtx, \n",
    "             right_similarity= S_I,\n",
    "             beta= 0.01,\n",
    "             ret='left'\n",
    "             )"
   ]
  },
  {
   "cell_type": "code",
   "execution_count": 30,
   "metadata": {},
   "outputs": [
    {
     "name": "stdout",
     "output_type": "stream",
     "text": [
      "[ 8  9 17  0 11 12  3 10 16  1  2  4 14 15 13  5  7  6]\n"
     ]
    }
   ],
   "source": [
    "H2_item_features_importance, _ = maxvol_rect(U2[:-1,:].T,dr_min=1)\n",
    "print(H2_item_features_importance)"
   ]
  },
  {
   "cell_type": "code",
   "execution_count": null,
   "metadata": {},
   "outputs": [
    {
     "data": {
      "image/png": "[encoded data removed]",
      "text/plain": [
       "<Figure size 1000x800 with 1 Axes>"
      ]
     },
     "metadata": {},
     "output_type": "display_data"
    }
   ],
   "source": [
    "fig, ax = plt.subplots(figsize=(10,8))\n",
    "im = ax.imshow(beta_vs_importance, cmap='bwr')\n",
    "\n",
    "# Show all ticks and label them with the respective list entries\n",
    "ax.set_xticks(np.arange(len(betas)), labels=betas)\n",
    "# ax.set_yticks(np.arange(len(vegetables)), labels=vegetables)\n",
    "\n",
    "# Rotate the tick labels and set their alignment.\n",
    "plt.setp(ax.get_xticklabels(), rotation=90, ha=\"right\",\n",
    "         rotation_mode=\"anchor\")\n",
    "\n",
    "# Loop over data dimensions and create text annotations.\n",
    "for i in range(len(H1_item_features_importance)):\n",
    "    for j in range(len(betas)):\n",
    "        text = ax.text(j, i, int(beta_vs_importance[i, j]),\n",
    "                       ha=\"center\", va=\"center\", color=\"k\")\n",
    "\n",
    "ax.set_title(r\"Feature ranking vs. $\\beta$\")\n",
    "ax.set_xlabel(r'$\\beta$')\n",
    "fig.tight_layout()\n",
    "plt.show()"
   ]
  },
  {
   "attachments": {},
   "cell_type": "markdown",
   "metadata": {},
   "source": [
    "# Hypothesis 2\n",
    "\n",
    "$$\n",
    "B = A F_I^T \\\\\n",
    "S_I = \\text{CosineSimilarity}(B^T) \\\\\n",
    "U, s, V = \\text{hsvd}(F_I, \\text{LeftSim}=S_I, \\alpha) \\\\ \n",
    "I_3 = \\text{maxvol}(U)\n",
    "$$"
   ]
  },
  {
   "cell_type": "code",
   "execution_count": 32,
   "metadata": {},
   "outputs": [
    {
     "data": {
      "text/plain": [
       "(5692, 3687)"
      ]
     },
     "execution_count": 32,
     "metadata": {},
     "output_type": "execute_result"
    }
   ],
   "source": [
    "A.shape"
   ]
  },
  {
   "cell_type": "code",
   "execution_count": 33,
   "metadata": {},
   "outputs": [
    {
     "data": {
      "text/plain": [
       "(18, 3687)"
      ]
     },
     "execution_count": 33,
     "metadata": {},
     "output_type": "execute_result"
    }
   ],
   "source": [
    "item_features_mtx.shape"
   ]
  },
  {
   "cell_type": "code",
   "execution_count": 34,
   "metadata": {},
   "outputs": [],
   "source": [
    "B = A.dot(item_features_mtx.T)"
   ]
  },
  {
   "cell_type": "code",
   "execution_count": 35,
   "metadata": {},
   "outputs": [],
   "source": [
    "S_h = cosine_similarity(B.T)"
   ]
  },
  {
   "cell_type": "code",
   "execution_count": 36,
   "metadata": {},
   "outputs": [
    {
     "data": {
      "text/plain": [
       "(18, 18)"
      ]
     },
     "execution_count": 36,
     "metadata": {},
     "output_type": "execute_result"
    }
   ],
   "source": [
    "S_h.shape"
   ]
  },
  {
   "cell_type": "code",
   "execution_count": 37,
   "metadata": {},
   "outputs": [
    {
     "data": {
      "text/plain": [
       "<matplotlib.image.AxesImage at 0x21083ecca00>"
      ]
     },
     "execution_count": 37,
     "metadata": {},
     "output_type": "execute_result"
    },
    {
     "data": {
      "image/png": "[encoded data removed]",
      "text/plain": [
       "<Figure size 640x480 with 1 Axes>"
      ]
     },
     "metadata": {},
     "output_type": "display_data"
    }
   ],
   "source": [
    "plt.imshow(S_h)"
   ]
  },
  {
   "cell_type": "code",
   "execution_count": 38,
   "metadata": {},
   "outputs": [],
   "source": [
    "np.fill_diagonal(S_h, 0)"
   ]
  },
  {
   "cell_type": "code",
   "execution_count": 39,
   "metadata": {},
   "outputs": [],
   "source": [
    "U3, S3 = hsvd(item_features_mtx, \n",
    "             left_similarity= S_h,\n",
    "             alpha= 0.1,\n",
    "             ret='left'\n",
    "             )"
   ]
  },
  {
   "cell_type": "code",
   "execution_count": 44,
   "metadata": {},
   "outputs": [
    {
     "data": {
      "text/plain": [
       "(18, 18)"
      ]
     },
     "execution_count": 44,
     "metadata": {},
     "output_type": "execute_result"
    }
   ],
   "source": [
    "U3.shape"
   ]
  },
  {
   "cell_type": "code",
   "execution_count": 40,
   "metadata": {},
   "outputs": [
    {
     "name": "stdout",
     "output_type": "stream",
     "text": [
      "[ 9  8 17  1 11 12  3 10 15  0  2  6 14 16 13  4  7  5]\n"
     ]
    }
   ],
   "source": [
    "H3_item_features_importance, _ = maxvol_rect(U3[:-1,:].T,dr_min=1)\n",
    "print(H3_item_features_importance)"
   ]
  },
  {
   "cell_type": "markdown",
   "metadata": {},
   "source": [
    "# Testing Hypothesis"
   ]
  },
  {
   "cell_type": "code",
   "execution_count": null,
   "metadata": {},
   "outputs": [],
   "source": [
    "import warnings\n",
    "from tqdm import tqdm\n",
    "warnings.filterwarnings('ignore')\n",
    "from evaluation import topn_recommendations, topidx, downvote_seen_items\n",
    "def hsvd_svd_recs(item_factors, testset, testset_description, topn = 10):\n",
    "    recs = {} \n",
    "    gp = testset.groupby(testset_description['users'])[\n",
    "        testset_description['items'],testset_description['feedback']\n",
    "        ].agg(list)\n",
    "    for userid, items, ratings in gp.itertuples(name=None):\n",
    "        ratings = np.array(ratings)\n",
    "        rated_items = ratings.dot(item_factors[items])\n",
    "        scores = item_factors.dot(rated_items)\n",
    "        scores[items] = scores.min() - 1\n",
    "        # print(scores.shape)\n",
    "        idx = topidx(scores, topn)\n",
    "        recs[userid] = list(testset_description['user_index'][idx])\n",
    "    return recs"
   ]
  },
  {
   "cell_type": "code",
   "execution_count": null,
   "metadata": {},
   "outputs": [],
   "source": [
    "def model_evaluate(recommended_users, holdout, holdout_description, topn=10):\n",
    "    itemid = holdout_description['items']\n",
    "    holdout_items = holdout[itemid].values\n",
    "    assert recommended_users.shape[0] == len(holdout_items)\n",
    "    hits_mask = recommended_users[:, :topn] == holdout_items.reshape(-1, 1)\n",
    "    # HR calculation\n",
    "    hr = np.mean(hits_mask.any(axis=1))\n",
    "    # MRR calculation\n",
    "    n_test_users = recommended_users.shape[0]\n",
    "    hit_rank = np.where(hits_mask)[1] + 1.0\n",
    "    mrr = np.sum(1 / hit_rank) / n_test_users\n",
    "    # coverage calculation\n",
    "    n_users = holdout_description['n_users']\n",
    "    cov = np.unique(recommended_users).size / n_users\n",
    "    return hr, mrr, cov"
   ]
  },
  {
   "cell_type": "code",
   "execution_count": null,
   "metadata": {},
   "outputs": [],
   "source": [
    "from tqdm import tqdm\n",
    "def test_hypo(config, h_importance, topn = 10):\n",
    "    rank = config['rank']\n",
    "    beta = config['beta']\n",
    "    n_F = len(h_importance)\n",
    "    hr = np.empty((n_F+1))\n",
    "    mrr = np.empty((n_F+1))\n",
    "    cov = np.empty((n_F+1))\n",
    "\n",
    "    _, item_factors = hsvd(A.A, rank=-1, ret='right', beta=beta)\n",
    "    recs = hsvd_svd_recs(item_factors, testset, data_description, topn)\n",
    "    recommended_items = np.array(list(recs.values()))\n",
    "    hr[0], mrr[0], cov[0] = model_evaluate(recommended_items, holdout, data_description, topn)\n",
    "\n",
    "    for i in tqdm(range(1,n_F+1)):\n",
    "        F_I = item_features_mtx[h_importance[:i],:]\n",
    "        S_F = cosine_similarity(F_I.T, dense_output=True)\n",
    "        np.fill_diagonal(S_F, 0)\n",
    "        _, item_factors = hsvd(A.A, rank=rank, right_similarity=S_F, beta=beta, ret='right')\n",
    "        recs = hsvd_svd_recs(item_factors, testset, data_description, topn)\n",
    "        recommended_items = np.array(list(recs.values()))\n",
    "        hr[i], mrr[i], cov[i] = model_evaluate(recommended_items, holdout, data_description, topn)\n",
    "    return hr, mrr, cov\n",
    "        "
   ]
  },
  {
   "cell_type": "code",
   "execution_count": null,
   "metadata": {},
   "outputs": [],
   "source": [
    "config = dict(\n",
    "    rank = 100,\n",
    "    beta = 0.3\n",
    ")"
   ]
  },
  {
   "cell_type": "code",
   "execution_count": null,
   "metadata": {},
   "outputs": [
    {
     "name": "stderr",
     "output_type": "stream",
     "text": [
      "100%|██████████| 18/18 [18:34<00:00, 61.92s/it]\n",
      "100%|██████████| 18/18 [18:45<00:00, 62.53s/it]\n"
     ]
    }
   ],
   "source": [
    "hr2, mrr2, cov2 = test_hypo(config, H2_item_features_importance)\n",
    "hr3, mrr3, cov3 = test_hypo(config, H3_item_features_importance)"
   ]
  },
  {
   "cell_type": "code",
   "execution_count": null,
   "metadata": {},
   "outputs": [
    {
     "data": {
      "text/plain": [
       "<matplotlib.legend.Legend at 0x21083f6e290>"
      ]
     },
     "metadata": {},
     "output_type": "display_data"
    },
    {
     "data": {
      "image/png": "[encoded data removed]",
      "text/plain": [
       "<Figure size 640x480 with 1 Axes>"
      ]
     },
     "metadata": {},
     "output_type": "display_data"
    }
   ],
   "source": [
    "plt.plot(hr2,label='HR@10')\n",
    "plt.plot(mrr2, label='MRR@10')\n",
    "plt.xlabel('number of features')\n",
    "plt.xticks(np.arange(len(H2_item_features_importance)+1))\n",
    "plt.legend()"
   ]
  },
  {
   "cell_type": "code",
   "execution_count": null,
   "metadata": {},
   "outputs": [
    {
     "data": {
      "text/plain": [
       "<matplotlib.legend.Legend at 0x21089f85bd0>"
      ]
     },
     "metadata": {},
     "output_type": "display_data"
    },
    {
     "data": {
      "image/png": "[encoded data removed]",
      "text/plain": [
       "<Figure size 640x480 with 1 Axes>"
      ]
     },
     "metadata": {},
     "output_type": "display_data"
    }
   ],
   "source": [
    "plt.plot(hr3,label='HR@10')\n",
    "plt.plot(mrr3, label='MRR@10')\n",
    "plt.xlabel('number of features')\n",
    "plt.xticks(np.arange(len(H3_item_features_importance)+1))\n",
    "plt.legend()"
   ]
  },
  {
   "attachments": {},
   "cell_type": "markdown",
   "metadata": {},
   "source": [
    "## Hypothesis 3 (HybridSVD for user feature compression, enhanced by users similarity in the collaborative space)\n",
    "$$\n",
    "S_U = \\text{CosineSimilarity}(A) \\\\\n",
    "U, s, V = \\text{hsvd}(F_U, \\text{RightSim}=S_U, \\beta) \\\\ \n",
    "I_2 = \\text{maxvol}(U)\n",
    "$$"
   ]
  },
  {
   "cell_type": "code",
   "execution_count": 41,
   "metadata": {},
   "outputs": [],
   "source": [
    "S_U = cosine_similarity(A,dense_output=False)\n",
    "S_U.setdiag(0)"
   ]
  },
  {
   "cell_type": "code",
   "execution_count": 80,
   "metadata": {},
   "outputs": [],
   "source": [
    "betas = np.linspace(0,0.4,21)\n",
    "beta_vs_importance_3= np.empty((29,len(betas)))\n",
    "for i in range(len(betas)):\n",
    "    U3, S = hsvd(user_features_mtx.T, \n",
    "             right_similarity= S_U,\n",
    "             beta= betas[i],\n",
    "             ret='left'\n",
    "             )\n",
    "    beta_vs_importance_3[:,i], _ = maxvol_rect(U3[:-1,:].T,dr_min=1)"
   ]
  },
  {
   "cell_type": "code",
   "execution_count": 81,
   "metadata": {},
   "outputs": [
    {
     "data": {
      "image/png": "[encoded data removed]",
      "text/plain": [
       "<Figure size 1200x800 with 1 Axes>"
      ]
     },
     "metadata": {},
     "output_type": "display_data"
    }
   ],
   "source": [
    "fig, ax = plt.subplots(figsize=(12,8))\n",
    "im = ax.imshow(beta_vs_importance_3, cmap='bwr')\n",
    "\n",
    "# Show all ticks and label them with the respective list entries\n",
    "ax.set_xticks(np.arange(len(betas)), labels=betas)\n",
    "# ax.set_yticks(np.arange(len(vegetables)), labels=vegetables)\n",
    "\n",
    "# Rotate the tick labels and set their alignment.\n",
    "plt.setp(ax.get_xticklabels(), rotation=90, ha=\"right\",\n",
    "         rotation_mode=\"anchor\")\n",
    "\n",
    "# Loop over data dimensions and create text annotations.\n",
    "for i in range(beta_vs_importance_3.shape[0]):\n",
    "    for j in range(len(betas)):\n",
    "        text = ax.text(j, i, int(beta_vs_importance_3[i, j]),\n",
    "                       ha=\"center\", va=\"center\", color=\"k\")\n",
    "\n",
    "ax.set_title(r\"Feature ranking vs. $\\beta$\")\n",
    "ax.set_xlabel(r'$\\beta$')\n",
    "fig.tight_layout()\n",
    "plt.show()"
   ]
  },
  {
   "cell_type": "code",
   "execution_count": 83,
   "metadata": {},
   "outputs": [
    {
     "name": "stdout",
     "output_type": "stream",
     "text": [
      "[ 0 26 11 15 18  3 21 17  6 27 23 19  5 12 22 14 20 16 10 24 25 13  7 28\n",
      "  2  1  8  4  9]\n"
     ]
    }
   ],
   "source": [
    "U3, S = hsvd(user_features_mtx.T, \n",
    "             right_similarity= S_U,\n",
    "             beta= 0.2,\n",
    "             ret='left'\n",
    "             )\n",
    "H3_user_features_importance, _ = maxvol_rect(U3[:-1,:].T,dr_min=1)\n",
    "print(H3_user_features_importance)"
   ]
  },
  {
   "attachments": {},
   "cell_type": "markdown",
   "metadata": {},
   "source": [
    " 0 26 11 15 18 13 22 17  5 27 23 19  7 12 21 28 20 16 14 24 25 10  6  1 2  3  8  4  9"
   ]
  },
  {
   "attachments": {},
   "cell_type": "markdown",
   "metadata": {},
   "source": [
    "# Testing Hypothesis"
   ]
  },
  {
   "cell_type": "code",
   "execution_count": 42,
   "metadata": {},
   "outputs": [],
   "source": [
    "import warnings\n",
    "from tqdm import tqdm\n",
    "warnings.filterwarnings('ignore')\n",
    "from evaluation import topn_recommendations, topidx, downvote_seen_items\n",
    "def hsvd_svd_recs(item_factors, testset, testset_description, topn = 10):\n",
    "    recs = {} \n",
    "    gp = testset.groupby(testset_description['users'])[\n",
    "        testset_description['items'],testset_description['feedback']\n",
    "        ].agg(list)\n",
    "    for userid, items, ratings in gp.itertuples(name=None):\n",
    "        ratings = np.array(ratings)\n",
    "        rated_items = ratings.dot(item_factors[items])\n",
    "        scores = item_factors.dot(rated_items)\n",
    "        scores[items] = scores.min() - 1\n",
    "        # print(scores.shape)\n",
    "        idx = topidx(scores, topn)\n",
    "        recs[userid] = list(testset_description['user_index'][idx])\n",
    "    return recs"
   ]
  },
  {
   "cell_type": "code",
   "execution_count": 43,
   "metadata": {},
   "outputs": [],
   "source": [
    "def model_evaluate(recommended_users, holdout, holdout_description, topn=10):\n",
    "    itemid = holdout_description['items']\n",
    "    holdout_items = holdout[itemid].values\n",
    "    assert recommended_users.shape[0] == len(holdout_items)\n",
    "    hits_mask = recommended_users[:, :topn] == holdout_items.reshape(-1, 1)\n",
    "    # HR calculation\n",
    "    hr = np.mean(hits_mask.any(axis=1))\n",
    "    # MRR calculation\n",
    "    n_test_users = recommended_users.shape[0]\n",
    "    hit_rank = np.where(hits_mask)[1] + 1.0\n",
    "    mrr = np.sum(1 / hit_rank) / n_test_users\n",
    "    # coverage calculation\n",
    "    n_users = holdout_description['n_users']\n",
    "    cov = np.unique(recommended_users).size / n_users\n",
    "    return hr, mrr, cov"
   ]
  },
  {
   "cell_type": "code",
   "execution_count": 44,
   "metadata": {},
   "outputs": [],
   "source": [
    "from tqdm import tqdm\n",
    "def test_hypo(config, h_importance, topn = 10):\n",
    "    rank = config['rank']\n",
    "    beta = config['beta']\n",
    "    n_F = len(h_importance)\n",
    "    hr = np.empty((n_F+1))\n",
    "    mrr = np.empty((n_F+1))\n",
    "    cov = np.empty((n_F+1))\n",
    "\n",
    "    _, item_factors = hsvd(A.A, rank=-1, ret='right', beta=beta)\n",
    "    recs = hsvd_svd_recs(item_factors, testset, data_description, topn)\n",
    "    recommended_items = np.array(list(recs.values()))\n",
    "    hr[0], mrr[0], cov[0] = model_evaluate(recommended_items, holdout, data_description, topn)\n",
    "\n",
    "    for i in tqdm(range(1,n_F+1)):\n",
    "        F_I = item_features_mtx[h_importance[:i],:]\n",
    "        S_F = cosine_similarity(F_I.T, dense_output=True)\n",
    "        np.fill_diagonal(S_F, 0)\n",
    "        _, item_factors = hsvd(A.A, rank=rank, right_similarity=S_F, beta=beta, ret='right')\n",
    "        recs = hsvd_svd_recs(item_factors, testset, data_description, topn)\n",
    "        recommended_items = np.array(list(recs.values()))\n",
    "        hr[i], mrr[i], cov[i] = model_evaluate(recommended_items, holdout, data_description, topn)\n",
    "    return hr, mrr, cov\n",
    "        "
   ]
  },
  {
   "cell_type": "code",
   "execution_count": 45,
   "metadata": {},
   "outputs": [],
   "source": [
    "config = dict(\n",
    "    rank = 100,\n",
    "    beta = 0.3\n",
    ")"
   ]
  },
  {
   "cell_type": "code",
   "execution_count": 82,
   "metadata": {},
   "outputs": [
    {
     "name": "stderr",
     "output_type": "stream",
     "text": [
      "100%|██████████| 18/18 [06:14<00:00, 20.82s/it]\n"
     ]
    }
   ],
   "source": [
    "hr, mrr, cov = test_hypo(config, H2_item_features_importance,20)"
   ]
  },
  {
   "cell_type": "code",
   "execution_count": 85,
   "metadata": {},
   "outputs": [
    {
     "data": {
      "image/png": "[encoded data removed]",
      "text/plain": [
       "<Figure size 640x480 with 1 Axes>"
      ]
     },
     "metadata": {},
     "output_type": "display_data"
    }
   ],
   "source": [
    "plt.plot(hr,label='HR@10')\n",
    "plt.plot(mrr, label='MRR@10')\n",
    "plt.xlabel('number of features')\n",
    "plt.xticks(np.arange(len(H2_item_features_importance)+1))\n",
    "plt.legend();"
   ]
  },
  {
   "cell_type": "code",
   "execution_count": 36,
   "metadata": {},
   "outputs": [
    {
     "name": "stdout",
     "output_type": "stream",
     "text": [
      "############## 0.0\n"
     ]
    },
    {
     "name": "stderr",
     "output_type": "stream",
     "text": [
      "100%|██████████| 18/18 [05:46<00:00, 19.25s/it]\n"
     ]
    },
    {
     "name": "stdout",
     "output_type": "stream",
     "text": [
      "############## 0.02\n"
     ]
    },
    {
     "name": "stderr",
     "output_type": "stream",
     "text": [
      "100%|██████████| 18/18 [05:43<00:00, 19.08s/it]\n"
     ]
    },
    {
     "name": "stdout",
     "output_type": "stream",
     "text": [
      "############## 0.04\n"
     ]
    },
    {
     "name": "stderr",
     "output_type": "stream",
     "text": [
      "100%|██████████| 18/18 [05:09<00:00, 17.19s/it]\n"
     ]
    },
    {
     "name": "stdout",
     "output_type": "stream",
     "text": [
      "############## 0.06\n"
     ]
    },
    {
     "name": "stderr",
     "output_type": "stream",
     "text": [
      "100%|██████████| 18/18 [05:12<00:00, 17.38s/it]\n"
     ]
    },
    {
     "name": "stdout",
     "output_type": "stream",
     "text": [
      "############## 0.08\n"
     ]
    },
    {
     "name": "stderr",
     "output_type": "stream",
     "text": [
      "100%|██████████| 18/18 [05:12<00:00, 17.35s/it]\n"
     ]
    },
    {
     "name": "stdout",
     "output_type": "stream",
     "text": [
      "############## 0.1\n"
     ]
    },
    {
     "name": "stderr",
     "output_type": "stream",
     "text": [
      "100%|██████████| 18/18 [05:09<00:00, 17.22s/it]\n"
     ]
    },
    {
     "name": "stdout",
     "output_type": "stream",
     "text": [
      "############## 0.12\n"
     ]
    },
    {
     "name": "stderr",
     "output_type": "stream",
     "text": [
      "100%|██████████| 18/18 [05:13<00:00, 17.43s/it]\n"
     ]
    },
    {
     "name": "stdout",
     "output_type": "stream",
     "text": [
      "############## 0.14\n"
     ]
    },
    {
     "name": "stderr",
     "output_type": "stream",
     "text": [
      "100%|██████████| 18/18 [05:15<00:00, 17.54s/it]\n"
     ]
    },
    {
     "name": "stdout",
     "output_type": "stream",
     "text": [
      "############## 0.16\n"
     ]
    },
    {
     "name": "stderr",
     "output_type": "stream",
     "text": [
      "100%|██████████| 18/18 [05:06<00:00, 17.01s/it]\n"
     ]
    },
    {
     "name": "stdout",
     "output_type": "stream",
     "text": [
      "############## 0.18\n"
     ]
    },
    {
     "name": "stderr",
     "output_type": "stream",
     "text": [
      "100%|██████████| 18/18 [05:11<00:00, 17.30s/it]\n"
     ]
    },
    {
     "name": "stdout",
     "output_type": "stream",
     "text": [
      "############## 0.2\n"
     ]
    },
    {
     "name": "stderr",
     "output_type": "stream",
     "text": [
      "100%|██████████| 18/18 [05:11<00:00, 17.29s/it]\n"
     ]
    },
    {
     "name": "stdout",
     "output_type": "stream",
     "text": [
      "############## 0.22\n"
     ]
    },
    {
     "name": "stderr",
     "output_type": "stream",
     "text": [
      "100%|██████████| 18/18 [05:12<00:00, 17.35s/it]\n"
     ]
    },
    {
     "name": "stdout",
     "output_type": "stream",
     "text": [
      "############## 0.24\n"
     ]
    },
    {
     "name": "stderr",
     "output_type": "stream",
     "text": [
      "100%|██████████| 18/18 [05:12<00:00, 17.35s/it]\n"
     ]
    },
    {
     "name": "stdout",
     "output_type": "stream",
     "text": [
      "############## 0.26\n"
     ]
    },
    {
     "name": "stderr",
     "output_type": "stream",
     "text": [
      "100%|██████████| 18/18 [05:01<00:00, 16.74s/it]\n"
     ]
    },
    {
     "name": "stdout",
     "output_type": "stream",
     "text": [
      "############## 0.28\n"
     ]
    },
    {
     "name": "stderr",
     "output_type": "stream",
     "text": [
      "100%|██████████| 18/18 [05:02<00:00, 16.79s/it]\n"
     ]
    },
    {
     "name": "stdout",
     "output_type": "stream",
     "text": [
      "############## 0.3\n"
     ]
    },
    {
     "name": "stderr",
     "output_type": "stream",
     "text": [
      "100%|██████████| 18/18 [05:01<00:00, 16.73s/it]\n"
     ]
    },
    {
     "name": "stdout",
     "output_type": "stream",
     "text": [
      "############## 0.32\n"
     ]
    },
    {
     "name": "stderr",
     "output_type": "stream",
     "text": [
      "100%|██████████| 18/18 [05:05<00:00, 16.99s/it]\n"
     ]
    },
    {
     "name": "stdout",
     "output_type": "stream",
     "text": [
      "############## 0.34\n"
     ]
    },
    {
     "name": "stderr",
     "output_type": "stream",
     "text": [
      "100%|██████████| 18/18 [05:08<00:00, 17.15s/it]\n"
     ]
    },
    {
     "name": "stdout",
     "output_type": "stream",
     "text": [
      "############## 0.36\n"
     ]
    },
    {
     "name": "stderr",
     "output_type": "stream",
     "text": [
      "100%|██████████| 18/18 [05:12<00:00, 17.34s/it]\n"
     ]
    },
    {
     "name": "stdout",
     "output_type": "stream",
     "text": [
      "############## 0.38\n"
     ]
    },
    {
     "name": "stderr",
     "output_type": "stream",
     "text": [
      "100%|██████████| 18/18 [05:12<00:00, 17.37s/it]\n"
     ]
    },
    {
     "name": "stdout",
     "output_type": "stream",
     "text": [
      "############## 0.4\n"
     ]
    },
    {
     "name": "stderr",
     "output_type": "stream",
     "text": [
      "100%|██████████| 18/18 [05:12<00:00, 17.39s/it]\n"
     ]
    }
   ],
   "source": [
    "\n",
    "\n",
    "\n",
    "ranks = [16, 25, 32, 50, 64, 100, 128, 200]\n",
    "betas = np.linspace(0,0.4,21)\n",
    "h_importance = H2_item_features_importance\n",
    "n_F = len(h_importance)\n",
    "topn = 10\n",
    "HR = np.empty((len(betas),len(ranks),len(H2_item_features_importance)+1))\n",
    "MRR = np.empty_like(HR)\n",
    "COV = np.empty_like(HR)\n",
    "\n",
    "for i in range(len(betas)):\n",
    "    print('##############', betas[i])\n",
    "    for k in tqdm(range(1,n_F+1)):\n",
    "        F_I = item_features_mtx[h_importance[:k],:]\n",
    "        S_F = cosine_similarity(F_I.T, dense_output=True)\n",
    "        np.fill_diagonal(S_F, 0)\n",
    "        _, item_factors = hsvd(A.A, rank=-1, ret='right', beta=betas[i])\n",
    "        for j in range(len(ranks)):\n",
    "            recs = hsvd_svd_recs(item_factors[:,:ranks[j]], testset, data_description, topn)\n",
    "            recommended_items = np.array(list(recs.values()))\n",
    "            HR[i,j,k], MRR[i,j,k], COV[i,j,k]  = model_evaluate(recommended_items, holdout, data_description, topn)"
   ]
  },
  {
   "cell_type": "code",
   "execution_count": null,
   "metadata": {},
   "outputs": [],
   "source": []
  },
  {
   "cell_type": "code",
   "execution_count": 41,
   "metadata": {},
   "outputs": [
    {
     "data": {
      "text/plain": [
       "array([4.35780786e+265, 3.45821326e-003, 3.45821326e-003, 3.45821326e-003,\n",
       "       3.45821326e-003, 3.45821326e-003, 3.45821326e-003, 3.45821326e-003,\n",
       "       3.45821326e-003, 3.45821326e-003, 3.45821326e-003, 3.45821326e-003,\n",
       "       3.45821326e-003, 3.45821326e-003, 3.45821326e-003, 3.45821326e-003,\n",
       "       3.45821326e-003, 3.45821326e-003, 3.45821326e-003])"
      ]
     },
     "execution_count": 41,
     "metadata": {},
     "output_type": "execute_result"
    }
   ],
   "source": []
  },
  {
   "cell_type": "code",
   "execution_count": null,
   "metadata": {},
   "outputs": [],
   "source": []
  }
 ],
 "metadata": {
  "kernelspec": {
   "display_name": "Python 3",
   "language": "python",
   "name": "python3"
  },
  "language_info": {
   "codemirror_mode": {
    "name": "ipython",
    "version": 3
   },
   "file_extension": ".py",
   "mimetype": "text/x-python",
   "name": "python",
   "nbconvert_exporter": "python",
   "pygments_lexer": "ipython3",
   "version": "3.10.9"
  },
  "orig_nbformat": 4
 },
 "nbformat": 4,
 "nbformat_minor": 2
}
