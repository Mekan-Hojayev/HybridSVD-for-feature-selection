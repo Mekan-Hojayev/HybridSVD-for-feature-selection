{
 "cells": [
  {
   "cell_type": "code",
   "execution_count": 2,
   "metadata": {},
   "outputs": [],
   "source": [
    "import polara\n",
    "from scipy.sparse import csr_matrix, diags, identity\n",
    "import numpy as np"
   ]
  },
  {
   "cell_type": "code",
   "execution_count": 3,
   "metadata": {},
   "outputs": [],
   "source": [
    "data_ , genres_info = polara.get_movielens_data(\n",
    "    get_genres=True, # get genre information in addition to ratings\n",
    "    split_genres=False,\n",
    "    include_time=True\n",
    ")"
   ]
  },
  {
   "cell_type": "code",
   "execution_count": 4,
   "metadata": {},
   "outputs": [
    {
     "data": {
      "text/plain": [
       "3706"
      ]
     },
     "execution_count": 4,
     "metadata": {},
     "output_type": "execute_result"
    }
   ],
   "source": [
    "data_.movieid.nunique()"
   ]
  },
  {
   "cell_type": "code",
   "execution_count": 5,
   "metadata": {},
   "outputs": [],
   "source": [
    "genres_info['genres'] = genres_info['genres'].apply(lambda x: x.split('|'))\n"
   ]
  },
  {
   "cell_type": "code",
   "execution_count": 6,
   "metadata": {},
   "outputs": [],
   "source": [
    "all_genres = set(genres_info['genres'].sum())"
   ]
  },
  {
   "cell_type": "code",
   "execution_count": 7,
   "metadata": {},
   "outputs": [],
   "source": [
    "for genre in all_genres:\n",
    "    genres_info[genre] = genres_info['genres'].apply(lambda x: genre in x).astype(int)"
   ]
  },
  {
   "cell_type": "code",
   "execution_count": 8,
   "metadata": {},
   "outputs": [
    {
     "data": {
      "text/html": [
       "<div>\n",
       "<style scoped>\n",
       "    .dataframe tbody tr th:only-of-type {\n",
       "        vertical-align: middle;\n",
       "    }\n",
       "\n",
       "    .dataframe tbody tr th {\n",
       "        vertical-align: top;\n",
       "    }\n",
       "\n",
       "    .dataframe thead th {\n",
       "        text-align: right;\n",
       "    }\n",
       "</style>\n",
       "<table border=\"1\" class=\"dataframe\">\n",
       "  <thead>\n",
       "    <tr style=\"text-align: right;\">\n",
       "      <th></th>\n",
       "      <th>movieid</th>\n",
       "      <th>movienm</th>\n",
       "      <th>genres</th>\n",
       "      <th>Children's</th>\n",
       "      <th>Mystery</th>\n",
       "      <th>Sci-Fi</th>\n",
       "      <th>War</th>\n",
       "      <th>Film-Noir</th>\n",
       "      <th>Western</th>\n",
       "      <th>Fantasy</th>\n",
       "      <th>...</th>\n",
       "      <th>Thriller</th>\n",
       "      <th>Drama</th>\n",
       "      <th>Adventure</th>\n",
       "      <th>Romance</th>\n",
       "      <th>Crime</th>\n",
       "      <th>Comedy</th>\n",
       "      <th>Action</th>\n",
       "      <th>Horror</th>\n",
       "      <th>Musical</th>\n",
       "      <th>Animation</th>\n",
       "    </tr>\n",
       "  </thead>\n",
       "  <tbody>\n",
       "    <tr>\n",
       "      <th>0</th>\n",
       "      <td>1</td>\n",
       "      <td>Toy Story (1995)</td>\n",
       "      <td>[Animation, Children's, Comedy]</td>\n",
       "      <td>1</td>\n",
       "      <td>0</td>\n",
       "      <td>0</td>\n",
       "      <td>0</td>\n",
       "      <td>0</td>\n",
       "      <td>0</td>\n",
       "      <td>0</td>\n",
       "      <td>...</td>\n",
       "      <td>0</td>\n",
       "      <td>0</td>\n",
       "      <td>0</td>\n",
       "      <td>0</td>\n",
       "      <td>0</td>\n",
       "      <td>1</td>\n",
       "      <td>0</td>\n",
       "      <td>0</td>\n",
       "      <td>0</td>\n",
       "      <td>1</td>\n",
       "    </tr>\n",
       "    <tr>\n",
       "      <th>1</th>\n",
       "      <td>2</td>\n",
       "      <td>Jumanji (1995)</td>\n",
       "      <td>[Adventure, Children's, Fantasy]</td>\n",
       "      <td>1</td>\n",
       "      <td>0</td>\n",
       "      <td>0</td>\n",
       "      <td>0</td>\n",
       "      <td>0</td>\n",
       "      <td>0</td>\n",
       "      <td>1</td>\n",
       "      <td>...</td>\n",
       "      <td>0</td>\n",
       "      <td>0</td>\n",
       "      <td>1</td>\n",
       "      <td>0</td>\n",
       "      <td>0</td>\n",
       "      <td>0</td>\n",
       "      <td>0</td>\n",
       "      <td>0</td>\n",
       "      <td>0</td>\n",
       "      <td>0</td>\n",
       "    </tr>\n",
       "    <tr>\n",
       "      <th>2</th>\n",
       "      <td>3</td>\n",
       "      <td>Grumpier Old Men (1995)</td>\n",
       "      <td>[Comedy, Romance]</td>\n",
       "      <td>0</td>\n",
       "      <td>0</td>\n",
       "      <td>0</td>\n",
       "      <td>0</td>\n",
       "      <td>0</td>\n",
       "      <td>0</td>\n",
       "      <td>0</td>\n",
       "      <td>...</td>\n",
       "      <td>0</td>\n",
       "      <td>0</td>\n",
       "      <td>0</td>\n",
       "      <td>1</td>\n",
       "      <td>0</td>\n",
       "      <td>1</td>\n",
       "      <td>0</td>\n",
       "      <td>0</td>\n",
       "      <td>0</td>\n",
       "      <td>0</td>\n",
       "    </tr>\n",
       "    <tr>\n",
       "      <th>3</th>\n",
       "      <td>4</td>\n",
       "      <td>Waiting to Exhale (1995)</td>\n",
       "      <td>[Comedy, Drama]</td>\n",
       "      <td>0</td>\n",
       "      <td>0</td>\n",
       "      <td>0</td>\n",
       "      <td>0</td>\n",
       "      <td>0</td>\n",
       "      <td>0</td>\n",
       "      <td>0</td>\n",
       "      <td>...</td>\n",
       "      <td>0</td>\n",
       "      <td>1</td>\n",
       "      <td>0</td>\n",
       "      <td>0</td>\n",
       "      <td>0</td>\n",
       "      <td>1</td>\n",
       "      <td>0</td>\n",
       "      <td>0</td>\n",
       "      <td>0</td>\n",
       "      <td>0</td>\n",
       "    </tr>\n",
       "    <tr>\n",
       "      <th>4</th>\n",
       "      <td>5</td>\n",
       "      <td>Father of the Bride Part II (1995)</td>\n",
       "      <td>[Comedy]</td>\n",
       "      <td>0</td>\n",
       "      <td>0</td>\n",
       "      <td>0</td>\n",
       "      <td>0</td>\n",
       "      <td>0</td>\n",
       "      <td>0</td>\n",
       "      <td>0</td>\n",
       "      <td>...</td>\n",
       "      <td>0</td>\n",
       "      <td>0</td>\n",
       "      <td>0</td>\n",
       "      <td>0</td>\n",
       "      <td>0</td>\n",
       "      <td>1</td>\n",
       "      <td>0</td>\n",
       "      <td>0</td>\n",
       "      <td>0</td>\n",
       "      <td>0</td>\n",
       "    </tr>\n",
       "    <tr>\n",
       "      <th>...</th>\n",
       "      <td>...</td>\n",
       "      <td>...</td>\n",
       "      <td>...</td>\n",
       "      <td>...</td>\n",
       "      <td>...</td>\n",
       "      <td>...</td>\n",
       "      <td>...</td>\n",
       "      <td>...</td>\n",
       "      <td>...</td>\n",
       "      <td>...</td>\n",
       "      <td>...</td>\n",
       "      <td>...</td>\n",
       "      <td>...</td>\n",
       "      <td>...</td>\n",
       "      <td>...</td>\n",
       "      <td>...</td>\n",
       "      <td>...</td>\n",
       "      <td>...</td>\n",
       "      <td>...</td>\n",
       "      <td>...</td>\n",
       "      <td>...</td>\n",
       "    </tr>\n",
       "    <tr>\n",
       "      <th>3878</th>\n",
       "      <td>3948</td>\n",
       "      <td>Meet the Parents (2000)</td>\n",
       "      <td>[Comedy]</td>\n",
       "      <td>0</td>\n",
       "      <td>0</td>\n",
       "      <td>0</td>\n",
       "      <td>0</td>\n",
       "      <td>0</td>\n",
       "      <td>0</td>\n",
       "      <td>0</td>\n",
       "      <td>...</td>\n",
       "      <td>0</td>\n",
       "      <td>0</td>\n",
       "      <td>0</td>\n",
       "      <td>0</td>\n",
       "      <td>0</td>\n",
       "      <td>1</td>\n",
       "      <td>0</td>\n",
       "      <td>0</td>\n",
       "      <td>0</td>\n",
       "      <td>0</td>\n",
       "    </tr>\n",
       "    <tr>\n",
       "      <th>3879</th>\n",
       "      <td>3949</td>\n",
       "      <td>Requiem for a Dream (2000)</td>\n",
       "      <td>[Drama]</td>\n",
       "      <td>0</td>\n",
       "      <td>0</td>\n",
       "      <td>0</td>\n",
       "      <td>0</td>\n",
       "      <td>0</td>\n",
       "      <td>0</td>\n",
       "      <td>0</td>\n",
       "      <td>...</td>\n",
       "      <td>0</td>\n",
       "      <td>1</td>\n",
       "      <td>0</td>\n",
       "      <td>0</td>\n",
       "      <td>0</td>\n",
       "      <td>0</td>\n",
       "      <td>0</td>\n",
       "      <td>0</td>\n",
       "      <td>0</td>\n",
       "      <td>0</td>\n",
       "    </tr>\n",
       "    <tr>\n",
       "      <th>3880</th>\n",
       "      <td>3950</td>\n",
       "      <td>Tigerland (2000)</td>\n",
       "      <td>[Drama]</td>\n",
       "      <td>0</td>\n",
       "      <td>0</td>\n",
       "      <td>0</td>\n",
       "      <td>0</td>\n",
       "      <td>0</td>\n",
       "      <td>0</td>\n",
       "      <td>0</td>\n",
       "      <td>...</td>\n",
       "      <td>0</td>\n",
       "      <td>1</td>\n",
       "      <td>0</td>\n",
       "      <td>0</td>\n",
       "      <td>0</td>\n",
       "      <td>0</td>\n",
       "      <td>0</td>\n",
       "      <td>0</td>\n",
       "      <td>0</td>\n",
       "      <td>0</td>\n",
       "    </tr>\n",
       "    <tr>\n",
       "      <th>3881</th>\n",
       "      <td>3951</td>\n",
       "      <td>Two Family House (2000)</td>\n",
       "      <td>[Drama]</td>\n",
       "      <td>0</td>\n",
       "      <td>0</td>\n",
       "      <td>0</td>\n",
       "      <td>0</td>\n",
       "      <td>0</td>\n",
       "      <td>0</td>\n",
       "      <td>0</td>\n",
       "      <td>...</td>\n",
       "      <td>0</td>\n",
       "      <td>1</td>\n",
       "      <td>0</td>\n",
       "      <td>0</td>\n",
       "      <td>0</td>\n",
       "      <td>0</td>\n",
       "      <td>0</td>\n",
       "      <td>0</td>\n",
       "      <td>0</td>\n",
       "      <td>0</td>\n",
       "    </tr>\n",
       "    <tr>\n",
       "      <th>3882</th>\n",
       "      <td>3952</td>\n",
       "      <td>Contender, The (2000)</td>\n",
       "      <td>[Drama, Thriller]</td>\n",
       "      <td>0</td>\n",
       "      <td>0</td>\n",
       "      <td>0</td>\n",
       "      <td>0</td>\n",
       "      <td>0</td>\n",
       "      <td>0</td>\n",
       "      <td>0</td>\n",
       "      <td>...</td>\n",
       "      <td>1</td>\n",
       "      <td>1</td>\n",
       "      <td>0</td>\n",
       "      <td>0</td>\n",
       "      <td>0</td>\n",
       "      <td>0</td>\n",
       "      <td>0</td>\n",
       "      <td>0</td>\n",
       "      <td>0</td>\n",
       "      <td>0</td>\n",
       "    </tr>\n",
       "  </tbody>\n",
       "</table>\n",
       "<p>3883 rows × 21 columns</p>\n",
       "</div>"
      ],
      "text/plain": [
       "      movieid                             movienm  \\\n",
       "0           1                    Toy Story (1995)   \n",
       "1           2                      Jumanji (1995)   \n",
       "2           3             Grumpier Old Men (1995)   \n",
       "3           4            Waiting to Exhale (1995)   \n",
       "4           5  Father of the Bride Part II (1995)   \n",
       "...       ...                                 ...   \n",
       "3878     3948             Meet the Parents (2000)   \n",
       "3879     3949          Requiem for a Dream (2000)   \n",
       "3880     3950                    Tigerland (2000)   \n",
       "3881     3951             Two Family House (2000)   \n",
       "3882     3952               Contender, The (2000)   \n",
       "\n",
       "                                genres  Children's  Mystery  Sci-Fi  War  \\\n",
       "0      [Animation, Children's, Comedy]           1        0       0    0   \n",
       "1     [Adventure, Children's, Fantasy]           1        0       0    0   \n",
       "2                    [Comedy, Romance]           0        0       0    0   \n",
       "3                      [Comedy, Drama]           0        0       0    0   \n",
       "4                             [Comedy]           0        0       0    0   \n",
       "...                                ...         ...      ...     ...  ...   \n",
       "3878                          [Comedy]           0        0       0    0   \n",
       "3879                           [Drama]           0        0       0    0   \n",
       "3880                           [Drama]           0        0       0    0   \n",
       "3881                           [Drama]           0        0       0    0   \n",
       "3882                 [Drama, Thriller]           0        0       0    0   \n",
       "\n",
       "      Film-Noir  Western  Fantasy  ...  Thriller  Drama  Adventure  Romance  \\\n",
       "0             0        0        0  ...         0      0          0        0   \n",
       "1             0        0        1  ...         0      0          1        0   \n",
       "2             0        0        0  ...         0      0          0        1   \n",
       "3             0        0        0  ...         0      1          0        0   \n",
       "4             0        0        0  ...         0      0          0        0   \n",
       "...         ...      ...      ...  ...       ...    ...        ...      ...   \n",
       "3878          0        0        0  ...         0      0          0        0   \n",
       "3879          0        0        0  ...         0      1          0        0   \n",
       "3880          0        0        0  ...         0      1          0        0   \n",
       "3881          0        0        0  ...         0      1          0        0   \n",
       "3882          0        0        0  ...         1      1          0        0   \n",
       "\n",
       "      Crime  Comedy  Action  Horror  Musical  Animation  \n",
       "0         0       1       0       0        0          1  \n",
       "1         0       0       0       0        0          0  \n",
       "2         0       1       0       0        0          0  \n",
       "3         0       1       0       0        0          0  \n",
       "4         0       1       0       0        0          0  \n",
       "...     ...     ...     ...     ...      ...        ...  \n",
       "3878      0       1       0       0        0          0  \n",
       "3879      0       0       0       0        0          0  \n",
       "3880      0       0       0       0        0          0  \n",
       "3881      0       0       0       0        0          0  \n",
       "3882      0       0       0       0        0          0  \n",
       "\n",
       "[3883 rows x 21 columns]"
      ]
     },
     "execution_count": 8,
     "metadata": {},
     "output_type": "execute_result"
    }
   ],
   "source": [
    "genres_info"
   ]
  },
  {
   "cell_type": "code",
   "execution_count": 9,
   "metadata": {},
   "outputs": [
    {
     "data": {
      "text/plain": [
       "(3883, 18)"
      ]
     },
     "execution_count": 9,
     "metadata": {},
     "output_type": "execute_result"
    }
   ],
   "source": [
    "item_feature_mtx = genres_info.iloc[:,3:]\n",
    "item_feature_mtx.shape"
   ]
  },
  {
   "cell_type": "code",
   "execution_count": 10,
   "metadata": {},
   "outputs": [],
   "source": [
    "item_feature_mtx = csr_matrix(item_feature_mtx.T)"
   ]
  },
  {
   "cell_type": "code",
   "execution_count": 11,
   "metadata": {},
   "outputs": [],
   "source": [
    "from dataprep import generate_interactions_matrix"
   ]
  },
  {
   "cell_type": "code",
   "execution_count": 12,
   "metadata": {},
   "outputs": [],
   "source": [
    "def timepoint_split(data, time_split_q=0.95):\n",
    "    \"\"\"\n",
    "    Split data into training, testset, and holdout datasets based on a timepoint split\n",
    "    and according to the warm-start evaluation strategy.\n",
    "\n",
    "    Parameters\n",
    "    ----------\n",
    "    data : pd.DataFrame\n",
    "        The input dataset containing columns userid, movieid, and timestamp.\n",
    "    time_split_q : float, optional\n",
    "        The quantile value used to split the dataset based on the timestamp column.\n",
    "        Default is 0.95.\n",
    "\n",
    "    Returns\n",
    "    -------\n",
    "    Tuple[pd.DataFrame, pd.DataFrame, pd.DataFrame]\n",
    "        A tuple of three pandas DataFrames: training, testset, and holdout.\n",
    "        training is a subset of data used for training the recommender system.\n",
    "        testset is a subset of data used for generating recommendations for the test users.\n",
    "        holdout is a subset excluded from testset containing only the most recent interactions for each test user.\n",
    "\n",
    "    Notes\n",
    "    -----\n",
    "    The function splits the input data into three subsets: training, testset, and holdout.\n",
    "    The split is performed based on the timestamp column of data, using time_split_q as the quantile value.\n",
    "    The holdout dataset contains only the immediate interactions following the fixed timepoint for each test user from the testset.\n",
    "    The set of users in training is disjoint with the set of users in the testset, which implements the warm-start scenario.\n",
    "    \"\"\"    \n",
    "    timepoint = data.timestamp.quantile(q=time_split_q, interpolation='nearest')\n",
    "    test_ = data.query('timestamp >= @timepoint')\n",
    "    rest_ = data.drop(test_.index)\n",
    "    holdout_ = (\n",
    "        test_\n",
    "        .sort_values('timestamp')\n",
    "        .drop_duplicates(subset=['movieid'], keep='first')\n",
    "    )\n",
    "    # the holdout dataframe contains interactions closest to certain timepoint from the right,\n",
    "    # i.e., the corresponding items are the first in each test user profile after this timepoint\n",
    "    training = rest_.query('movieid not in @holdout_.movieid')\n",
    "    train_users = training.userid.unique()\n",
    "    testset_ = rest_.query('movieid in @holdout_.movieid and userid in @train_users')\n",
    "    test_items = testset_.movieid.unique()\n",
    "    holdout = holdout_.query(\n",
    "        # if user is not in test_users then no evluation is possible,\n",
    "        # if item is not in train_users it's cold start -> must be excluded\n",
    "        'movieid in @test_items and userid in @train_users'\n",
    "        # 'userid in @test_users and movieid in @train_items'\n",
    "    ).sort_values('movieid')\n",
    "    testset = testset_.query(\n",
    "        # make sure testset and holdout contain the same set of users\n",
    "        'movieid in @holdout.movieid'\n",
    "    ).sort_values('movieid')\n",
    "    return training, testset, holdout"
   ]
  },
  {
   "cell_type": "code",
   "execution_count": 13,
   "metadata": {},
   "outputs": [],
   "source": [
    "data_ = data_.query('userid not in [3391, 5950, 5329, 5654, 5484]')"
   ]
  },
  {
   "cell_type": "code",
   "execution_count": 14,
   "metadata": {},
   "outputs": [],
   "source": [
    "training_ , testset_ , holdout = timepoint_split(data_, time_split_q=0.9996)"
   ]
  },
  {
   "cell_type": "code",
   "execution_count": 15,
   "metadata": {},
   "outputs": [
    {
     "data": {
      "text/plain": [
       "((790825, 4), (206411, 4), (337, 4))"
      ]
     },
     "execution_count": 15,
     "metadata": {},
     "output_type": "execute_result"
    }
   ],
   "source": [
    "training_.shape, testset_ .shape, holdout.shape"
   ]
  },
  {
   "cell_type": "code",
   "execution_count": 16,
   "metadata": {},
   "outputs": [
    {
     "data": {
      "text/plain": [
       "4958    61\n",
       "736     37\n",
       "419     23\n",
       "4697    14\n",
       "195     14\n",
       "        ..\n",
       "937      1\n",
       "3562     1\n",
       "1958     1\n",
       "1063     1\n",
       "4312     1\n",
       "Name: userid, Length: 66, dtype: int64"
      ]
     },
     "execution_count": 16,
     "metadata": {},
     "output_type": "execute_result"
    }
   ],
   "source": [
    "holdout.userid.value_counts()"
   ]
  },
  {
   "cell_type": "code",
   "execution_count": 17,
   "metadata": {},
   "outputs": [],
   "source": [
    "from dataprep import transform_indices, reindex_data\n",
    "training , data_index = transform_indices(training_ , 'userid', 'movieid')\n",
    "# train = reindex_data(train_, data_index)\n",
    "# testset_ = testset.query('movieid in @cold_items')\n",
    "testset = reindex_data(testset_, data_index, fields='users')\n",
    "testset = testset.query('userid >= 0')"
   ]
  },
  {
   "cell_type": "code",
   "execution_count": 18,
   "metadata": {},
   "outputs": [
    {
     "data": {
      "text/plain": [
       "((790825, 4), (206411, 4), (337, 4))"
      ]
     },
     "execution_count": 18,
     "metadata": {},
     "output_type": "execute_result"
    }
   ],
   "source": [
    "training.shape, testset.shape, holdout.shape"
   ]
  },
  {
   "cell_type": "code",
   "execution_count": 19,
   "metadata": {},
   "outputs": [],
   "source": [
    "genres = reindex_data(genres_info, data_index, fields='items')"
   ]
  },
  {
   "cell_type": "code",
   "execution_count": 20,
   "metadata": {},
   "outputs": [
    {
     "data": {
      "text/html": [
       "<div>\n",
       "<style scoped>\n",
       "    .dataframe tbody tr th:only-of-type {\n",
       "        vertical-align: middle;\n",
       "    }\n",
       "\n",
       "    .dataframe tbody tr th {\n",
       "        vertical-align: top;\n",
       "    }\n",
       "\n",
       "    .dataframe thead th {\n",
       "        text-align: right;\n",
       "    }\n",
       "</style>\n",
       "<table border=\"1\" class=\"dataframe\">\n",
       "  <thead>\n",
       "    <tr style=\"text-align: right;\">\n",
       "      <th></th>\n",
       "      <th>movieid</th>\n",
       "      <th>movienm</th>\n",
       "      <th>genres</th>\n",
       "      <th>Children's</th>\n",
       "      <th>Mystery</th>\n",
       "      <th>Sci-Fi</th>\n",
       "      <th>War</th>\n",
       "      <th>Film-Noir</th>\n",
       "      <th>Western</th>\n",
       "      <th>Fantasy</th>\n",
       "      <th>...</th>\n",
       "      <th>Thriller</th>\n",
       "      <th>Drama</th>\n",
       "      <th>Adventure</th>\n",
       "      <th>Romance</th>\n",
       "      <th>Crime</th>\n",
       "      <th>Comedy</th>\n",
       "      <th>Action</th>\n",
       "      <th>Horror</th>\n",
       "      <th>Musical</th>\n",
       "      <th>Animation</th>\n",
       "    </tr>\n",
       "  </thead>\n",
       "  <tbody>\n",
       "    <tr>\n",
       "      <th>2</th>\n",
       "      <td>0</td>\n",
       "      <td>Grumpier Old Men (1995)</td>\n",
       "      <td>[Comedy, Romance]</td>\n",
       "      <td>0</td>\n",
       "      <td>0</td>\n",
       "      <td>0</td>\n",
       "      <td>0</td>\n",
       "      <td>0</td>\n",
       "      <td>0</td>\n",
       "      <td>0</td>\n",
       "      <td>...</td>\n",
       "      <td>0</td>\n",
       "      <td>0</td>\n",
       "      <td>0</td>\n",
       "      <td>1</td>\n",
       "      <td>0</td>\n",
       "      <td>1</td>\n",
       "      <td>0</td>\n",
       "      <td>0</td>\n",
       "      <td>0</td>\n",
       "      <td>0</td>\n",
       "    </tr>\n",
       "    <tr>\n",
       "      <th>3</th>\n",
       "      <td>1</td>\n",
       "      <td>Waiting to Exhale (1995)</td>\n",
       "      <td>[Comedy, Drama]</td>\n",
       "      <td>0</td>\n",
       "      <td>0</td>\n",
       "      <td>0</td>\n",
       "      <td>0</td>\n",
       "      <td>0</td>\n",
       "      <td>0</td>\n",
       "      <td>0</td>\n",
       "      <td>...</td>\n",
       "      <td>0</td>\n",
       "      <td>1</td>\n",
       "      <td>0</td>\n",
       "      <td>0</td>\n",
       "      <td>0</td>\n",
       "      <td>1</td>\n",
       "      <td>0</td>\n",
       "      <td>0</td>\n",
       "      <td>0</td>\n",
       "      <td>0</td>\n",
       "    </tr>\n",
       "    <tr>\n",
       "      <th>4</th>\n",
       "      <td>2</td>\n",
       "      <td>Father of the Bride Part II (1995)</td>\n",
       "      <td>[Comedy]</td>\n",
       "      <td>0</td>\n",
       "      <td>0</td>\n",
       "      <td>0</td>\n",
       "      <td>0</td>\n",
       "      <td>0</td>\n",
       "      <td>0</td>\n",
       "      <td>0</td>\n",
       "      <td>...</td>\n",
       "      <td>0</td>\n",
       "      <td>0</td>\n",
       "      <td>0</td>\n",
       "      <td>0</td>\n",
       "      <td>0</td>\n",
       "      <td>1</td>\n",
       "      <td>0</td>\n",
       "      <td>0</td>\n",
       "      <td>0</td>\n",
       "      <td>0</td>\n",
       "    </tr>\n",
       "    <tr>\n",
       "      <th>6</th>\n",
       "      <td>3</td>\n",
       "      <td>Sabrina (1995)</td>\n",
       "      <td>[Comedy, Romance]</td>\n",
       "      <td>0</td>\n",
       "      <td>0</td>\n",
       "      <td>0</td>\n",
       "      <td>0</td>\n",
       "      <td>0</td>\n",
       "      <td>0</td>\n",
       "      <td>0</td>\n",
       "      <td>...</td>\n",
       "      <td>0</td>\n",
       "      <td>0</td>\n",
       "      <td>0</td>\n",
       "      <td>1</td>\n",
       "      <td>0</td>\n",
       "      <td>1</td>\n",
       "      <td>0</td>\n",
       "      <td>0</td>\n",
       "      <td>0</td>\n",
       "      <td>0</td>\n",
       "    </tr>\n",
       "    <tr>\n",
       "      <th>7</th>\n",
       "      <td>4</td>\n",
       "      <td>Tom and Huck (1995)</td>\n",
       "      <td>[Adventure, Children's]</td>\n",
       "      <td>1</td>\n",
       "      <td>0</td>\n",
       "      <td>0</td>\n",
       "      <td>0</td>\n",
       "      <td>0</td>\n",
       "      <td>0</td>\n",
       "      <td>0</td>\n",
       "      <td>...</td>\n",
       "      <td>0</td>\n",
       "      <td>0</td>\n",
       "      <td>1</td>\n",
       "      <td>0</td>\n",
       "      <td>0</td>\n",
       "      <td>0</td>\n",
       "      <td>0</td>\n",
       "      <td>0</td>\n",
       "      <td>0</td>\n",
       "      <td>0</td>\n",
       "    </tr>\n",
       "    <tr>\n",
       "      <th>...</th>\n",
       "      <td>...</td>\n",
       "      <td>...</td>\n",
       "      <td>...</td>\n",
       "      <td>...</td>\n",
       "      <td>...</td>\n",
       "      <td>...</td>\n",
       "      <td>...</td>\n",
       "      <td>...</td>\n",
       "      <td>...</td>\n",
       "      <td>...</td>\n",
       "      <td>...</td>\n",
       "      <td>...</td>\n",
       "      <td>...</td>\n",
       "      <td>...</td>\n",
       "      <td>...</td>\n",
       "      <td>...</td>\n",
       "      <td>...</td>\n",
       "      <td>...</td>\n",
       "      <td>...</td>\n",
       "      <td>...</td>\n",
       "      <td>...</td>\n",
       "    </tr>\n",
       "    <tr>\n",
       "      <th>3877</th>\n",
       "      <td>3363</td>\n",
       "      <td>Get Carter (1971)</td>\n",
       "      <td>[Thriller]</td>\n",
       "      <td>0</td>\n",
       "      <td>0</td>\n",
       "      <td>0</td>\n",
       "      <td>0</td>\n",
       "      <td>0</td>\n",
       "      <td>0</td>\n",
       "      <td>0</td>\n",
       "      <td>...</td>\n",
       "      <td>1</td>\n",
       "      <td>0</td>\n",
       "      <td>0</td>\n",
       "      <td>0</td>\n",
       "      <td>0</td>\n",
       "      <td>0</td>\n",
       "      <td>0</td>\n",
       "      <td>0</td>\n",
       "      <td>0</td>\n",
       "      <td>0</td>\n",
       "    </tr>\n",
       "    <tr>\n",
       "      <th>3879</th>\n",
       "      <td>3364</td>\n",
       "      <td>Requiem for a Dream (2000)</td>\n",
       "      <td>[Drama]</td>\n",
       "      <td>0</td>\n",
       "      <td>0</td>\n",
       "      <td>0</td>\n",
       "      <td>0</td>\n",
       "      <td>0</td>\n",
       "      <td>0</td>\n",
       "      <td>0</td>\n",
       "      <td>...</td>\n",
       "      <td>0</td>\n",
       "      <td>1</td>\n",
       "      <td>0</td>\n",
       "      <td>0</td>\n",
       "      <td>0</td>\n",
       "      <td>0</td>\n",
       "      <td>0</td>\n",
       "      <td>0</td>\n",
       "      <td>0</td>\n",
       "      <td>0</td>\n",
       "    </tr>\n",
       "    <tr>\n",
       "      <th>3880</th>\n",
       "      <td>3365</td>\n",
       "      <td>Tigerland (2000)</td>\n",
       "      <td>[Drama]</td>\n",
       "      <td>0</td>\n",
       "      <td>0</td>\n",
       "      <td>0</td>\n",
       "      <td>0</td>\n",
       "      <td>0</td>\n",
       "      <td>0</td>\n",
       "      <td>0</td>\n",
       "      <td>...</td>\n",
       "      <td>0</td>\n",
       "      <td>1</td>\n",
       "      <td>0</td>\n",
       "      <td>0</td>\n",
       "      <td>0</td>\n",
       "      <td>0</td>\n",
       "      <td>0</td>\n",
       "      <td>0</td>\n",
       "      <td>0</td>\n",
       "      <td>0</td>\n",
       "    </tr>\n",
       "    <tr>\n",
       "      <th>3881</th>\n",
       "      <td>3366</td>\n",
       "      <td>Two Family House (2000)</td>\n",
       "      <td>[Drama]</td>\n",
       "      <td>0</td>\n",
       "      <td>0</td>\n",
       "      <td>0</td>\n",
       "      <td>0</td>\n",
       "      <td>0</td>\n",
       "      <td>0</td>\n",
       "      <td>0</td>\n",
       "      <td>...</td>\n",
       "      <td>0</td>\n",
       "      <td>1</td>\n",
       "      <td>0</td>\n",
       "      <td>0</td>\n",
       "      <td>0</td>\n",
       "      <td>0</td>\n",
       "      <td>0</td>\n",
       "      <td>0</td>\n",
       "      <td>0</td>\n",
       "      <td>0</td>\n",
       "    </tr>\n",
       "    <tr>\n",
       "      <th>3882</th>\n",
       "      <td>3367</td>\n",
       "      <td>Contender, The (2000)</td>\n",
       "      <td>[Drama, Thriller]</td>\n",
       "      <td>0</td>\n",
       "      <td>0</td>\n",
       "      <td>0</td>\n",
       "      <td>0</td>\n",
       "      <td>0</td>\n",
       "      <td>0</td>\n",
       "      <td>0</td>\n",
       "      <td>...</td>\n",
       "      <td>1</td>\n",
       "      <td>1</td>\n",
       "      <td>0</td>\n",
       "      <td>0</td>\n",
       "      <td>0</td>\n",
       "      <td>0</td>\n",
       "      <td>0</td>\n",
       "      <td>0</td>\n",
       "      <td>0</td>\n",
       "      <td>0</td>\n",
       "    </tr>\n",
       "  </tbody>\n",
       "</table>\n",
       "<p>3368 rows × 21 columns</p>\n",
       "</div>"
      ],
      "text/plain": [
       "      movieid                             movienm                   genres  \\\n",
       "2           0             Grumpier Old Men (1995)        [Comedy, Romance]   \n",
       "3           1            Waiting to Exhale (1995)          [Comedy, Drama]   \n",
       "4           2  Father of the Bride Part II (1995)                 [Comedy]   \n",
       "6           3                      Sabrina (1995)        [Comedy, Romance]   \n",
       "7           4                 Tom and Huck (1995)  [Adventure, Children's]   \n",
       "...       ...                                 ...                      ...   \n",
       "3877     3363                   Get Carter (1971)               [Thriller]   \n",
       "3879     3364          Requiem for a Dream (2000)                  [Drama]   \n",
       "3880     3365                    Tigerland (2000)                  [Drama]   \n",
       "3881     3366             Two Family House (2000)                  [Drama]   \n",
       "3882     3367               Contender, The (2000)        [Drama, Thriller]   \n",
       "\n",
       "      Children's  Mystery  Sci-Fi  War  Film-Noir  Western  Fantasy  ...  \\\n",
       "2              0        0       0    0          0        0        0  ...   \n",
       "3              0        0       0    0          0        0        0  ...   \n",
       "4              0        0       0    0          0        0        0  ...   \n",
       "6              0        0       0    0          0        0        0  ...   \n",
       "7              1        0       0    0          0        0        0  ...   \n",
       "...          ...      ...     ...  ...        ...      ...      ...  ...   \n",
       "3877           0        0       0    0          0        0        0  ...   \n",
       "3879           0        0       0    0          0        0        0  ...   \n",
       "3880           0        0       0    0          0        0        0  ...   \n",
       "3881           0        0       0    0          0        0        0  ...   \n",
       "3882           0        0       0    0          0        0        0  ...   \n",
       "\n",
       "      Thriller  Drama  Adventure  Romance  Crime  Comedy  Action  Horror  \\\n",
       "2            0      0          0        1      0       1       0       0   \n",
       "3            0      1          0        0      0       1       0       0   \n",
       "4            0      0          0        0      0       1       0       0   \n",
       "6            0      0          0        1      0       1       0       0   \n",
       "7            0      0          1        0      0       0       0       0   \n",
       "...        ...    ...        ...      ...    ...     ...     ...     ...   \n",
       "3877         1      0          0        0      0       0       0       0   \n",
       "3879         0      1          0        0      0       0       0       0   \n",
       "3880         0      1          0        0      0       0       0       0   \n",
       "3881         0      1          0        0      0       0       0       0   \n",
       "3882         1      1          0        0      0       0       0       0   \n",
       "\n",
       "      Musical  Animation  \n",
       "2           0          0  \n",
       "3           0          0  \n",
       "4           0          0  \n",
       "6           0          0  \n",
       "7           0          0  \n",
       "...       ...        ...  \n",
       "3877        0          0  \n",
       "3879        0          0  \n",
       "3880        0          0  \n",
       "3881        0          0  \n",
       "3882        0          0  \n",
       "\n",
       "[3368 rows x 21 columns]"
      ]
     },
     "execution_count": 20,
     "metadata": {},
     "output_type": "execute_result"
    }
   ],
   "source": [
    "genres = genres.query('movieid >= 0').sort_values(by='movieid')\n",
    "genres"
   ]
  },
  {
   "cell_type": "code",
   "execution_count": 21,
   "metadata": {},
   "outputs": [
    {
     "data": {
      "text/plain": [
       "{'users': 'userid',\n",
       " 'items': 'movieid',\n",
       " 'feedback': 'rating',\n",
       " 'n_users': 6035,\n",
       " 'n_items': 3368,\n",
       " 'user_index': Int64Index([   1,    2,    3,    4,    5,    6,    7,    8,    9,   10,\n",
       "             ...\n",
       "             6031, 6032, 6033, 6034, 6035, 6036, 6037, 6038, 6039, 6040],\n",
       "            dtype='int64', name='userid', length=6035),\n",
       " 'item_index': Int64Index([   3,    4,    5,    7,    8,    9,   10,   11,   13,   14,\n",
       "             ...\n",
       "             3942, 3943, 3944, 3945, 3946, 3947, 3949, 3950, 3951, 3952],\n",
       "            dtype='int64', name='movieid', length=3368)}"
      ]
     },
     "execution_count": 21,
     "metadata": {},
     "output_type": "execute_result"
    }
   ],
   "source": [
    "data_description = dict(\n",
    "    users = data_index['users'].name,\n",
    "    items = data_index['items'].name,\n",
    "    feedback = 'rating',\n",
    "    n_users = len(data_index['users']),\n",
    "    n_items = len(data_index['items']),\n",
    "    user_index = data_index['users'],\n",
    "    item_index = data_index['items']\n",
    ")\n",
    "data_description"
   ]
  },
  {
   "cell_type": "code",
   "execution_count": 22,
   "metadata": {},
   "outputs": [
    {
     "data": {
      "text/plain": [
       "<3368x6035 sparse matrix of type '<class 'numpy.int64'>'\n",
       "\twith 790825 stored elements in Compressed Sparse Column format>"
      ]
     },
     "execution_count": 22,
     "metadata": {},
     "output_type": "execute_result"
    }
   ],
   "source": [
    "user_item_mtx = generate_interactions_matrix(training, data_description)\n",
    "user_item_mtx"
   ]
  },
  {
   "cell_type": "code",
   "execution_count": 23,
   "metadata": {},
   "outputs": [],
   "source": [
    "from sklearn.metrics.pairwise import cosine_similarity\n",
    "def cosine_similarity_zd(matrix):\n",
    "    '''Build cosine similarity matrix with zero diagonal.'''\n",
    "    similarity = cosine_similarity(matrix, dense_output=False)\n",
    "    similarity.setdiag(0)\n",
    "    similarity.eliminate_zeros()\n",
    "    return similarity.tocsr()"
   ]
  },
  {
   "cell_type": "code",
   "execution_count": 24,
   "metadata": {},
   "outputs": [
    {
     "name": "stdout",
     "output_type": "stream",
     "text": [
      "valid for alpha =  0.0\n",
      "valid for alpha =  0.1111111111111111\n",
      "valid for alpha =  0.2222222222222222\n",
      "valid for alpha =  0.3333333333333333\n",
      "valid for alpha =  0.4444444444444444\n",
      "<method-wrapper '__str__' of LinAlgError object at 0x7fad33a59b20>\n",
      "<method-wrapper '__str__' of LinAlgError object at 0x7fad33a59fa0>\n",
      "<method-wrapper '__str__' of LinAlgError object at 0x7fad33a59520>\n",
      "<method-wrapper '__str__' of LinAlgError object at 0x7fad33a59700>\n",
      "<method-wrapper '__str__' of LinAlgError object at 0x7fad33a59b20>\n"
     ]
    }
   ],
   "source": [
    "from scipy.linalg import cholesky\n",
    "Z= cosine_similarity(user_item_mtx)\n",
    "np.fill_diagonal(Z, 0)\n",
    "for alpha in np.linspace(0, 1, 10):\n",
    "    S = (1 - alpha) * identity(Z.shape[0]) + alpha * Z\n",
    "    try:\n",
    "        Ls = cholesky(S.A)\n",
    "    except Exception as e:\n",
    "        print(e.__str__)\n",
    "        continue\n",
    "    print('valid for alpha = ', alpha)\n"
   ]
  },
  {
   "cell_type": "code",
   "execution_count": 25,
   "metadata": {},
   "outputs": [],
   "source": [
    "alpha = 0.3\n",
    "S = (1 - alpha) * identity(Z.shape[0]) + alpha * Z\n",
    "Ls = cholesky(S.A)\n"
   ]
  },
  {
   "cell_type": "markdown",
   "metadata": {},
   "source": [
    "$$S_A = f(A^TA) = L_{S_A} L_{S_A}^T$$\n",
    "$$L_{S_A}^T F_i = U \\Sigma V^T$$\n",
    "$$\\text{feature ranking} = \\text{maxvol}\\left(V\\right)$$\n",
    "\n",
    "$$B = A F_i$$\n",
    "$$S_F = f(B^T B) = L_{S_F} L_{S_F}^T$$\n",
    "$$F_i L_{S_F} =  U \\Sigma V^T$$\n",
    "$$\\text{feature ranking} = \\text{maxvol}\\left(V\\right)$$"
   ]
  },
  {
   "cell_type": "code",
   "execution_count": 26,
   "metadata": {},
   "outputs": [
    {
     "data": {
      "text/plain": [
       "(3368, 3368)"
      ]
     },
     "execution_count": 26,
     "metadata": {},
     "output_type": "execute_result"
    }
   ],
   "source": [
    "Ls.shape "
   ]
  },
  {
   "cell_type": "code",
   "execution_count": 27,
   "metadata": {},
   "outputs": [
    {
     "data": {
      "text/html": [
       "<div>\n",
       "<style scoped>\n",
       "    .dataframe tbody tr th:only-of-type {\n",
       "        vertical-align: middle;\n",
       "    }\n",
       "\n",
       "    .dataframe tbody tr th {\n",
       "        vertical-align: top;\n",
       "    }\n",
       "\n",
       "    .dataframe thead th {\n",
       "        text-align: right;\n",
       "    }\n",
       "</style>\n",
       "<table border=\"1\" class=\"dataframe\">\n",
       "  <thead>\n",
       "    <tr style=\"text-align: right;\">\n",
       "      <th></th>\n",
       "      <th>Children's</th>\n",
       "      <th>Mystery</th>\n",
       "      <th>Sci-Fi</th>\n",
       "      <th>War</th>\n",
       "      <th>Film-Noir</th>\n",
       "      <th>Western</th>\n",
       "      <th>Fantasy</th>\n",
       "      <th>Documentary</th>\n",
       "      <th>Thriller</th>\n",
       "      <th>Drama</th>\n",
       "      <th>Adventure</th>\n",
       "      <th>Romance</th>\n",
       "      <th>Crime</th>\n",
       "      <th>Comedy</th>\n",
       "      <th>Action</th>\n",
       "      <th>Horror</th>\n",
       "      <th>Musical</th>\n",
       "      <th>Animation</th>\n",
       "    </tr>\n",
       "  </thead>\n",
       "  <tbody>\n",
       "    <tr>\n",
       "      <th>2</th>\n",
       "      <td>0</td>\n",
       "      <td>0</td>\n",
       "      <td>0</td>\n",
       "      <td>0</td>\n",
       "      <td>0</td>\n",
       "      <td>0</td>\n",
       "      <td>0</td>\n",
       "      <td>0</td>\n",
       "      <td>0</td>\n",
       "      <td>0</td>\n",
       "      <td>0</td>\n",
       "      <td>1</td>\n",
       "      <td>0</td>\n",
       "      <td>1</td>\n",
       "      <td>0</td>\n",
       "      <td>0</td>\n",
       "      <td>0</td>\n",
       "      <td>0</td>\n",
       "    </tr>\n",
       "    <tr>\n",
       "      <th>3</th>\n",
       "      <td>0</td>\n",
       "      <td>0</td>\n",
       "      <td>0</td>\n",
       "      <td>0</td>\n",
       "      <td>0</td>\n",
       "      <td>0</td>\n",
       "      <td>0</td>\n",
       "      <td>0</td>\n",
       "      <td>0</td>\n",
       "      <td>1</td>\n",
       "      <td>0</td>\n",
       "      <td>0</td>\n",
       "      <td>0</td>\n",
       "      <td>1</td>\n",
       "      <td>0</td>\n",
       "      <td>0</td>\n",
       "      <td>0</td>\n",
       "      <td>0</td>\n",
       "    </tr>\n",
       "    <tr>\n",
       "      <th>4</th>\n",
       "      <td>0</td>\n",
       "      <td>0</td>\n",
       "      <td>0</td>\n",
       "      <td>0</td>\n",
       "      <td>0</td>\n",
       "      <td>0</td>\n",
       "      <td>0</td>\n",
       "      <td>0</td>\n",
       "      <td>0</td>\n",
       "      <td>0</td>\n",
       "      <td>0</td>\n",
       "      <td>0</td>\n",
       "      <td>0</td>\n",
       "      <td>1</td>\n",
       "      <td>0</td>\n",
       "      <td>0</td>\n",
       "      <td>0</td>\n",
       "      <td>0</td>\n",
       "    </tr>\n",
       "    <tr>\n",
       "      <th>6</th>\n",
       "      <td>0</td>\n",
       "      <td>0</td>\n",
       "      <td>0</td>\n",
       "      <td>0</td>\n",
       "      <td>0</td>\n",
       "      <td>0</td>\n",
       "      <td>0</td>\n",
       "      <td>0</td>\n",
       "      <td>0</td>\n",
       "      <td>0</td>\n",
       "      <td>0</td>\n",
       "      <td>1</td>\n",
       "      <td>0</td>\n",
       "      <td>1</td>\n",
       "      <td>0</td>\n",
       "      <td>0</td>\n",
       "      <td>0</td>\n",
       "      <td>0</td>\n",
       "    </tr>\n",
       "    <tr>\n",
       "      <th>7</th>\n",
       "      <td>1</td>\n",
       "      <td>0</td>\n",
       "      <td>0</td>\n",
       "      <td>0</td>\n",
       "      <td>0</td>\n",
       "      <td>0</td>\n",
       "      <td>0</td>\n",
       "      <td>0</td>\n",
       "      <td>0</td>\n",
       "      <td>0</td>\n",
       "      <td>1</td>\n",
       "      <td>0</td>\n",
       "      <td>0</td>\n",
       "      <td>0</td>\n",
       "      <td>0</td>\n",
       "      <td>0</td>\n",
       "      <td>0</td>\n",
       "      <td>0</td>\n",
       "    </tr>\n",
       "    <tr>\n",
       "      <th>...</th>\n",
       "      <td>...</td>\n",
       "      <td>...</td>\n",
       "      <td>...</td>\n",
       "      <td>...</td>\n",
       "      <td>...</td>\n",
       "      <td>...</td>\n",
       "      <td>...</td>\n",
       "      <td>...</td>\n",
       "      <td>...</td>\n",
       "      <td>...</td>\n",
       "      <td>...</td>\n",
       "      <td>...</td>\n",
       "      <td>...</td>\n",
       "      <td>...</td>\n",
       "      <td>...</td>\n",
       "      <td>...</td>\n",
       "      <td>...</td>\n",
       "      <td>...</td>\n",
       "    </tr>\n",
       "    <tr>\n",
       "      <th>3877</th>\n",
       "      <td>0</td>\n",
       "      <td>0</td>\n",
       "      <td>0</td>\n",
       "      <td>0</td>\n",
       "      <td>0</td>\n",
       "      <td>0</td>\n",
       "      <td>0</td>\n",
       "      <td>0</td>\n",
       "      <td>1</td>\n",
       "      <td>0</td>\n",
       "      <td>0</td>\n",
       "      <td>0</td>\n",
       "      <td>0</td>\n",
       "      <td>0</td>\n",
       "      <td>0</td>\n",
       "      <td>0</td>\n",
       "      <td>0</td>\n",
       "      <td>0</td>\n",
       "    </tr>\n",
       "    <tr>\n",
       "      <th>3879</th>\n",
       "      <td>0</td>\n",
       "      <td>0</td>\n",
       "      <td>0</td>\n",
       "      <td>0</td>\n",
       "      <td>0</td>\n",
       "      <td>0</td>\n",
       "      <td>0</td>\n",
       "      <td>0</td>\n",
       "      <td>0</td>\n",
       "      <td>1</td>\n",
       "      <td>0</td>\n",
       "      <td>0</td>\n",
       "      <td>0</td>\n",
       "      <td>0</td>\n",
       "      <td>0</td>\n",
       "      <td>0</td>\n",
       "      <td>0</td>\n",
       "      <td>0</td>\n",
       "    </tr>\n",
       "    <tr>\n",
       "      <th>3880</th>\n",
       "      <td>0</td>\n",
       "      <td>0</td>\n",
       "      <td>0</td>\n",
       "      <td>0</td>\n",
       "      <td>0</td>\n",
       "      <td>0</td>\n",
       "      <td>0</td>\n",
       "      <td>0</td>\n",
       "      <td>0</td>\n",
       "      <td>1</td>\n",
       "      <td>0</td>\n",
       "      <td>0</td>\n",
       "      <td>0</td>\n",
       "      <td>0</td>\n",
       "      <td>0</td>\n",
       "      <td>0</td>\n",
       "      <td>0</td>\n",
       "      <td>0</td>\n",
       "    </tr>\n",
       "    <tr>\n",
       "      <th>3881</th>\n",
       "      <td>0</td>\n",
       "      <td>0</td>\n",
       "      <td>0</td>\n",
       "      <td>0</td>\n",
       "      <td>0</td>\n",
       "      <td>0</td>\n",
       "      <td>0</td>\n",
       "      <td>0</td>\n",
       "      <td>0</td>\n",
       "      <td>1</td>\n",
       "      <td>0</td>\n",
       "      <td>0</td>\n",
       "      <td>0</td>\n",
       "      <td>0</td>\n",
       "      <td>0</td>\n",
       "      <td>0</td>\n",
       "      <td>0</td>\n",
       "      <td>0</td>\n",
       "    </tr>\n",
       "    <tr>\n",
       "      <th>3882</th>\n",
       "      <td>0</td>\n",
       "      <td>0</td>\n",
       "      <td>0</td>\n",
       "      <td>0</td>\n",
       "      <td>0</td>\n",
       "      <td>0</td>\n",
       "      <td>0</td>\n",
       "      <td>0</td>\n",
       "      <td>1</td>\n",
       "      <td>1</td>\n",
       "      <td>0</td>\n",
       "      <td>0</td>\n",
       "      <td>0</td>\n",
       "      <td>0</td>\n",
       "      <td>0</td>\n",
       "      <td>0</td>\n",
       "      <td>0</td>\n",
       "      <td>0</td>\n",
       "    </tr>\n",
       "  </tbody>\n",
       "</table>\n",
       "<p>3368 rows × 18 columns</p>\n",
       "</div>"
      ],
      "text/plain": [
       "      Children's  Mystery  Sci-Fi  War  Film-Noir  Western  Fantasy  \\\n",
       "2              0        0       0    0          0        0        0   \n",
       "3              0        0       0    0          0        0        0   \n",
       "4              0        0       0    0          0        0        0   \n",
       "6              0        0       0    0          0        0        0   \n",
       "7              1        0       0    0          0        0        0   \n",
       "...          ...      ...     ...  ...        ...      ...      ...   \n",
       "3877           0        0       0    0          0        0        0   \n",
       "3879           0        0       0    0          0        0        0   \n",
       "3880           0        0       0    0          0        0        0   \n",
       "3881           0        0       0    0          0        0        0   \n",
       "3882           0        0       0    0          0        0        0   \n",
       "\n",
       "      Documentary  Thriller  Drama  Adventure  Romance  Crime  Comedy  Action  \\\n",
       "2               0         0      0          0        1      0       1       0   \n",
       "3               0         0      1          0        0      0       1       0   \n",
       "4               0         0      0          0        0      0       1       0   \n",
       "6               0         0      0          0        1      0       1       0   \n",
       "7               0         0      0          1        0      0       0       0   \n",
       "...           ...       ...    ...        ...      ...    ...     ...     ...   \n",
       "3877            0         1      0          0        0      0       0       0   \n",
       "3879            0         0      1          0        0      0       0       0   \n",
       "3880            0         0      1          0        0      0       0       0   \n",
       "3881            0         0      1          0        0      0       0       0   \n",
       "3882            0         1      1          0        0      0       0       0   \n",
       "\n",
       "      Horror  Musical  Animation  \n",
       "2          0        0          0  \n",
       "3          0        0          0  \n",
       "4          0        0          0  \n",
       "6          0        0          0  \n",
       "7          0        0          0  \n",
       "...      ...      ...        ...  \n",
       "3877       0        0          0  \n",
       "3879       0        0          0  \n",
       "3880       0        0          0  \n",
       "3881       0        0          0  \n",
       "3882       0        0          0  \n",
       "\n",
       "[3368 rows x 18 columns]"
      ]
     },
     "execution_count": 27,
     "metadata": {},
     "output_type": "execute_result"
    }
   ],
   "source": [
    "train_item_features = genres.iloc[:,3:]\n",
    "train_item_features"
   ]
  },
  {
   "cell_type": "code",
   "execution_count": 36,
   "metadata": {},
   "outputs": [
    {
     "data": {
      "text/plain": [
       "(3368, 18)"
      ]
     },
     "execution_count": 36,
     "metadata": {},
     "output_type": "execute_result"
    }
   ],
   "source": [
    "Fi = np.array(train_item_features)\n",
    "Fi.shape"
   ]
  },
  {
   "cell_type": "code",
   "execution_count": 37,
   "metadata": {},
   "outputs": [],
   "source": [
    "Fi_w = Ls.T.dot(Fi)"
   ]
  },
  {
   "cell_type": "code",
   "execution_count": 38,
   "metadata": {},
   "outputs": [],
   "source": [
    "import matplotlib.pyplot as plt"
   ]
  },
  {
   "cell_type": "code",
   "execution_count": 39,
   "metadata": {},
   "outputs": [
    {
     "data": {
      "text/plain": [
       "[<matplotlib.lines.Line2D at 0x7fad2baa4910>]"
      ]
     },
     "execution_count": 39,
     "metadata": {},
     "output_type": "execute_result"
    },
    {
     "data": {
      "image/png": "[encoded data removed]",
      "text/plain": [
       "<Figure size 640x480 with 1 Axes>"
      ]
     },
     "metadata": {},
     "output_type": "display_data"
    }
   ],
   "source": [
    "U , s, Vh = np.linalg.svd(Fi_w)\n",
    "plt.plot(s**2/np.sum(s**2)) "
   ]
  },
  {
   "cell_type": "code",
   "execution_count": 40,
   "metadata": {},
   "outputs": [
    {
     "data": {
      "image/png": "[encoded data removed]",
      "text/plain": [
       "<Figure size 640x480 with 1 Axes>"
      ]
     },
     "metadata": {},
     "output_type": "display_data"
    }
   ],
   "source": [
    "cum_var = np.cumsum (s**2/np.sum(s**2))\n",
    "plt.plot(cum_var) \n",
    "plt.xticks(np.arange(18));"
   ]
  },
  {
   "cell_type": "code",
   "execution_count": 41,
   "metadata": {},
   "outputs": [],
   "source": [
    "d = 8\n",
    "Fi_w_comp = U[:,:d] @ np.diag(s[:d]) @ Vh[:d]"
   ]
  },
  {
   "cell_type": "code",
   "execution_count": 42,
   "metadata": {},
   "outputs": [
    {
     "data": {
      "text/plain": [
       "(18, 18)"
      ]
     },
     "execution_count": 42,
     "metadata": {},
     "output_type": "execute_result"
    }
   ],
   "source": [
    "Vh.shape"
   ]
  },
  {
   "cell_type": "code",
   "execution_count": 43,
   "metadata": {},
   "outputs": [
    {
     "data": {
      "text/plain": [
       "<matplotlib.image.AxesImage at 0x7fad2b93a8b0>"
      ]
     },
     "execution_count": 43,
     "metadata": {},
     "output_type": "execute_result"
    },
    {
     "data": {
      "image/png": "[encoded data removed]",
      "text/plain": [
       "<Figure size 640x480 with 1 Axes>"
      ]
     },
     "metadata": {},
     "output_type": "display_data"
    }
   ],
   "source": [
    "plt.imshow(Vh)"
   ]
  },
  {
   "cell_type": "code",
   "execution_count": 44,
   "metadata": {},
   "outputs": [
    {
     "data": {
      "text/plain": [
       "array([ 4, 13,  7,  8, 17, 14, 16, 11,  6,  0,  9,  5, 10,  1,  2,  3, 12])"
      ]
     },
     "execution_count": 44,
     "metadata": {},
     "output_type": "execute_result"
    }
   ],
   "source": [
    "from maxvol import maxvol\n",
    "d = 17\n",
    "ranked_features, B = maxvol(Vh[:, :d], e = 1.05, k =100)\n",
    "ranked_features"
   ]
  },
  {
   "cell_type": "code",
   "execution_count": 45,
   "metadata": {},
   "outputs": [],
   "source": [
    "from scipy.sparse.linalg import svds, LinearOperator\n",
    "from scipy.sparse import diags, eye\n",
    "def build_item_hybrid_svd_model(config, data, data_description):\n",
    "    source_matrix = generate_interactions_matrix(data, data_description)\n",
    "    Fi = data_description['item_features']\n",
    "    alpha = config['alpha']\n",
    "    Z = cosine_similarity(Fi)\n",
    "    np.fill_diagonal(cosine_similarity(Fi), 0)\n",
    "    item_feature_similarity_matrix = (1 - alpha) * eye(data_description['n_items']) + alpha * Z\n",
    "    Lsf = cholesky(item_feature_similarity_matrix)\n",
    "\n",
    "    u, s, _ = svds(source_matrix.T.dot(Lsf), k=config['rank'], return_singular_vectors='u')\n",
    "    singular_values = s[::-1]\n",
    "    user_factors = np.ascontiguousarray(u[::-1, :].T)\n",
    "    return user_factors, singular_values"
   ]
  },
  {
   "cell_type": "code",
   "execution_count": 49,
   "metadata": {},
   "outputs": [],
   "source": [
    "data_description['item_features'] = Fi\n",
    "# data_description['item_features'] = eye(data_description['n_items'])\n",
    "config = dict(\n",
    "    rank = 40,\n",
    "    alpha = 0.8\n",
    ")"
   ]
  },
  {
   "cell_type": "code",
   "execution_count": 50,
   "metadata": {},
   "outputs": [],
   "source": [
    "user_factors, singular_values = build_item_hybrid_svd_model(config, training, data_description)"
   ]
  },
  {
   "cell_type": "code",
   "execution_count": 51,
   "metadata": {},
   "outputs": [
    {
     "data": {
      "text/plain": [
       "(40, 6035)"
      ]
     },
     "execution_count": 51,
     "metadata": {},
     "output_type": "execute_result"
    }
   ],
   "source": [
    "user_factors.shape"
   ]
  },
  {
   "cell_type": "code",
   "execution_count": 52,
   "metadata": {},
   "outputs": [],
   "source": [
    "from evaluation import topn_recommendations, topidx, downvote_seen_items\n",
    "def hsvd_svd_recs(user_factors, testset, testset_description, topn = 20):\n",
    "    recs = {} \n",
    "    gp = testset.groupby(testset_description['items'])[\n",
    "        testset_description['users'],testset_description['feedback']\n",
    "        ].agg(list)\n",
    "    for itemid, users, ratings in gp.itertuples(name=None):\n",
    "        ratings = np.array(ratings)\n",
    "        rated_users = ratings.dot(user_factors[:,users].T)\n",
    "        scores = rated_users.dot(user_factors)\n",
    "        scores[users] = scores.min() - 1\n",
    "        # print(scores.shape)\n",
    "        idx = topidx(scores, topn)\n",
    "        recs[itemid] = list(testset_description['user_index'][idx])\n",
    "    return recs\n",
    "    "
   ]
  },
  {
   "cell_type": "code",
   "execution_count": 53,
   "metadata": {},
   "outputs": [],
   "source": [
    "topn = 20"
   ]
  },
  {
   "cell_type": "code",
   "execution_count": 54,
   "metadata": {},
   "outputs": [
    {
     "name": "stderr",
     "output_type": "stream",
     "text": [
      "/tmp/ipykernel_342925/4288276543.py:4: FutureWarning: Indexing with multiple keys (implicitly converted to a tuple of keys) will be deprecated, use a list instead.\n",
      "  gp = testset.groupby(testset_description['items'])[\n"
     ]
    }
   ],
   "source": [
    "recs = hsvd_svd_recs(user_factors, testset, data_description, topn)"
   ]
  },
  {
   "cell_type": "code",
   "execution_count": 55,
   "metadata": {},
   "outputs": [],
   "source": [
    "def model_evaluate(recommended_users, holdout, holdout_description, topn=10):\n",
    "    userid = holdout_description['users']\n",
    "    holdout_users = holdout[userid].values\n",
    "    assert recommended_users.shape[0] == len(holdout_users)\n",
    "    hits_mask = recommended_users[:, :topn] == holdout_users.reshape(-1, 1)\n",
    "    # HR calculation\n",
    "    hr = np.mean(hits_mask.any(axis=1))\n",
    "    # MRR calculation\n",
    "    n_test_users = recommended_users.shape[0]\n",
    "    hit_rank = np.where(hits_mask)[1] + 1.0\n",
    "    mrr = np.sum(1 / hit_rank) / n_test_users\n",
    "    # coverage calculation\n",
    "    n_users = holdout_description['n_users']\n",
    "    cov = np.unique(recommended_users).size / n_users\n",
    "    return hr, mrr, cov"
   ]
  },
  {
   "cell_type": "code",
   "execution_count": 56,
   "metadata": {},
   "outputs": [
    {
     "data": {
      "text/plain": [
       "(0.017804154302670624, 0.0021874638714401325, 0.12029826014913007)"
      ]
     },
     "execution_count": 56,
     "metadata": {},
     "output_type": "execute_result"
    }
   ],
   "source": [
    "recommended_users = np.array(list(recs.values()))\n",
    "holdout_description = data_description.copy()\n",
    "model_evaluate(recommended_users, holdout, holdout_description, topn)"
   ]
  },
  {
   "cell_type": "code",
   "execution_count": 57,
   "metadata": {},
   "outputs": [],
   "source": [
    "random_recs = np.random.choice(data_description['user_index'], recommended_users.shape)"
   ]
  },
  {
   "cell_type": "code",
   "execution_count": 58,
   "metadata": {},
   "outputs": [
    {
     "data": {
      "text/plain": [
       "(0.005934718100890208, 0.003195617438940881, 0.6687655343827672)"
      ]
     },
     "execution_count": 58,
     "metadata": {},
     "output_type": "execute_result"
    }
   ],
   "source": [
    "model_evaluate(random_recs, holdout, holdout_description, topn)"
   ]
  },
  {
   "cell_type": "code",
   "execution_count": 59,
   "metadata": {},
   "outputs": [
    {
     "data": {
      "text/plain": [
       "(337, 20)"
      ]
     },
     "execution_count": 59,
     "metadata": {},
     "output_type": "execute_result"
    }
   ],
   "source": [
    "recommended_users.shape\n"
   ]
  },
  {
   "cell_type": "code",
   "execution_count": 60,
   "metadata": {},
   "outputs": [
    {
     "data": {
      "text/plain": [
       "array([[1631, 2563, 3553, ..., 2601, 4054, 3413],\n",
       "       [5148, 2563, 4054, ..., 1951, 1527, 3730],\n",
       "       [5306, 2445, 5146, ..., 2497, 2596, 3019],\n",
       "       ...,\n",
       "       [4357,  195, 5845, ..., 3345, 2353, 4343],\n",
       "       [4296, 1548, 5889, ..., 4720,  376, 4007],\n",
       "       [2744, 1022, 4296, ..., 3345, 4764, 1032]])"
      ]
     },
     "execution_count": 60,
     "metadata": {},
     "output_type": "execute_result"
    }
   ],
   "source": [
    "recommended_users"
   ]
  },
  {
   "cell_type": "code",
   "execution_count": 61,
   "metadata": {},
   "outputs": [
    {
     "data": {
      "text/plain": [
       "(3368, 18)"
      ]
     },
     "execution_count": 61,
     "metadata": {},
     "output_type": "execute_result"
    }
   ],
   "source": [
    "Fi.shape"
   ]
  },
  {
   "cell_type": "code",
   "execution_count": 99,
   "metadata": {},
   "outputs": [
    {
     "ename": "NameError",
     "evalue": "name 'holdout_' is not defined",
     "output_type": "error",
     "traceback": [
      "\u001b[0;31m---------------------------------------------------------------------------\u001b[0m",
      "\u001b[0;31mNameError\u001b[0m                                 Traceback (most recent call last)",
      "Cell \u001b[0;32mIn[99], line 1\u001b[0m\n\u001b[0;32m----> 1\u001b[0m holdout_\u001b[39m.\u001b[39muserid\u001b[39m.\u001b[39mvalue_counts()\n",
      "\u001b[0;31mNameError\u001b[0m: name 'holdout_' is not defined"
     ]
    }
   ],
   "source": [
    "holdout_.userid.value_counts()"
   ]
  },
  {
   "cell_type": "code",
   "execution_count": 66,
   "metadata": {},
   "outputs": [
    {
     "name": "stdout",
     "output_type": "stream",
     "text": [
      "1\t30\t0.1\t0.01483679525222552\t0.00197334811578135\t0.11483015741507871\n",
      "1\t30\t0.30000000000000004\t0.017804154302670624\t0.0018701842754906117\t0.1131731565865783\n",
      "1\t30\t0.5\t0.020771513353115726\t0.0023295489541780338\t0.11300745650372825\n",
      "1\t30\t0.7000000000000001\t0.020771513353115726\t0.002734316458352067\t0.11449875724937862\n",
      "1\t30\t0.9\t0.017804154302670624\t0.002621862970527659\t0.11516155758077878\n",
      "2\t30\t0.1\t0.01483679525222552\t0.0018339927464556545\t0.11449875724937862\n",
      "2\t30\t0.30000000000000004\t0.020771513353115726\t0.002814281004191983\t0.11549295774647887\n",
      "2\t30\t0.5\t0.020771513353115726\t0.002843719090009891\t0.11532725766362883\n",
      "2\t30\t0.7000000000000001\t0.020771513353115726\t0.0027147061642610604\t0.11582435791217896\n",
      "2\t30\t0.9\t0.017804154302670624\t0.002340123172729212\t0.11648715824357912\n",
      "3\t30\t0.1\t0.008902077151335312\t0.0012734915924826906\t0.11052195526097763\n",
      "3\t30\t0.30000000000000004\t0.017804154302670624\t0.00305549215044764\t0.11267605633802817\n",
      "3\t30\t0.5\t0.020771513353115726\t0.0034528085793117808\t0.1111847555923778\n",
      "3\t30\t0.7000000000000001\t0.020771513353115726\t0.0033671282558522912\t0.11019055509527755\n",
      "3\t30\t0.9\t0.017804154302670624\t0.0022415707914692764\t0.10737365368682684\n",
      "4\t30\t0.1\t0.01483679525222552\t0.0017821817154161368\t0.11284175642087821\n",
      "4\t30\t0.30000000000000004\t0.017804154302670624\t0.002753049785690735\t0.11284175642087821\n",
      "4\t30\t0.5\t0.01483679525222552\t0.002594191169858826\t0.1140016570008285\n",
      "4\t30\t0.7000000000000001\t0.020771513353115726\t0.0029385097263435545\t0.11151615575807788\n",
      "4\t30\t0.9\t0.017804154302670624\t0.0025385837608508967\t0.10820215410107704\n",
      "5\t30\t0.1\t0.01483679525222552\t0.001585500669110374\t0.11234465617232808\n",
      "5\t30\t0.30000000000000004\t0.020771513353115726\t0.002931706570625827\t0.11433305716652858\n",
      "5\t30\t0.5\t0.01483679525222552\t0.0025057698648203097\t0.11267605633802817\n",
      "5\t30\t0.7000000000000001\t0.020771513353115726\t0.004874454156615092\t0.11019055509527755\n",
      "5\t30\t0.9\t0.017804154302670624\t0.0028299729207391976\t0.10538525269262634\n",
      "6\t30\t0.1\t0.01483679525222552\t0.0017359466041609519\t0.11135045567522783\n",
      "6\t30\t0.30000000000000004\t0.008902077151335312\t0.0009537939805002118\t0.1140016570008285\n",
      "6\t30\t0.5\t0.011869436201780416\t0.0010668362300409778\t0.11217895608947805\n",
      "6\t30\t0.7000000000000001\t0.017804154302670624\t0.0021307286515001647\t0.10853355426677713\n",
      "6\t30\t0.9\t0.017804154302670624\t0.002313072944027184\t0.10555095277547638\n",
      "7\t30\t0.1\t0.011869436201780416\t0.002072596178874486\t0.1091963545981773\n",
      "7\t30\t0.30000000000000004\t0.008902077151335312\t0.001162215628090999\t0.1131731565865783\n",
      "7\t30\t0.5\t0.008902077151335312\t0.000876821132951072\t0.1091963545981773\n",
      "7\t30\t0.7000000000000001\t0.01483679525222552\t0.0014561147721385108\t0.10787075393537697\n",
      "7\t30\t0.9\t0.01483679525222552\t0.0015386963497224311\t0.10538525269262634\n",
      "8\t30\t0.1\t0.008902077151335312\t0.001942913663981913\t0.11217895608947805\n",
      "8\t30\t0.30000000000000004\t0.008902077151335312\t0.0007253544345532475\t0.11416735708367855\n",
      "8\t30\t0.5\t0.002967359050445104\t0.0002472799208704253\t0.10869925434962717\n",
      "8\t30\t0.7000000000000001\t0.005934718100890208\t0.00044510385756676567\t0.1083678541839271\n",
      "8\t30\t0.9\t0.011869436201780416\t0.001347193854612252\t0.10289975144987573\n",
      "9\t30\t0.1\t0.008902077151335312\t0.0013105835806132542\t0.10886495443247722\n",
      "9\t30\t0.30000000000000004\t0.002967359050445104\t0.00019782393669634025\t0.10952775476387738\n",
      "9\t30\t0.5\t0.008902077151335312\t0.0005511768733971561\t0.10787075393537697\n",
      "9\t30\t0.7000000000000001\t0.008902077151335312\t0.000702081030236031\t0.10571665285832643\n",
      "9\t30\t0.9\t0.011869436201780416\t0.0010668362300409776\t0.10339685169842584\n",
      "10\t30\t0.1\t0.005934718100890208\t0.0008902077151335311\t0.10505385252692627\n",
      "10\t30\t0.30000000000000004\t0.008902077151335312\t0.0008548820121520418\t0.10770505385252693\n",
      "10\t30\t0.5\t0.005934718100890208\t0.0004817141315657636\t0.10753935376967688\n",
      "10\t30\t0.7000000000000001\t0.011869436201780416\t0.000899601682437853\t0.1052195526097763\n",
      "10\t30\t0.9\t0.011869436201780416\t0.0011114009630330106\t0.09908864954432477\n",
      "11\t30\t0.1\t0.005934718100890208\t0.0009163902949903997\t0.1063794531897266\n",
      "11\t30\t0.30000000000000004\t0.008902077151335312\t0.0013657460244997336\t0.1083678541839271\n",
      "11\t30\t0.5\t0.011869436201780416\t0.0010775409885202172\t0.10770505385252693\n",
      "11\t30\t0.7000000000000001\t0.008902077151335312\t0.0008980165547399656\t0.10671085335542668\n",
      "11\t30\t0.9\t0.0\t0.0\t0.09991714995857498\n",
      "12\t30\t0.1\t0.005934718100890208\t0.000609368376430691\t0.10869925434962717\n",
      "12\t30\t0.30000000000000004\t0.008902077151335312\t0.0008902077151335311\t0.10704225352112676\n",
      "12\t30\t0.5\t0.008902077151335312\t0.0014713155291790306\t0.10869925434962717\n",
      "12\t30\t0.7000000000000001\t0.005934718100890208\t0.0006406797949824656\t0.10538525269262634\n",
      "12\t30\t0.9\t0.0\t0.0\t0.09875724937862469\n",
      "13\t30\t0.1\t0.005934718100890208\t0.0006507366338695403\t0.10770505385252693\n",
      "13\t30\t0.30000000000000004\t0.005934718100890208\t0.0005042570935396909\t0.10455675227837614\n",
      "13\t30\t0.5\t0.005934718100890208\t0.0004675838503731679\t0.10720795360397681\n",
      "13\t30\t0.7000000000000001\t0.005934718100890208\t0.00035400072882502994\t0.10588235294117647\n",
      "13\t30\t0.9\t0.005934718100890208\t0.00030454474465094487\t0.09776304888152444\n",
      "14\t30\t0.1\t0.002967359050445104\t0.0004945598417408506\t0.10505385252692627\n",
      "14\t30\t0.30000000000000004\t0.002967359050445104\t0.00019782393669634025\t0.10538525269262634\n",
      "14\t30\t0.5\t0.0\t0.0\t0.10820215410107704\n",
      "14\t30\t0.7000000000000001\t0.0\t0.0\t0.10538525269262634\n",
      "14\t30\t0.9\t0.005934718100890208\t0.0003338278931750742\t0.09328914664457333\n",
      "15\t30\t0.1\t0.002967359050445104\t0.000370919881305638\t0.10555095277547638\n",
      "15\t30\t0.30000000000000004\t0.002967359050445104\t0.000185459940652819\t0.1043910521955261\n",
      "15\t30\t0.5\t0.0\t0.0\t0.10571665285832643\n",
      "15\t30\t0.7000000000000001\t0.005934718100890208\t0.00030454474465094487\t0.1043910521955261\n",
      "15\t30\t0.9\t0.005934718100890208\t0.0003832838773491592\t0.09809444904722453\n",
      "16\t30\t0.1\t0.002967359050445104\t0.0004945598417408506\t0.10538525269262634\n",
      "16\t30\t0.30000000000000004\t0.002967359050445104\t0.000185459940652819\t0.10555095277547638\n",
      "16\t30\t0.5\t0.002967359050445104\t0.00015617679212868966\t0.10753935376967688\n",
      "16\t30\t0.7000000000000001\t0.002967359050445104\t0.00014836795252225521\t0.10372825186412593\n",
      "16\t30\t0.9\t0.005934718100890208\t0.0003626772172766238\t0.09792874896437448\n"
     ]
    }
   ],
   "source": [
    "import warnings\n",
    "warnings.filterwarnings('ignore')\n",
    "best_scores = {}\n",
    "for n_f in range(1,17):\n",
    "    best_hr = 0\n",
    "    best_hp = None\n",
    "    for rank in [ 30]:\n",
    "        for alpha in np.linspace(0.1, 0.9, 5):\n",
    "            try:\n",
    "                data_description['item_features'] = Fi[:, ranked_features[:n_f]]\n",
    "                config = dict(\n",
    "                    rank = rank,\n",
    "                    alpha = alpha\n",
    "                )\n",
    "                user_factors, singular_values = build_item_hybrid_svd_model(config, training, data_description)\n",
    "                recs = hsvd_svd_recs(user_factors, testset, data_description, topn)\n",
    "                recommended_users = np.array(list(recs.values()))\n",
    "                hr, mrr, cov = model_evaluate(recommended_users, holdout, holdout_description, topn)\n",
    "                print(n_f, rank, alpha, hr, mrr, cov, sep='\\t')\n",
    "                if hr > best_hr:\n",
    "                    best_hr = hr\n",
    "                    best_hp = (rank, alpha)\n",
    "            except Exception as e:\n",
    "                print(e.__str__)\n",
    "    best_scores[n_f] = (best_hr, best_hp)\n",
    "        "
   ]
  },
  {
   "cell_type": "code",
   "execution_count": 67,
   "metadata": {},
   "outputs": [
    {
     "data": {
      "text/plain": [
       "{1: (0.020771513353115726, (30, 0.5)),\n",
       " 2: (0.020771513353115726, (30, 0.30000000000000004)),\n",
       " 3: (0.020771513353115726, (30, 0.5)),\n",
       " 4: (0.020771513353115726, (30, 0.7000000000000001)),\n",
       " 5: (0.020771513353115726, (30, 0.30000000000000004)),\n",
       " 6: (0.017804154302670624, (30, 0.7000000000000001)),\n",
       " 7: (0.01483679525222552, (30, 0.7000000000000001)),\n",
       " 8: (0.011869436201780416, (30, 0.9)),\n",
       " 9: (0.011869436201780416, (30, 0.9)),\n",
       " 10: (0.011869436201780416, (30, 0.7000000000000001)),\n",
       " 11: (0.011869436201780416, (30, 0.5)),\n",
       " 12: (0.008902077151335312, (30, 0.30000000000000004)),\n",
       " 13: (0.005934718100890208, (30, 0.1)),\n",
       " 14: (0.005934718100890208, (30, 0.9)),\n",
       " 15: (0.005934718100890208, (30, 0.7000000000000001)),\n",
       " 16: (0.005934718100890208, (30, 0.9))}"
      ]
     },
     "execution_count": 67,
     "metadata": {},
     "output_type": "execute_result"
    }
   ],
   "source": [
    "best_scores"
   ]
  },
  {
   "cell_type": "code",
   "execution_count": 68,
   "metadata": {},
   "outputs": [],
   "source": [
    "hrs = [i[0] for i in best_scores.values()]"
   ]
  },
  {
   "cell_type": "code",
   "execution_count": 70,
   "metadata": {},
   "outputs": [
    {
     "data": {
      "text/plain": [
       "Text(0, 0.5, 'HR@20')"
      ]
     },
     "execution_count": 70,
     "metadata": {},
     "output_type": "execute_result"
    },
    {
     "data": {
      "image/png": "[encoded data removed]",
      "text/plain": [
       "<Figure size 640x480 with 1 Axes>"
      ]
     },
     "metadata": {},
     "output_type": "display_data"
    }
   ],
   "source": [
    "plt.plot(hrs)\n",
    "plt.xlabel('number of features')\n",
    "plt.ylabel('HR@20')"
   ]
  },
  {
   "cell_type": "code",
   "execution_count": null,
   "metadata": {},
   "outputs": [],
   "source": []
  }
 ],
 "metadata": {
  "kernelspec": {
   "display_name": "Python 3",
   "language": "python",
   "name": "python3"
  },
  "language_info": {
   "codemirror_mode": {
    "name": "ipython",
    "version": 3
   },
   "file_extension": ".py",
   "mimetype": "text/x-python",
   "name": "python",
   "nbconvert_exporter": "python",
   "pygments_lexer": "ipython3",
   "version": "3.9.16"
  },
  "orig_nbformat": 4
 },
 "nbformat": 4,
 "nbformat_minor": 2
}
